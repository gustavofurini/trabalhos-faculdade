{
  "cells": [
    {
      "cell_type": "markdown",
      "metadata": {
        "id": "UQF5CZJTKsAA"
      },
      "source": [
        "# SOMATIVA 01"
      ]
    },
    {
      "cell_type": "markdown",
      "metadata": {
        "id": "2tRO1sroKsAB"
      },
      "source": [
        "## Estudante"
      ]
    },
    {
      "cell_type": "code",
      "execution_count": 49,
      "metadata": {
        "id": "DbNcNw_BKsAB"
      },
      "outputs": [],
      "source": [
        "# Colocar seu nome aqui\n",
        "# Desconto de 0,5 pontos se não colocar o nome\n",
        "# GUSTAVO FURINI"
      ]
    },
    {
      "cell_type": "markdown",
      "metadata": {
        "id": "J47nksFjKsAC"
      },
      "source": [
        "## Instalar bibliotecas"
      ]
    },
    {
      "cell_type": "code",
      "execution_count": 50,
      "metadata": {
        "colab": {
          "base_uri": "https://localhost:8080/"
        },
        "id": "s6YnCA7GKsAC",
        "outputId": "fd5b34ab-5dad-4286-fd6b-42e86b96b079"
      },
      "outputs": [
        {
          "output_type": "stream",
          "name": "stdout",
          "text": [
            "Found existing installation: scikit-learn 1.5.2\n",
            "Uninstalling scikit-learn-1.5.2:\n",
            "  Successfully uninstalled scikit-learn-1.5.2\n",
            "Collecting scikit-learn\n",
            "  Using cached scikit_learn-1.5.2-cp310-cp310-manylinux_2_17_x86_64.manylinux2014_x86_64.whl.metadata (13 kB)\n",
            "Requirement already satisfied: numpy>=1.19.5 in /usr/local/lib/python3.10/dist-packages (from scikit-learn) (1.26.4)\n",
            "Requirement already satisfied: scipy>=1.6.0 in /usr/local/lib/python3.10/dist-packages (from scikit-learn) (1.11.4)\n",
            "Requirement already satisfied: joblib>=1.2.0 in /usr/local/lib/python3.10/dist-packages (from scikit-learn) (1.4.2)\n",
            "Requirement already satisfied: threadpoolctl>=3.1.0 in /usr/local/lib/python3.10/dist-packages (from scikit-learn) (3.5.0)\n",
            "Using cached scikit_learn-1.5.2-cp310-cp310-manylinux_2_17_x86_64.manylinux2014_x86_64.whl (13.3 MB)\n",
            "Installing collected packages: scikit-learn\n",
            "Successfully installed scikit-learn-1.5.2\n",
            "Requirement already satisfied: scikit-plot in /usr/local/lib/python3.10/dist-packages (0.3.7)\n",
            "Requirement already satisfied: matplotlib>=1.4.0 in /usr/local/lib/python3.10/dist-packages (from scikit-plot) (3.7.1)\n",
            "Requirement already satisfied: scikit-learn>=0.18 in /usr/local/lib/python3.10/dist-packages (from scikit-plot) (1.5.2)\n",
            "Requirement already satisfied: scipy>=0.9 in /usr/local/lib/python3.10/dist-packages (from scikit-plot) (1.11.4)\n",
            "Requirement already satisfied: joblib>=0.10 in /usr/local/lib/python3.10/dist-packages (from scikit-plot) (1.4.2)\n",
            "Requirement already satisfied: contourpy>=1.0.1 in /usr/local/lib/python3.10/dist-packages (from matplotlib>=1.4.0->scikit-plot) (1.3.0)\n",
            "Requirement already satisfied: cycler>=0.10 in /usr/local/lib/python3.10/dist-packages (from matplotlib>=1.4.0->scikit-plot) (0.12.1)\n",
            "Requirement already satisfied: fonttools>=4.22.0 in /usr/local/lib/python3.10/dist-packages (from matplotlib>=1.4.0->scikit-plot) (4.53.1)\n",
            "Requirement already satisfied: kiwisolver>=1.0.1 in /usr/local/lib/python3.10/dist-packages (from matplotlib>=1.4.0->scikit-plot) (1.4.7)\n",
            "Requirement already satisfied: numpy>=1.20 in /usr/local/lib/python3.10/dist-packages (from matplotlib>=1.4.0->scikit-plot) (1.26.4)\n",
            "Requirement already satisfied: packaging>=20.0 in /usr/local/lib/python3.10/dist-packages (from matplotlib>=1.4.0->scikit-plot) (24.1)\n",
            "Requirement already satisfied: pillow>=6.2.0 in /usr/local/lib/python3.10/dist-packages (from matplotlib>=1.4.0->scikit-plot) (9.4.0)\n",
            "Requirement already satisfied: pyparsing>=2.3.1 in /usr/local/lib/python3.10/dist-packages (from matplotlib>=1.4.0->scikit-plot) (3.1.4)\n",
            "Requirement already satisfied: python-dateutil>=2.7 in /usr/local/lib/python3.10/dist-packages (from matplotlib>=1.4.0->scikit-plot) (2.8.2)\n",
            "Requirement already satisfied: threadpoolctl>=3.1.0 in /usr/local/lib/python3.10/dist-packages (from scikit-learn>=0.18->scikit-plot) (3.5.0)\n",
            "Requirement already satisfied: six>=1.5 in /usr/local/lib/python3.10/dist-packages (from python-dateutil>=2.7->matplotlib>=1.4.0->scikit-plot) (1.16.0)\n",
            "Requirement already satisfied: scipy==1.11.4 in /usr/local/lib/python3.10/dist-packages (1.11.4)\n",
            "Requirement already satisfied: numpy<1.28.0,>=1.21.6 in /usr/local/lib/python3.10/dist-packages (from scipy==1.11.4) (1.26.4)\n"
          ]
        }
      ],
      "source": [
        "!pip uninstall scikit-learn -y\n",
        "!pip install -U scikit-learn\n",
        "!pip install scikit-plot\n",
        "!pip install scipy==1.11.4"
      ]
    },
    {
      "cell_type": "markdown",
      "metadata": {
        "id": "W9xOJvdCKsAC"
      },
      "source": [
        "## Importar bibliotecas"
      ]
    },
    {
      "cell_type": "code",
      "execution_count": 51,
      "metadata": {
        "id": "YUX71yzuKsAC"
      },
      "outputs": [],
      "source": [
        "import scipy.stats as st\n",
        "import numpy as np\n",
        "import pandas as pd\n",
        "from sklearn.naive_bayes import GaussianNB\n",
        "from sklearn import metrics\n",
        "from sklearn import metrics\n",
        "import scikitplot as skplt"
      ]
    },
    {
      "cell_type": "markdown",
      "metadata": {
        "id": "3NkT4RScKsAD"
      },
      "source": [
        "## Conectar com Google Drive"
      ]
    },
    {
      "cell_type": "code",
      "execution_count": 52,
      "metadata": {
        "colab": {
          "base_uri": "https://localhost:8080/"
        },
        "id": "5GA_CJ8FKsAD",
        "outputId": "15bd1179-e4f3-47f7-d3d8-712845718a94"
      },
      "outputs": [
        {
          "output_type": "stream",
          "name": "stdout",
          "text": [
            "Drive already mounted at /content/gdrive; to attempt to forcibly remount, call drive.mount(\"/content/gdrive\", force_remount=True).\n"
          ]
        }
      ],
      "source": [
        "# Conectar com o Google Drive\n",
        "from google.colab import drive\n",
        "drive.mount('/content/gdrive')"
      ]
    },
    {
      "cell_type": "markdown",
      "metadata": {
        "id": "8-ptpeYIKsAD"
      },
      "source": [
        "## Avaliação dividida em duas partes\n",
        "* Classificador Bayesiano (2,0 pontos)\n",
        "* Propriedades da exponencial e Processos de Poisson (2,5 pontos)"
      ]
    },
    {
      "cell_type": "markdown",
      "metadata": {
        "id": "eNf9YQyFKsAE"
      },
      "source": [
        "## Classificador Bayesiano\n",
        "Uma empresa utiliza a metodologia de Use Case Points para estimar o esforço necessário para entregar as sprints do desenvolvimento e melhoria do seu produto que tem cinco módulos.<br><br>\n",
        "\n",
        "A equipe de desempenho decidiu testar se o classificador Bayesiano é adequado para prever se as sprints serão entregues no prazo.<br><br>\n",
        "\n",
        "Para isso utilizou os dados que foram coletados nos processos de desenvolvimento de software organizando em dois arquivos:\n",
        "* Dados_Sprints_Treinamento.csv\n",
        "* Dados_Sprints_Teste.csv<br>\n",
        "\n",
        "Cada arquivo contém as seguites informações:\n",
        "* ID_MODULO: identificador do módulo\n",
        "* Estimativa_UCP: estimativa do esforço em use case points\n",
        "* Estimativa_Horas: estimativa do esforço em horas para entregar a sprint\n",
        "* Entrega_no_Prazo: rótulo de classificação\n",
        " * 0 - sprint não entregue no prazo\n",
        " * 1 - sprint entregue no prazo"
      ]
    },
    {
      "cell_type": "markdown",
      "metadata": {
        "id": "qKsCY-lsKsAE"
      },
      "source": [
        "#### Ler de dados de treinamento\n",
        "Se necessário ajustar o path para acesso ao arquivo"
      ]
    },
    {
      "cell_type": "code",
      "execution_count": 53,
      "metadata": {
        "id": "b5fkbEpPKsAE"
      },
      "outputs": [],
      "source": [
        "# Ler o arquivo com dados\n",
        "df = pd.read_csv('/content/Dados_Sprints_Treinamento.csv')\n",
        "\n",
        "df.head(5)\n",
        "\n",
        "# Salvar nas variáveis X_trein e Y_trein\n",
        "temp = df.iloc [:, [0,1,2]]\n",
        "X_trein = temp.to_numpy()\n",
        "temp = df.iloc[:, 3]\n",
        "Y_trein = temp.to_numpy()"
      ]
    },
    {
      "cell_type": "markdown",
      "metadata": {
        "id": "hEVeagwTKsAE"
      },
      "source": [
        "#### Ler de dados de teste"
      ]
    },
    {
      "cell_type": "code",
      "execution_count": 54,
      "metadata": {
        "id": "zZXWB_Z4KsAF"
      },
      "outputs": [],
      "source": [
        "# Ler aquivo com dados\n",
        "df = pd.read_csv('/content/Dados_Sprints_Teste.csv')\n",
        "\n",
        "df.head(5)\n",
        "\n",
        "# Salvar nas variáveis X_test e Y_test\n",
        "temp = df.iloc [:, [0,1,2]]\n",
        "X_test = temp.to_numpy()\n",
        "temp = df.iloc[:, 3]\n",
        "Y_test = temp.to_numpy()"
      ]
    },
    {
      "cell_type": "markdown",
      "metadata": {
        "id": "T0b5OHZBKsAF"
      },
      "source": [
        "### Questão 1 (valor 0,8)\n",
        "* Criar classificador\n",
        "* Treinar cutilizando os dados na matriz de treinamento (X_trein) e o vetor com os rótulo no vetor de treinamento (Y_trein)<br>\n",
        "* Fazer previsão utilizando os dados de teste (X_test)"
      ]
    },
    {
      "cell_type": "code",
      "execution_count": 55,
      "metadata": {
        "colab": {
          "base_uri": "https://localhost:8080/"
        },
        "id": "MUomda0eKsAF",
        "outputId": "6a3f7ce8-5dd6-49c3-85c9-4d8c3507c2d8"
      },
      "outputs": [
        {
          "output_type": "stream",
          "name": "stdout",
          "text": [
            "=========Rótulos dos valores no arquivo de teste=========\n",
            "[0 1 1 1 1 1 0 1 0 1 1 1 1 1 1 0 1 0 1 1 0 1 1 1 1 1 1 1 1 0 0 0 1 0 1 1 1\n",
            " 0 1 1 1 1 1 1 0 1 1 1 1 0 1 1 1 1 1 0 1 1 1 1 1 1 1 0 1 1 1 0 1 1]\n",
            "\n",
            "=========Previsões (Y_pred)=========\n",
            "[0 1 1 1 1 1 1 1 0 1 1 1 1 1 1 1 1 1 1 1 0 1 1 1 1 0 1 1 1 0 0 1 1 1 1 1 1\n",
            " 0 1 1 1 1 1 1 0 1 1 1 1 0 1 0 1 1 1 0 1 1 1 1 1 1 1 0 1 1 1 0 1 1]\n",
            "\n",
            " =========Precisão do modelo=========\n",
            "0.9\n"
          ]
        }
      ],
      "source": [
        "# Colocar aqui o comando para criar o classificador\n",
        "classificador = GaussianNB()\n",
        "\n",
        "# Colocar aqui o ocmando para treinar o classificador\n",
        "classificador.fit(X_trein, Y_trein)\n",
        "\n",
        "# Colocar aqui os comandos para fazer as previsões relativas à entrega no prazo\n",
        "Y_pred = classificador.predict(X_test)\n",
        "\n",
        "# Imprimir os rótulos do valores no arquivo de teste (Y_test) e as previsões (Y_prev)\n",
        "print(\"=========Rótulos dos valores no arquivo de teste=========\")\n",
        "print(Y_test)\n",
        "\n",
        "print(\"\\n=========Previsões (Y_pred)=========\")\n",
        "print(Y_pred)\n",
        "\n",
        "precisao = metrics.accuracy_score(Y_test,Y_pred)\n",
        "print(\"\\n =========Precisão do modelo=========\")\n",
        "print(precisao)\n"
      ]
    },
    {
      "cell_type": "markdown",
      "metadata": {
        "id": "AcN4RrjbKsAF"
      },
      "source": [
        "### Questão 2 (valor 0,6)\n",
        "* Imprimir o relatório de **métricas de classificação**\n",
        "* Plotar a **matriz de confuzão**"
      ]
    },
    {
      "cell_type": "code",
      "execution_count": 56,
      "metadata": {
        "colab": {
          "base_uri": "https://localhost:8080/"
        },
        "id": "NupXnRqBKsAF",
        "outputId": "9fb3ae21-2e10-4f62-b3e2-843b482d3059"
      },
      "outputs": [
        {
          "output_type": "stream",
          "name": "stdout",
          "text": [
            "              precision    recall  f1-score   support\n",
            "\n",
            "           0       0.85      0.69      0.76        16\n",
            "           1       0.91      0.96      0.94        54\n",
            "\n",
            "    accuracy                           0.90        70\n",
            "   macro avg       0.88      0.83      0.85        70\n",
            "weighted avg       0.90      0.90      0.90        70\n",
            "\n"
          ]
        }
      ],
      "source": [
        "# Colocar aqui o código imprimir o relatório de métricas de classificação (valor 0,3)\n",
        "print(metrics.classification_report(Y_test, Y_pred))"
      ]
    },
    {
      "cell_type": "code",
      "execution_count": 57,
      "metadata": {
        "colab": {
          "base_uri": "https://localhost:8080/",
          "height": 564
        },
        "id": "2H3iwMudKsAF",
        "outputId": "14004482-2600-4577-9f55-b846ab7b2f61"
      },
      "outputs": [
        {
          "output_type": "display_data",
          "data": {
            "text/plain": [
              "<Figure size 800x600 with 2 Axes>"
            ],
            "image/png": "[encoded data removed]"
          },
          "metadata": {}
        }
      ],
      "source": [
        "# Colocar aqui o código para plotar a matriz de confusão (valor 0,3)\n",
        "import matplotlib.pyplot as plt\n",
        "import seaborn as sns\n",
        "\n",
        "matriz_confusao = metrics.confusion_matrix(Y_test, Y_pred)\n",
        "plt.figure(figsize=(8, 6))\n",
        "sns.heatmap(matriz_confusao, annot=True, fmt='d', cmap='Blues')\n",
        "plt.title('Matriz de Confusão')\n",
        "plt.xlabel('Previsões')\n",
        "plt.ylabel('Reais')\n",
        "plt.show()"
      ]
    },
    {
      "cell_type": "markdown",
      "metadata": {
        "id": "cZZgPw0SKsAF"
      },
      "source": [
        "### Questão 3 (valor 0,6)\n",
        "* Calcular métrica accuracy sem utilizar bibliotecas (calcular vp vn fp fn e accuracy)\n",
        "* Imprimir o valor com duas casas decimais"
      ]
    },
    {
      "cell_type": "code",
      "source": [
        "# Colocar seu código aqui\n",
        "vp = 52\n",
        "vn = 11\n",
        "fp = 5\n",
        "fn = 2\n",
        "\n",
        "accuracy = (vp + vn) / (vp + vn + fp + fn)\n",
        "print(f\"Acurácia: {accuracy:.2f}\")"
      ],
      "metadata": {
        "colab": {
          "base_uri": "https://localhost:8080/"
        },
        "id": "ymlrGSa6N52N",
        "outputId": "8c509457-70e5-4a76-90ed-46002d9a0177"
      },
      "execution_count": 58,
      "outputs": [
        {
          "output_type": "stream",
          "name": "stdout",
          "text": [
            "Acurácia: 0.90\n"
          ]
        }
      ]
    },
    {
      "cell_type": "markdown",
      "metadata": {
        "id": "58jLiyA6KsAF"
      },
      "source": [
        "## Propriedades da exponencial e processos de Poisson"
      ]
    },
    {
      "cell_type": "markdown",
      "metadata": {
        "id": "GW_jgQ4ZKsAF"
      },
      "source": [
        "### Questão 4 (valor 1,0)\n",
        "O tempo de atendimento de chamados em um helpdeks é uma variável aleatória exponencial com média igual a 4 minutos. O seu chamado está aguardando na fila com 2 chamados à sua frente (na fila) e mais 1 chamado sendo atendido. Qual a probabilidade de o seu chamado esperar mais do que 6 minutos para começar a ser atendido.\n",
        "\n",
        "Dicas: Você pode calcular a probabilidade de duas maneiras:<br>\n",
        "(i) Para o chamado esperar mais do que 6 minutos é preciso que o chamado que está sendo atendido e mais os dois que estão na fila à sua frente demorem mais do que seis minutos. Usar a equação da função gama para calcular $P[S_{N} > x]$.<br>\n",
        "(ii) Para o chamado esperar mais do que 6 minutos é preciso que no intervalo de 6 minutos ocorra uma das seguintes possibilidades: nenhum chamado terminou de ser atendido no intervalo, ou 1 terminou, ou 2 terminaram. O terceiro deve terminar depois de 6 minutos. Usar a equação do processo de poisson para calcular $P[N_{s} = 0] + P[N_{s} = 1] + P[N_{s} = 2]$.\n",
        "\n",
        "Escolher uma delas para responder."
      ]
    },
    {
      "cell_type": "code",
      "execution_count": 59,
      "metadata": {
        "id": "eYMdkYFBKsAG",
        "colab": {
          "base_uri": "https://localhost:8080/"
        },
        "outputId": "8fd043d8-cd20-4090-b035-077bf0e1c1d2"
      },
      "outputs": [
        {
          "output_type": "stream",
          "name": "stdout",
          "text": [
            "A probabilidade do chamado esperar mais do que 6 minutos para começar a ser atendido é 0.8088\n"
          ]
        }
      ],
      "source": [
        "# P[SN>x]\n",
        "\n",
        "import scipy.stats as stats\n",
        "\n",
        "media = 4\n",
        "lambda_ = 1 / media\n",
        "\n",
        "# Número de chamados\n",
        "n_chamados = 3\n",
        "\n",
        "# Tempo de espera\n",
        "tempo_espera = 6\n",
        "\n",
        "k = n_chamados\n",
        "theta = 1 / lambda_\n",
        "\n",
        "# Probabilidade de espera mais que 6 minutos\n",
        "probabilidade = 1 - stats.gamma.cdf(tempo_espera, a=k, scale=theta)\n",
        "\n",
        "print(f'A probabilidade do chamado esperar mais do que 6 minutos para começar a ser atendido é {probabilidade:.4f}')\n"
      ]
    },
    {
      "cell_type": "markdown",
      "metadata": {
        "id": "vfoJgHwZKsAG"
      },
      "source": [
        "### Questão 5 (valor 1,5)\n",
        "Um helpdesk trata apenas 3 categorias de solicitações: (i) problemas de login; (ii) problemas de hardware; (iii) problemas configuração. As solicitações chegam segundo processos de Poisson com as seguintes taxas: $L_{L}$ = 0.5 solicitações de problemas de login por dia; $L_{H}$ = 2.5 solicitações de problemas de hardware por dia; e $L_{C}$ = 1.5 solicitações de problemas de configuração por dia. Qual a probabilidade que em 2 dias cheguem 3 solicitações, todas de hardware?\n",
        "Dica: para que cheguem 3 solicitações, todas de hardware, é necessário que cheguem 0 solicitações de login, 0 solicitações de configuração, e 3 solicitações de hardware."
      ]
    },
    {
      "cell_type": "code",
      "execution_count": 60,
      "metadata": {
        "id": "C2voPbvlKsAG",
        "colab": {
          "base_uri": "https://localhost:8080/"
        },
        "outputId": "496cd789-10aa-4f66-e0cb-a335c0cb39af"
      },
      "outputs": [
        {
          "output_type": "stream",
          "name": "stdout",
          "text": [
            "========= A probabilidade de zero solicitações de login em 2 dias é ========= \n",
            "0.3679\n",
            "========= A probabilidade de zero solicitações de configuração em 2 dias é ========= \n",
            "0.0498\n",
            "========= A probabilidade de três solicitações de hardware em 2 dias é ========= \n",
            "0.1404\n",
            "========= A probabilidade de apenas três solicitações de hardware em 2 dias é ========= \n",
            "0.0026\n"
          ]
        }
      ],
      "source": [
        "# Calcular e imprimir a probabilidade de zero solicitações de login em 2 dias\n",
        "# Taxa de chegada de solicitações de login por dia\n",
        "lambda_L = 0.5\n",
        "\n",
        "# Em 2 dias\n",
        "lambda_L_2_days = 2 * lambda_L\n",
        "\n",
        "# Probabilidade de zero solicitações de login em 2 dias\n",
        "prob_zero_login = st.poisson.pmf(0, lambda_L_2_days)\n",
        "\n",
        "print(f\"========= A probabilidade de zero solicitações de login em 2 dias é ========= \\n{prob_zero_login:.4f}\")\n",
        "\n",
        "# Calcular e imprimir a probabilidade de zero solicitações de configuração em 2 dias\n",
        "# Taxa de chegada de solicitações de configuração por dia\n",
        "lambda_C = 1.5\n",
        "\n",
        "# Em 2 dias\n",
        "lambda_C_2_days = 2 * lambda_C\n",
        "\n",
        "# Probabilidade de zero solicitações de configuração em 2 dias\n",
        "prob_zero_config = st.poisson.pmf(0, lambda_C_2_days)\n",
        "\n",
        "print(f\"========= A probabilidade de zero solicitações de configuração em 2 dias é ========= \\n{prob_zero_config:.4f}\")\n",
        "\n",
        "# Calcular e imprimir a probabilidade de três solicitações de hardware em 2 dias\n",
        "# Taxa de chegada de solicitações de hardwate por dia\n",
        "lambda_H = 2.5\n",
        "\n",
        "# Em 2 dias\n",
        "lambda_H_3_days = 2 * lambda_H\n",
        "\n",
        "# Probabilidade de zero solicitações de configuração em 2 dias\n",
        "prob_tres_config = st.poisson.pmf(3, lambda_H_3_days)\n",
        "\n",
        "print(f\"========= A probabilidade de três solicitações de hardware em 2 dias é ========= \\n{prob_tres_config:.4f}\")\n",
        "\n",
        "\n",
        "# Calcular e imprimir a probabilidade de três solicitações, todas de hardware, em 2 dias\n",
        "prob_tres_hardware_somente = prob_zero_login * prob_zero_config * prob_tres_config\n",
        "print(f\"========= A probabilidade de apenas três solicitações de hardware em 2 dias é ========= \\n{prob_tres_hardware_somente:.4f}\")\n"
      ]
    },
    {
      "cell_type": "markdown",
      "metadata": {
        "id": "AoShxGxkKsAG"
      },
      "source": [
        "# Entrega\n",
        "* resolver as questões\n",
        "* salvar o notebook como pdf\n",
        "* verificar se todas as respostas estão legíveis, incluindo gráficos\n",
        "* renomear o arquivo para: seu-nome-SOMATIVA01\n",
        "* entregar no AVA (entrega individual)"
      ]
    }
  ],
  "metadata": {
    "kernelspec": {
      "display_name": "Python 3 (ipykernel)",
      "language": "python",
      "name": "python3"
    },
    "language_info": {
      "codemirror_mode": {
        "name": "ipython",
        "version": 3
      },
      "file_extension": ".py",
      "mimetype": "text/x-python",
      "name": "python",
      "nbconvert_exporter": "python",
      "pygments_lexer": "ipython3",
      "version": "3.12.3"
    },
    "colab": {
      "provenance": []
    }
  },
  "nbformat": 4,
  "nbformat_minor": 0
}