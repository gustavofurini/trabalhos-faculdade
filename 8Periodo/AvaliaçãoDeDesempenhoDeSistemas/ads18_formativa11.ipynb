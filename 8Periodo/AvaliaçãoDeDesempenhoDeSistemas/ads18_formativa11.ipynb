{
  "cells": [
    {
      "cell_type": "markdown",
      "metadata": {
        "id": "lICs5CO9hkUY"
      },
      "source": [
        "# Simulação das propriedades da exponencial"
      ]
    },
    {
      "cell_type": "markdown",
      "metadata": {
        "id": "qpYaXbhHhkUc"
      },
      "source": [
        "### Importar bibliotecas"
      ]
    },
    {
      "cell_type": "code",
      "execution_count": 1,
      "metadata": {
        "id": "Oon28MXqhkUc"
      },
      "outputs": [],
      "source": [
        "import time\n",
        "import numpy as np\n",
        "import scipy.stats as st"
      ]
    },
    {
      "cell_type": "markdown",
      "metadata": {
        "id": "NVNkykMBhkUd"
      },
      "source": [
        "## Probabilidade de uma variável aleatória exponencial ser menor do que outra\n",
        "Sejam $X_{1}$ e $X_{2}$ variáveis aleatórias independentes com média ${mu}_{1} = 1/L_{1}$ e ${mu}_{2} = 1/L_{2}$<br>\n",
        "\n",
        "* P[$X_{1} \\leq X_{2}$] = $\\frac{L_{1}}{L_{1}+L_{2}}$<br><br>\n",
        "\n",
        "Podemos simular essa probabilidade com o seguinte algoritmo vetorial, implementado na função **pExpMenor**.<br>\n",
        "* Sortear array ${exp}_{1}$ com $nSim$ valores exponenciais com média ${mu}_{1}$.<br>\n",
        "* Sortear array ${exp}_{2}$ com $nSim$ valores exponenciais com média ${mu}_{2}$.<br>\n",
        "* Calcular vetor $menor$ com valores $True$ se ${exp}_{1}$ < ${exp}_{2}$. <br>\n",
        "* Retornar a quantidade de elementos no vetor $menor$ contendo valor True, dividida por $nSim$.<br><br>"
      ]
    },
    {
      "cell_type": "code",
      "execution_count": 2,
      "metadata": {
        "id": "tNPxw_GBhkUd"
      },
      "outputs": [],
      "source": [
        "def pExpMenor(MU1, MU2, nSim):\n",
        "    exp1 = st.expon.rvs(scale=MU1, size=nSim)\n",
        "    exp2 = st.expon.rvs(scale=MU2, size=nSim)\n",
        "    menor = exp1 < exp2\n",
        "    return np.count_nonzero(menor) / nSim"
      ]
    },
    {
      "cell_type": "markdown",
      "metadata": {
        "id": "VwBL1_wAhkUe"
      },
      "source": [
        "O código a seguir compara o valor de probabildade simulado pela função **pExpMenor** com o valor teórico."
      ]
    },
    {
      "cell_type": "code",
      "execution_count": 3,
      "metadata": {
        "colab": {
          "base_uri": "https://localhost:8080/"
        },
        "id": "XhoOgA7hhkUe",
        "outputId": "b51a10b8-450d-49a3-a4bc-1c48c7d6f1fe"
      },
      "outputs": [
        {
          "output_type": "stream",
          "name": "stdout",
          "text": [
            "Probabilidade simulada:  0.3360\n",
            "Probabilidade teórica: 0.3333\n",
            "Tempo de simulação: 0.0071\n"
          ]
        }
      ],
      "source": [
        "mu1 = 1000\n",
        "mu2 = 500\n",
        "nSim = 10000\n",
        "\n",
        "probT = (1/mu1)/(1/mu1+1/mu2)\n",
        "t1 = time.perf_counter()\n",
        "probS = pExpMenor(mu1, mu2, nSim)\n",
        "t2 = time.perf_counter()\n",
        "print('Probabilidade simulada:  {:.4f}'.format(probS))\n",
        "print('Probabilidade teórica: {:.4f}'.format(probT))\n",
        "print('Tempo de simulação: {:.4f}'.format(t2-t1))"
      ]
    },
    {
      "cell_type": "markdown",
      "metadata": {
        "id": "JlQiAu0thkUf"
      },
      "source": [
        "## Distribuição da soma de *N* variáveis aleatórias exponenciais\n",
        "Sejam $X_{1}, X_{2}, \\cdots , X_{N}$ variáveis aleatórias independentes com média $mu_{1} = 1/L$<br>\n",
        "$X = X_{1} + X_{2} + \\cdots + X_{N}$ tem distribuição Erlang com parâmetros *N* e *L*.\n",
        "* $f_{X}(x)=\\frac{L^{N}x^{N-1}e^{-Lx}}{\\tau (N)}$\n",
        "* $F_{X}(x)=1-\\sum_{j=0}^{N-1}e^{-Lx}\\frac{(Lx)^{j}}{j!}$\n",
        "\n",
        "Com a biblioteca Scipy temos:<br>\n",
        "* P[$X \\leq x$] = st.gamma.cdf(x, a=N, scale=MU)<br><br>"
      ]
    },
    {
      "cell_type": "markdown",
      "metadata": {
        "id": "zEjymceChkUf"
      },
      "source": [
        "## Algoritmo interativo\n",
        "Podemos calcular simular a CDF da soma de $N$ variáveis aleatórias exponencias com média $MU$ com o seguinte algoritmo interativo:<br>\n",
        "* Iniciar a variável $deuCerto$ com zero.<br>\n",
        "* Sortear o array $EXP$ com $N$ variáveis aleatórias com média $MU$.<br>\n",
        "* Calcular o array $soma$ contendo o somatório de $EXP$, ou seja, a soma de $N$ variáveis aleatórias exponenciais com média $MU$.<br>\n",
        "* Incrementar $deuCerto$, e a soma for menor do que o valor $x$ para o qual queremos calcular a CDF (passado com argumento).<br>\n",
        "* Retornar $deuCerto$ dividido por $nSim$.<br><br>"
      ]
    },
    {
      "cell_type": "code",
      "execution_count": 4,
      "metadata": {
        "id": "UVj-Jj9OhkUg"
      },
      "outputs": [],
      "source": [
        "def somaExpCDFI(x, N, MU, nSim):\n",
        "    deuCerto = 0\n",
        "    for i in range(nSim):\n",
        "        EXP = st.expon.rvs(scale=MU, size=N)\n",
        "        soma = sum(EXP)\n",
        "        if soma <= x:\n",
        "            deuCerto = deuCerto + 1\n",
        "    return deuCerto/nSim"
      ]
    },
    {
      "cell_type": "markdown",
      "metadata": {
        "id": "wTysv6NohkUg"
      },
      "source": [
        "O código a seguir compara o valor de probabildade simulado pela função **somaExpCDFI** com o valor da CDF da variável gamma calculado pela biblioteca Scipy."
      ]
    },
    {
      "cell_type": "code",
      "execution_count": 5,
      "metadata": {
        "colab": {
          "base_uri": "https://localhost:8080/"
        },
        "id": "8BlgBaHfhkUg",
        "outputId": "08306dde-53b7-41d9-f359-7df5b945fd92"
      },
      "outputs": [
        {
          "output_type": "stream",
          "name": "stdout",
          "text": [
            "Probabilidade simulada:  0.3265\n",
            "Probabilidade teórica: 0.3255\n",
            "Tempo de simulação: 14.8270\n"
          ]
        }
      ],
      "source": [
        "x = 25\n",
        "N = 10\n",
        "MU = 3\n",
        "nSim = 100000\n",
        "\n",
        "probT = st.gamma.cdf(x, a=N, scale=MU)\n",
        "t1 = time.perf_counter()\n",
        "probS = somaExpCDFI(x, N, MU, nSim)\n",
        "t2 = time.perf_counter()\n",
        "print('Probabilidade simulada:  {:.4f}'.format(probS))\n",
        "print('Probabilidade teórica: {:.4f}'.format(probT))\n",
        "print('Tempo de simulação: {:.4f}'.format(t2-t1))"
      ]
    },
    {
      "cell_type": "markdown",
      "metadata": {
        "id": "6P00P2-YhkUg"
      },
      "source": [
        "## Algoritmo vetorial\n",
        "Podemos calcular simular a CDF da soma de $N$ variáveis aleatórias exponencias com média $MU$ com o seguinte algoritmo vetorial implementado com a biblioteca numpy:<br>\n",
        "\n",
        "Sortear a matriz $EXP$ com $nSim$ linhas e $N$ colunas.<br>\n",
        "* Observação: Cada linha corresponde a uma simulação e contém os valores das $N$ exponencias sorteadas com média MU. <br>\n",
        "* Dica: usar np.random.exponential(MU, [nSim, N]) <br><br>\n",
        "\n",
        "Calcular o array $soma$ contendo o somatório de cada linha da matriz $EXP$, ou seja, cada elento tem a soma de $N$ variáveis aleatórias exponenciais com média $MU$.<br>\n",
        "* Dica: usar np.sum(), observando que tem que somar as linhas. <br><br>\n",
        "\n",
        "Calcular o array $menor$ que contém $True$ para cada linha da matriz cuja soma menor seja do que o valor $x$ para o qual queremos calcular a CDF (passado com argumento).<br>\n",
        "* Dica: (soma <= x)<br><br>\n",
        "\n",
        "Retornar a quantidade de elementos no vetor $menor$ contendo valor True, dividida por $nSim$.<br>\n",
        "* Dica: usar a função np.count_nonzero para contar a quantidade de elementos com valor True.<br><br>"
      ]
    },
    {
      "cell_type": "code",
      "execution_count": 6,
      "metadata": {
        "id": "CTDKbYeihkUg"
      },
      "outputs": [],
      "source": [
        "def somaExpCDFV(x, N, MU, nSim):\n",
        "    # Gerar uma matriz nSim x N de valores exponenciais\n",
        "    EXP = np.random.exponential(MU, [nSim, N])\n",
        "\n",
        "    # Calcular a soma das variáveis exponenciais ao longo de cada linha\n",
        "    soma = np.sum(EXP, axis=1)\n",
        "\n",
        "    # Verificar onde a soma é menor ou igual a x\n",
        "    menor = soma <= x\n",
        "\n",
        "    # Retornar a proporção de casos onde a soma foi menor ou igual a x\n",
        "    return np.count_nonzero(menor) / nSim\n"
      ]
    },
    {
      "cell_type": "markdown",
      "metadata": {
        "id": "JbJQfW4ihkUh"
      },
      "source": [
        "O código a seguir compara o valor de probabildade simulado pela função **somaExpCDFV** com o valor da CDF da variável gamma calculado pela biblioteca Scipy."
      ]
    },
    {
      "cell_type": "code",
      "execution_count": 7,
      "metadata": {
        "colab": {
          "base_uri": "https://localhost:8080/"
        },
        "id": "68Hbp6_PhkUh",
        "outputId": "5b376163-e7f9-4ce0-ab4e-574feb21da0a"
      },
      "outputs": [
        {
          "output_type": "stream",
          "name": "stdout",
          "text": [
            "Probabilidade simulada:  0.3245\n",
            "Probabilidade teórica: 0.3255\n",
            "Tempo de simulação: 0.0401\n"
          ]
        }
      ],
      "source": [
        "x = 25\n",
        "N = 10\n",
        "MU = 3\n",
        "nSim = 100000\n",
        "\n",
        "probT = st.gamma.cdf(x, a=N, scale=MU)\n",
        "t1 = time.perf_counter()\n",
        "probS = somaExpCDFV(x, N, MU, nSim)\n",
        "t2 = time.perf_counter()\n",
        "print('Probabilidade simulada:  {:.4f}'.format(probS))\n",
        "print('Probabilidade teórica: {:.4f}'.format(probT))\n",
        "print('Tempo de simulação: {:.4f}'.format(t2-t1))"
      ]
    },
    {
      "cell_type": "markdown",
      "metadata": {
        "id": "eJHbC7S7hkUh"
      },
      "source": [
        "## Entrega\n",
        "Completar o algoritmo.<br>\n",
        "Imprimir para PDF.<br>\n",
        "Enviar no AVA.<br>"
      ]
    },
    {
      "cell_type": "code",
      "execution_count": 7,
      "metadata": {
        "id": "okfQz6J2hkUh"
      },
      "outputs": [],
      "source": []
    }
  ],
  "metadata": {
    "kernelspec": {
      "display_name": "Python 3 (ipykernel)",
      "language": "python",
      "name": "python3"
    },
    "language_info": {
      "codemirror_mode": {
        "name": "ipython",
        "version": 3
      },
      "file_extension": ".py",
      "mimetype": "text/x-python",
      "name": "python",
      "nbconvert_exporter": "python",
      "pygments_lexer": "ipython3",
      "version": "3.8.3"
    },
    "colab": {
      "provenance": []
    }
  },
  "nbformat": 4,
  "nbformat_minor": 0
}