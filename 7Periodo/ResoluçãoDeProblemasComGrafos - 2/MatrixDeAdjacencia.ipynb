{
  "nbformat": 4,
  "nbformat_minor": 0,
  "metadata": {
    "colab": {
      "provenance": []
    },
    "kernelspec": {
      "name": "python3",
      "display_name": "Python 3"
    },
    "language_info": {
      "name": "python"
    }
  },
  "cells": [
    {
      "cell_type": "code",
      "execution_count": 2,
      "metadata": {
        "id": "z7lQDKwAeZQk"
      },
      "outputs": [],
      "source": [
        "import numpy as np\n",
        "\n",
        "\n",
        "class Grafo:\n",
        "  # Construtor da classe com os atributos ordem, tamanho, matriz de adjacencias\n",
        "  def __init__(self, n_vertices):\n",
        "    self.ordem = n_vertices\n",
        "    self.tamanho = 0\n",
        "    self.matriz_adjacencias = np.zeros((n_vertices, n_vertices)) * np.inf\n",
        "\n",
        "\n",
        "  def __str__(self):\n",
        "    return self.imprime_matriz\n",
        "  # Operações\n",
        "\n",
        "  def adiciona_aresta(self, u, v, peso):\n",
        "    if u > self.ordem - 1 or v > self.ordem - 1:\n",
        "      print(\"Posição u ou v é inválido. Aresta não adicionada.\")\n",
        "    else:\n",
        "      if not self.tem_aresta(u, v):\n",
        "            self.tamanho += 1\n",
        "      self.matriz_adjacencias[u][v] = peso\n",
        "\n",
        "  def tem_aresta(self, u, v):\n",
        "    if self.matriz_adjacencias[u][v] == np.inf:\n",
        "      return False\n",
        "    else:\n",
        "      return True\n",
        "\n",
        "  def remove_aresta(self, u, v):\n",
        "    if self.tem_aresta(u, v):\n",
        "      self.matriz_adjacencias[u][v] = np.inf\n",
        "      self.tamanho -= 1\n",
        "\n",
        "  def grau_entrada(self, u):\n",
        "    grau_entrada = 0\n",
        "    for i in range(self.ordem):\n",
        "      if self.matriz_adjacencias[i][u] != np.inf:\n",
        "        grau_entrada += 1\n",
        "    return grau_entrada\n",
        "\n",
        "  def grau_saida(self, u):\n",
        "    grau_saida = 0\n",
        "    for i in range(self.ordem):\n",
        "      if self.matriz_adjacencias[u][i] != np.inf:\n",
        "        grau_saida += 1\n",
        "    return grau_saida\n",
        "\n",
        "  def grau(self, u):\n",
        "    # Correto, mas ineficiente\n",
        "    # return self.grau_entrada(u) + self.grau_saida(u)\n",
        "    grau = 0\n",
        "    for i in range(self.ordem):\n",
        "      if self.matriz_adjacencias[u][i] != np.inf:\n",
        "        grau += 1\n",
        "      if self.matriz_adjacencias[i][u] != np.inf:\n",
        "        grau += 1\n",
        "    return grau\n",
        "\n",
        "  # Mais de 90% da quantidade máxima de arestas\n",
        "  def e_denso(self):\n",
        "    if self.tamanho > self.get_max_arestas() * 0.9:\n",
        "      return True\n",
        "    else:\n",
        "      return False\n",
        "\n",
        "  # Grafo direcionado: quantidade máxima de arestas será max = (n^2 - n)\n",
        "  # em que n é a quantidade de vértices\n",
        "  # grafo não direcionado: max = (n^2 - n)/ 2\n",
        "\n",
        "  def get_max_arestas(self):\n",
        "    return np.power(self.ordem, 2) - self.ordem\n",
        "\n",
        "  def imprime_matriz(self):\n",
        "    print(\"Matriz De Adjacências: \")\n",
        "    for i in range(self.ordem):\n",
        "      print(f'{i}: {self.matriz_adjacencias[i]}')\n",
        "    return \"\"\n",
        "\n",
        "  def adicionar_vertice(self):\n",
        "      nova_ordem = self.ordem + 1\n",
        "      nova_matriz = np.zeros((nova_ordem, nova_ordem)) * np.inf\n",
        "      nova_matriz[:self.ordem, :self.ordem] = self.matriz_adjacencias\n",
        "      self.ordem = nova_ordem\n",
        "      self.matriz_adjacencias = nova_matriz\n",
        "\n"
      ]
    },
    {
      "cell_type": "code",
      "source": [
        "G = Grafo(5)\n",
        "G.adiciona_aresta(0,1,10)\n",
        "G.adiciona_aresta(0,1,4)\n",
        "G.adiciona_aresta(2,3,66)\n",
        "G.remove_aresta(0, 1)\n",
        "G.grau(2)\n",
        "G.adicionar_vertice()\n",
        "G.imprime_matriz()"
      ],
      "metadata": {
        "colab": {
          "base_uri": "https://localhost:8080/",
          "height": 179
        },
        "id": "LGrBfbTpfUCz",
        "outputId": "e2ed9916-6e40-42a4-e0b3-78161df3d505"
      },
      "execution_count": 4,
      "outputs": [
        {
          "output_type": "stream",
          "name": "stdout",
          "text": [
            "Matriz De Adjacências: \n",
            "0: [nan inf nan nan nan]\n",
            "1: [nan nan nan nan nan]\n",
            "2: [nan nan nan 66. nan]\n",
            "3: [nan nan nan nan nan]\n",
            "4: [nan nan nan nan nan]\n"
          ]
        },
        {
          "output_type": "stream",
          "name": "stderr",
          "text": [
            "<ipython-input-2-834aebb07ebe>:9: RuntimeWarning: invalid value encountered in multiply\n",
            "  self.matriz_adjacencias = np.zeros((n_vertices, n_vertices)) * np.inf\n"
          ]
        },
        {
          "output_type": "execute_result",
          "data": {
            "text/plain": [
              "''"
            ],
            "application/vnd.google.colaboratory.intrinsic+json": {
              "type": "string"
            }
          },
          "metadata": {},
          "execution_count": 4
        }
      ]
    }
  ]
}