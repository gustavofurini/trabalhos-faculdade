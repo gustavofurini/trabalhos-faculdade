{
  "cells": [
    {
      "cell_type": "markdown",
      "metadata": {
        "id": "jPCNo_2x5BUo"
      },
      "source": [
        "# Formativa 05 - Programação vetorial"
      ]
    },
    {
      "cell_type": "code",
      "execution_count": 1,
      "metadata": {
        "id": "UjdTVaiw5BUp"
      },
      "outputs": [],
      "source": [
        "import numpy as np"
      ]
    },
    {
      "cell_type": "markdown",
      "metadata": {
        "id": "kf96BNtI5BUq"
      },
      "source": [
        "## Matriz de Durer (quadrado mágico)\n",
        "Matriz quadrada de dimensão 2 onde a de todas as linhas e soma de todas as colunas dão os mesmo valor.<br>\n",
        "A soma da diagonal principal também dá o mesmo valor.<br>\n",
        "Podemos chamar a função sum como um método do objeto array.<br>\n",
        "A função np.diag extrai a diagonal principal de uma matriz."
      ]
    },
    {
      "cell_type": "code",
      "execution_count": 2,
      "metadata": {
        "id": "9u0umajq5BUq",
        "colab": {
          "base_uri": "https://localhost:8080/"
        },
        "outputId": "8028235b-44ba-4e42-c333-10cb9b9f97ae"
      },
      "outputs": [
        {
          "output_type": "stream",
          "name": "stdout",
          "text": [
            "--- D.sum(axis=0) soma as colunas -----------------------\n",
            "[34. 34. 34. 34.]\n",
            "--- D.sum(1) soma as linhas -----------------------\n",
            "[34. 34. 34. 34.]\n",
            "\n",
            "---- np.sum(D.diag()) soma a diagonal ----\n",
            "34.0\n"
          ]
        }
      ],
      "source": [
        "D = np.array([[16,3,2,13],[5,10,11,8],[9,6,7,12],[4,15,14,1]], dtype=np.float64)\n",
        "print('--- D.sum(axis=0) soma as colunas -----------------------')\n",
        "print(D.sum(axis=0))\n",
        "print('--- D.sum(1) soma as linhas -----------------------')\n",
        "print(np.sum(D,axis=1))\n",
        "print('\\n---- np.sum(D.diag()) soma a diagonal ----')\n",
        "print(np.sum(np.diag(D)))"
      ]
    },
    {
      "cell_type": "markdown",
      "metadata": {
        "id": "jAZO9fCD5BUq"
      },
      "source": [
        "## Quadrado mágico de dimensão ímpar\n",
        "\n",
        "A função magic cria um quadrado mágico de dimensão ímpar."
      ]
    },
    {
      "cell_type": "code",
      "execution_count": 3,
      "metadata": {
        "id": "LL5ak2yS5BUq"
      },
      "outputs": [],
      "source": [
        "def magic(N):\n",
        "# Cria um quadrado magico  N x N magic square\n",
        "# N deve ser impar\n",
        "# https://scipython.com/book/chapter-6-numpy/examples/creating-a-magic-square/\n",
        "\n",
        "    quadrado_magico = np.zeros((N,N), dtype=int)\n",
        "\n",
        "    if N%2==0:\n",
        "        return quadrado_magico\n",
        "\n",
        "\n",
        "    n = 1\n",
        "    i, j = 0, N//2  # Iniciar no meio da linha superior\n",
        "\n",
        "    while n <= N**2:     # Quando n = N ao quadrado terminou\n",
        "        quadrado_magico[i, j] = n   # Salvar n na posição i,j\n",
        "        n += 1\n",
        "        # Mover uma posição para cima e uma para direita\n",
        "        # Se ultrapassar o limite à direita ir para primeira coluna\n",
        "        # Se ultrapassar o limite acima ir para última linha\n",
        "        newi, newj = (i-1) % N, (j+1)% N\n",
        "        if quadrado_magico[newi, newj]: # se a posição já estiver preenchida\n",
        "            i += 1                      # ir uma coluna para direita\n",
        "        else:\n",
        "            i, j = newi, newj\n",
        "\n",
        "    return quadrado_magico"
      ]
    },
    {
      "cell_type": "markdown",
      "metadata": {
        "id": "ZI9A17h-5BUq"
      },
      "source": [
        "## Observar as propriedades da matriz criada pela função magic (quadrado mágico)\n",
        "A soma de cada linha deve ser igual a soma de cada coluna e igual a soma da diagonal principal."
      ]
    },
    {
      "cell_type": "code",
      "execution_count": 4,
      "metadata": {
        "id": "JuC3AILh5BUq",
        "colab": {
          "base_uri": "https://localhost:8080/"
        },
        "outputId": "7e875ee2-965a-4cff-bfdd-f2010d69bee7"
      },
      "outputs": [
        {
          "output_type": "stream",
          "name": "stdout",
          "text": [
            "---- M----\n",
            "[[17 24  1  8 15]\n",
            " [23  5  7 14 16]\n",
            " [ 4  6 13 20 22]\n",
            " [10 12 19 21  3]\n",
            " [11 18 25  2  9]]\n",
            "\n",
            "---- M.sum(0) ----\n",
            "[65 65 65 65 65]\n",
            "\n",
            "---- M.sum(1) ----\n",
            "[65 65 65 65 65]\n",
            "\n",
            "---- np.sum(M.diag()) ----\n",
            "65\n"
          ]
        }
      ],
      "source": [
        "M = magic(5)\n",
        "print('---- M----')\n",
        "print(M)\n",
        "\n",
        "print('\\n---- M.sum(0) ----')\n",
        "print(M.sum(0))\n",
        "\n",
        "print('\\n---- M.sum(1) ----')\n",
        "print(M.sum(1))\n",
        "\n",
        "print('\\n---- np.sum(M.diag()) ----')\n",
        "print(np.sum(np.diag(M)))"
      ]
    },
    {
      "cell_type": "markdown",
      "metadata": {
        "id": "tB1N2IXV5BUr"
      },
      "source": [
        "## Função para testar se uma matriz tem as propriedades do quadrado mágico\n",
        "Utilizar o algoritmo seguinte para criar uma função que testa se uma matriz tem as propriedades do quadrado mágico:\n",
        "* verificar se a matriz é quadrada: shape[0] tem que ser igual a shape[1]\n",
        "* somar as colunas e colocar no array x0: utilizar a função sum (cada elemento de x0 é a soma de cada coluna)\n",
        "* somar as colunas e colocar no array x1: utilizar a função sum (os elementos de x1 são a soma de cada linha)\n",
        "* somar a diagonal da matriz m e colocar no array x2 (x2 = [np.sum(np.diag(m))])\n",
        "* concatenar x0, x1 e x2 no array x (x=np.concatenate([x0, x1, x2]))\n",
        "* se a matriz é um quadrado mágico, todos os elementos de x devem ser iguais\n",
        "* encontrar os elementos únicos no array x: y = np.unique(x)\n",
        "* testar se a quantidade de elementos únicos é igual a 1 (todos os elementos iguais): usar len(y)"
      ]
    },
    {
      "cell_type": "code",
      "execution_count": 5,
      "metadata": {
        "id": "bXjVcKL85BUr"
      },
      "outputs": [],
      "source": [
        "def teste_magic(m):\n",
        " # Colocar seu código aqui\n",
        "  if m.shape[0] != m.shape[1]:\n",
        "    return False\n",
        "  x0 = m.sum(0)\n",
        "  x1 = m.sum(1)\n",
        "  x2 = np.sum(np.diag(m))\n",
        "  x = np.concatenate([x0, x1, [x2]])\n",
        "  y = np.unique(x)\n",
        "  if len(y) != 1:\n",
        "    return False\n",
        "  return True"
      ]
    },
    {
      "cell_type": "markdown",
      "metadata": {
        "id": "E3VbEioo5BUr"
      },
      "source": [
        "#### Usar a função teste_magic para testar as matrizes A, B, C, M3, M4, M5."
      ]
    },
    {
      "cell_type": "code",
      "execution_count": 6,
      "metadata": {
        "id": "03i_E3qc5BUr",
        "colab": {
          "base_uri": "https://localhost:8080/"
        },
        "outputId": "4a2bfec2-673c-4f06-9bd8-53786611aac3"
      },
      "outputs": [
        {
          "output_type": "stream",
          "name": "stdout",
          "text": [
            "False\n",
            "True\n",
            "True\n",
            "True\n",
            "True\n"
          ]
        }
      ],
      "source": [
        "A = np.random.random((2,2))\n",
        "B = np.ones((2,2))\n",
        "C = np.zeros((2,2))\n",
        "M3 = magic(3)\n",
        "M4 = np.array([[16,3,2,13],[5,10,11,8],[9,6,7,12],[4,15,14,1]], dtype=np.float64)\n",
        "M5 = magic(5)\n",
        "\n",
        "print(teste_magic(A))\n",
        "print(teste_magic(B))\n",
        "print(teste_magic(C))\n",
        "print(teste_magic(M3))\n",
        "print(teste_magic(M5))"
      ]
    },
    {
      "cell_type": "markdown",
      "metadata": {
        "id": "skM3-GKI5BUr"
      },
      "source": [
        "## Entrega\n",
        "Programar a função teste_magic.<br>\n",
        "Exportar para pdf.<br>\n",
        "Fazer upload no AVA.<br>"
      ]
    }
  ],
  "metadata": {
    "kernelspec": {
      "display_name": "Python 3 (ipykernel)",
      "language": "python",
      "name": "python3"
    },
    "language_info": {
      "codemirror_mode": {
        "name": "ipython",
        "version": 3
      },
      "file_extension": ".py",
      "mimetype": "text/x-python",
      "name": "python",
      "nbconvert_exporter": "python",
      "pygments_lexer": "ipython3",
      "version": "3.12.4"
    },
    "colab": {
      "provenance": []
    }
  },
  "nbformat": 4,
  "nbformat_minor": 0
}