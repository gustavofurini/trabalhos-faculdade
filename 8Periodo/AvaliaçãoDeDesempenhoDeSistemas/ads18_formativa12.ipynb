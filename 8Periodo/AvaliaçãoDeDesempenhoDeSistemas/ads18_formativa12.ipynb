{
  "cells": [
    {
      "cell_type": "markdown",
      "metadata": {
        "id": "Yv3SdSxIi5gz"
      },
      "source": [
        "# Processo de Poisson\n",
        "Um processo de Poisson é modelado como uma sequência de variáveis aleatórias independentes $X_{1}, X_{2}, \\cdots$ com distribuição de exponencial com parâmetro $\\lambda$.Duas distribuições de probabilidade são importante no processos de Poisson: $N_{S}\\left(x\\right)$ e $S_{N}\\left(t\\right)$.<br>\n",
        "$N_{S}$ é a variável aleatória que conta a quantidade de eventos que ocorrem no intervalo de tempo $S$ ($S = t_{2}-t_{1}$). Sua função de distribuição de probabilidade é dada por: $$P\\left [ N_{S} = x \\right ] = e^{-\\lambda S}\\frac{\\left ( \\lambda S \\right )^{x}}{x!}$$\n",
        "$S_{N}$ é a variável aleatória que mede o tempo decorrido até a ocorrência do próximo evento no processo de Poisson. Sua função de distribuição acumulada é dada por:$$P\\left [ S_{N} \\leq  x \\right ] = 1 - \\sum_{j=0}^{N-1}e^{-\\lambda x}\\frac{\\left ( \\lambda x \\right )^{j}}{j!}$$"
      ]
    },
    {
      "cell_type": "markdown",
      "metadata": {
        "id": "l--R-ChIi5g2"
      },
      "source": [
        "## Importação das bibliotecas necessárias"
      ]
    },
    {
      "cell_type": "code",
      "execution_count": 1,
      "metadata": {
        "id": "X4VzvmE_i5g2"
      },
      "outputs": [],
      "source": [
        "import scipy.stats as st\n",
        "import time\n",
        "import numpy as np"
      ]
    },
    {
      "cell_type": "markdown",
      "metadata": {
        "id": "90iP3YyCi5g3"
      },
      "source": [
        "## Simulação da função de probabilidade de $N_{S}$\n",
        "### Simulação interativa\n",
        "A função poissonNS_I simula a função de probabilidade de $N_{S}$ com um algoritmo interativo. Recebe como argumento x, lambda, t1, t2 e nSim, e calcula a probabilidade de ocorrência de x eventos no intervalo entre t1 e t2. O argumento lbda é o parâmetro das exponenciais que definem o processo de Poisson. t1 e t2 definem o intervalo $S$. O parâmetro nSim é a quantidade de vezes que a simulação é executada."
      ]
    },
    {
      "cell_type": "code",
      "execution_count": 2,
      "metadata": {
        "id": "klK26U-oi5g4"
      },
      "outputs": [],
      "source": [
        "def poissonNS_I(x, lbda, t1, t2, nsim):\n",
        "    mu = 1/lbda\n",
        "    deuCerto = 0\n",
        "    for i in range(nSim):\n",
        "        tempo = 0\n",
        "        nEventos = 0\n",
        "        while tempo <= t2:\n",
        "            if (tempo >= t1):\n",
        "                nEventos = nEventos + 1\n",
        "            # sorteia variável exponencial e acumula em tempo\n",
        "            tempo = tempo + st.expon.rvs(0, mu)\n",
        "        # se quantidade de eventos = x, deuCerto\n",
        "        if nEventos == x:\n",
        "            deuCerto = deuCerto + 1\n",
        "    return(deuCerto/nSim)"
      ]
    },
    {
      "cell_type": "markdown",
      "metadata": {
        "id": "_bI_xCwei5g4"
      },
      "source": [
        "Os comandos abaixos simulam $nSim$ observações de um processos de Poisson.<br>\n",
        "Imprime a proporção de vezes que o número de eventos entre t1 e t2 é igual a x (probabilidade simulada).\n",
        "Imprime o valor previsto pela teoria (probabilidade teórica).\n",
        "Imprime o tempo de simulação (em segundos)."
      ]
    },
    {
      "cell_type": "code",
      "execution_count": 3,
      "metadata": {
        "colab": {
          "base_uri": "https://localhost:8080/"
        },
        "id": "gnaxeKqMi5g4",
        "outputId": "4f8d0106-4382-48f1-e7e5-e53dc30a3da1"
      },
      "outputs": [
        {
          "output_type": "stream",
          "name": "stdout",
          "text": [
            "Probabilidade simulada:  0.0347\n",
            "Probabilidade teórica: 0.0361\n",
            "Tempo de simulação iterativa: 16.5610\n"
          ]
        }
      ],
      "source": [
        "t1 = 15\n",
        "t2 = 25\n",
        "S = t2-t1\n",
        "lbda = 0.2\n",
        "nSim = 50000\n",
        "x = 5\n",
        "probT = st.poisson.pmf(x, lbda*S)\n",
        "inic = time.perf_counter()\n",
        "probS = poissonNS_I(x, lbda, t1, t2, nSim)\n",
        "fim = time.perf_counter()\n",
        "print('Probabilidade simulada:  {:.4f}'.format(probS))\n",
        "print('Probabilidade teórica: {:.4f}'.format(probT))\n",
        "print('Tempo de simulação iterativa: {:.4f}'.format(fim-inic))"
      ]
    },
    {
      "cell_type": "markdown",
      "metadata": {
        "id": "I1BXc-5xi5g5"
      },
      "source": [
        "### Simulação vetorial\n",
        "A função poissonNS_V simula a função de probabilidade de $N_{S}$ com um algoritmo vetorial. Recebe como argumento x, lambda, t1, t2 e nSim, e calcula a probabilidade de ocorrência de x eventos no intervalo entre t1 e t2. O argumento lbda é o parâmetro das exponenciais que definem o processo de Poisson. t1 e t2 definem o intervalo $S$. O parâmetro nSim é a quantidade de vezes que a simulação é executada.<br>\n",
        "No algoritmo vetorial precisamos sortear todas as exponenciais e colocar em uma matriz $X$, que terá $nSim$ linhas, cada linha contando uma observação do processo de Poisson, ou seja, os valores acumulados de tempo das variáveis aleatórias exponenciais.<br>\n",
        "A maior dificuldade é determinar a quantidade de colunas da matriz $X$. O que sabemos é que deveriamos acumular uma quantidade suficiente para ultrapassar $t_{2}$. Sabemos que média dos valores dos tempos sorteados será $\\mu = 1/\\lambda$. Precisaremos, em média, $N= ceil\\left (  t_{2}/\\mu\\right )$ lançamentos para chegar a $t_{2}$, onde $ceil$ é o arredondamento para cima. Um valor empírico aproximado para a quantidade de colunas necessárias é $m = ceil\\left (2\\cdot t_{2}/\\mu\\right ) $.<br>\n",
        "A seguir vamos testar se esse algoritmo está correto para gerar as observações necessárias\n",
        "* Sortear a matriz $X$ com $n$ linhas e $m$ colunas\n",
        "* Acumular os valores das exponenciais em cada linha gerando os eventos<br>\n",
        "Execute os comandos a seguir para verificar se a matriz está sendo gerada de acordo."
      ]
    },
    {
      "cell_type": "code",
      "execution_count": 4,
      "metadata": {
        "colab": {
          "base_uri": "https://localhost:8080/"
        },
        "id": "7l3p9o0Pi5g5",
        "outputId": "c37eaa8b-dfd1-4aed-8eac-21b2ba3388e2"
      },
      "outputs": [
        {
          "output_type": "stream",
          "name": "stdout",
          "text": [
            "[[ 4.10626643  5.41560278  9.16047579 13.55184251 14.54916278 25.28805676\n",
            "  33.18109277 33.95037859 35.82254719 40.74104953 40.96246473 41.38501519]\n",
            " [ 8.05977475  8.86703443 11.25503086 12.07106315 21.63442004 24.24535304\n",
            "  24.49445898 32.19837483 32.20499691 34.69574521 46.37561937 55.41939191]\n",
            " [ 1.75129003  2.55073564  7.12202624 10.24517934 11.34775746 15.06563906\n",
            "  15.15744756 18.92521977 19.96229743 21.48553064 37.32477154 49.58912236]\n",
            " [ 1.2652451   6.93865977 13.47861095 16.41059284 19.15014711 19.95904072\n",
            "  26.58255393 29.20843426 30.35752216 36.25159363 39.53939798 42.97694103]\n",
            " [ 3.88778517 18.45925309 20.09683679 22.5652615  25.27509251 26.62242041\n",
            "  42.79038801 47.05220921 47.53746633 50.10703368 54.72741443 55.3260577 ]]\n"
          ]
        }
      ],
      "source": [
        "n = 5\n",
        "t1 = 10\n",
        "t2 = 30\n",
        "lbda = 0.2\n",
        "mu = 1/lbda\n",
        "m = int(np.ceil(2*t2/mu))\n",
        "X = np.cumsum(np.random.exponential(mu, (n, m)), 1)\n",
        "print(X)\n",
        "eventos = np.count_nonzero((X>t1) & (X<t2),1)"
      ]
    },
    {
      "cell_type": "markdown",
      "metadata": {
        "id": "LElKWpG5i5g6"
      },
      "source": [
        "Para implementar a função poissonNS_V, será nenessário usar os passos anteriores mais dois passos:\n",
        "* Contar quantos eventos ocorreram entre t1 e t1. Para isso você pode usar a função np.count_nonzero passando como argumento a expressão lógica que define quais instantes de tempo estão entre t1 e t2 ((X>t1) & (X<t2)). Atenção que função np_count_nozero deve contar os eventos em cada linha da matriz X.\n",
        "* Contar a quantidade de linhas onde quantidade de evntos contados entre t1 e t2 é igual a x (o argumento x da função. Uasar mais uma vez a função np.count_nonzero. Não esquecer de dividir por nSim antes de retornar a probabilidade simulada."
      ]
    },
    {
      "cell_type": "code",
      "execution_count": 5,
      "metadata": {
        "id": "VWG-NvhGi5g6"
      },
      "outputs": [],
      "source": [
        "def poissonNS_V(x, lbda, t1, t2, nSim):\n",
        "    # Calcula mu (1/lambda)\n",
        "    mu = 1 / lbda\n",
        "\n",
        "    # Calcula m (número de colunas da matriz X)\n",
        "    m = int(np.ceil(2 * t2 / mu))\n",
        "\n",
        "    # Sorteia matriz X (acumulado de tempos exponenciais)\n",
        "    X = np.cumsum(np.random.exponential(mu, (nSim, m)), axis=1)\n",
        "\n",
        "    # Calcula matriz eventos (quantos eventos ocorreram entre t1 e t2)\n",
        "    eventos = np.count_nonzero((X > t1) & (X < t2), axis=1)\n",
        "\n",
        "    # Calcula a probabilidade de ocorrer exatamente x eventos entre t1 e t2\n",
        "    prob = np.count_nonzero(eventos == x) / nSim\n",
        "\n",
        "    return prob"
      ]
    },
    {
      "cell_type": "code",
      "execution_count": 6,
      "metadata": {
        "colab": {
          "base_uri": "https://localhost:8080/"
        },
        "id": "jTbB9ZoFi5g6",
        "outputId": "d4b7de38-0e73-4ab5-c35a-11ba6d3a89e3"
      },
      "outputs": [
        {
          "output_type": "stream",
          "name": "stdout",
          "text": [
            "Probabilidade simulada:  0.1825\n",
            "Probabilidade teórica: 0.1804\n",
            "Tempo de simulação vetorial: 0.0824\n"
          ]
        }
      ],
      "source": [
        "t1 = 15\n",
        "t2 = 25\n",
        "S = t2-t1\n",
        "lbda = 0.2\n",
        "nSim = 100000\n",
        "x=3\n",
        "probT = st.poisson.pmf(x, lbda*S)\n",
        "inic = time.perf_counter()\n",
        "probS = poissonNS_V(x, lbda, t1, t2, nSim)\n",
        "fim = time.perf_counter()\n",
        "print('Probabilidade simulada:  {:.4f}'.format(probS))\n",
        "print('Probabilidade teórica: {:.4f}'.format(probT))\n",
        "print('Tempo de simulação vetorial: {:.4f}'.format(fim-inic))"
      ]
    }
  ],
  "metadata": {
    "kernelspec": {
      "display_name": "Python 3 (ipykernel)",
      "language": "python",
      "name": "python3"
    },
    "language_info": {
      "codemirror_mode": {
        "name": "ipython",
        "version": 3
      },
      "file_extension": ".py",
      "mimetype": "text/x-python",
      "name": "python",
      "nbconvert_exporter": "python",
      "pygments_lexer": "ipython3",
      "version": "3.12.4"
    },
    "colab": {
      "provenance": []
    }
  },
  "nbformat": 4,
  "nbformat_minor": 0
}