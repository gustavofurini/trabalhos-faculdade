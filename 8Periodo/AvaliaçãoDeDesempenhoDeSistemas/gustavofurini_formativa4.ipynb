{
  "cells": [
    {
      "cell_type": "markdown",
      "metadata": {
        "id": "6ut9eebE68nr"
      },
      "source": [
        "# Formativa 04"
      ]
    },
    {
      "cell_type": "code",
      "execution_count": null,
      "metadata": {
        "id": "rhe_bA8c68oH"
      },
      "outputs": [],
      "source": [
        "import scipy.stats as st\n",
        "import numpy as np"
      ]
    },
    {
      "cell_type": "markdown",
      "metadata": {
        "id": "rq6-RLiD6fJk"
      },
      "source": [
        "### Um sistema gera mensagens com tamanhos uniformemente distribuídos entre 200 e 800 bytes. Qual é a probabilidade de uma mensagem ter tamanho entre 300 e 500 bytes?\n",
        "O problema envolve uma variável aleatória uniformemente distribuída entre 200 e 800 bytes, ou seja, o início é em 200 e o deslocamento é de 600.<br>\n",
        "\n",
        "**Dicas** (i) Pede-se para calcular a probabilidade da mensagem ser maior do que 300 e menor do que 500 bytes, ou seja, deseja-se calcular $P\\left[ 300 \\lt X \\lt 500\\right]$. (ii) Para calcular a probabilidade do resultado do experimento obter um valor em um intervalo, calculamos a cdf do maior valor menos a cdf do menor valor. (iii) Usar uniform.cdf."
      ]
    },
    {
      "cell_type": "code",
      "execution_count": null,
      "metadata": {
        "colab": {
          "base_uri": "https://localhost:8080/"
        },
        "id": "Nk9V0PP46fJl",
        "outputId": "af724560-4d8d-486b-b790-f2e0d5eb3cc6"
      },
      "outputs": [
        {
          "output_type": "stream",
          "name": "stdout",
          "text": [
            "0.33333333333333337\n"
          ]
        }
      ],
      "source": [
        "# Início da distribuição\n",
        "inic = 200\n",
        "# Deslocamento da distribuição (800 - 200)\n",
        "desloc = 600\n",
        "# Probabilidade da mesagem ter tamanho entre 300 e 500 bytes\n",
        "P300X500 = st.uniform.cdf(500, inic, desloc) - st.uniform.cdf(300, inic, desloc)\n",
        "print(P300X500)"
      ]
    },
    {
      "cell_type": "markdown",
      "metadata": {
        "id": "hR937unn6fJl"
      },
      "source": [
        "### O tempo de processamento de transações em um servidor web é distribuído exponencialmente com média igual a 10 milissegundos. Qual a probabilidade de uma transação demorar mais do que 5 milissegundos?\n",
        "O problema envolve uma variável aleatória com distribuição exponencial com média igual a 10 milissegundos.<br>\n",
        "\n",
        "**Dicas** (i) Pede-se para calcular a probabilidade de o tempo de processamento ser maior do que 5 milissegundos (x=5), ou seja, deseja-se calcular $P\\left[ X \\gt 5\\right]$. (ii) Para calcular a probabilidade do resultado do experimento ser maior, fazemos 1 - cdf do valor. (iii) Os valores da variável $X$ iniciam em zero. (iv) Usar expon.cdf."
      ]
    },
    {
      "cell_type": "code",
      "execution_count": null,
      "metadata": {
        "id": "0pVQwpGg6fJl",
        "colab": {
          "base_uri": "https://localhost:8080/"
        },
        "outputId": "443eb84a-8719-49ee-9f5a-6a25cfe812a5"
      },
      "outputs": [
        {
          "output_type": "stream",
          "name": "stdout",
          "text": [
            "0.6065306597126334\n"
          ]
        }
      ],
      "source": [
        "# Valor da início da distribuição\n",
        "inicio = 0\n",
        "# Valor da média\n",
        "mu = 10\n",
        "# Calcular a probabilidade\n",
        "PXM5 = 1 - st.expon.cdf(5, inicio, mu)\n",
        "print(PXM5)"
      ]
    },
    {
      "cell_type": "markdown",
      "metadata": {
        "id": "Dd9qijf068oS"
      },
      "source": [
        "### A durabilidade medida em dias de certo tipo de equipamento é normalmente distribuída, com média de 5000 dias e desvio-padrão de 1000 dias. Qual a probabilidade de um equipamento escolhido ao acaso durar entre 4500 e 6350 dias?\n",
        "\n",
        "O problema envolve uma variável aleatória com distribuição normal com média = 5000 e desvio padrão = 1000.<br><br>\n",
        "\n",
        "**Dicas:** (i) A pegunta de probabilidade refere-se ao intervalo entre 4500 e 6350, ou seja, precisamos calcular $P\\left[ 4500 \\lt X \\lt 6350\\right]$. (ii) Para calcular a probabilidade do resultado do experimento obter um valor em um intervalo, calculamos a cdf do maior valor menos a cdf do menor valor.  (iii) Usar norm.cdf.<br><br>"
      ]
    },
    {
      "cell_type": "code",
      "execution_count": null,
      "metadata": {
        "id": "1GV9nND3a5C4",
        "colab": {
          "base_uri": "https://localhost:8080/"
        },
        "outputId": "a7de8bf0-e4df-44cd-f6d9-0d9a617dea1e"
      },
      "outputs": [
        {
          "output_type": "stream",
          "name": "stdout",
          "text": [
            "0.6029544698366112\n"
          ]
        }
      ],
      "source": [
        "# Valor da média\n",
        "mu = 5000\n",
        "# Valor do desvio padrão\n",
        "sigma = 1000\n",
        "# Calcular a probabilidade\n",
        "P4500X6350 = st.norm.cdf(6350, mu, sigma) - st.norm.cdf(4500, mu, sigma)\n",
        "print(P4500X6350)"
      ]
    }
  ],
  "metadata": {
    "colab": {
      "provenance": []
    },
    "kernelspec": {
      "display_name": "Python 3 (ipykernel)",
      "language": "python",
      "name": "python3"
    },
    "language_info": {
      "codemirror_mode": {
        "name": "ipython",
        "version": 3
      },
      "file_extension": ".py",
      "mimetype": "text/x-python",
      "name": "python",
      "nbconvert_exporter": "python",
      "pygments_lexer": "ipython3",
      "version": "3.12.3"
    }
  },
  "nbformat": 4,
  "nbformat_minor": 0
}