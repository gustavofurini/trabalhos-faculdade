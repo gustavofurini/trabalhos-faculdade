{
  "cells": [
    {
      "cell_type": "markdown",
      "metadata": {
        "id": "tJ0ADbqTbngJ"
      },
      "source": [
        "# Filas MMm\n",
        "A clase FilaMMm calcula probabilidades e valores esperados para as variáveis aleatórias de uma fila MMm.<br><br>\n",
        "Deve ser chamada com 3 argumentos:\n",
        "* taxa de chegada das tarefas\n",
        "* taxa de serviço de cada servidor\n",
        "* quantidade de servidores<br><br>\n",
        "\n",
        "Um objeto da classe FilaMMm oferece os seguintes atibutos:\n",
        "* lb: taxa de chegada\n",
        "* mu: taxa de serviço de cada servidor\n",
        "* m: quantidade de servidores\n",
        "* ro: lb / (m*mu)\n",
        "* p0: probabilidade de nenhuma tarefa no sistema\n",
        "* epsilon: probabilidade de m ou mais tarefas no sistema\n",
        "* E_Ns: valor esperado de Ns (quantidade media de tarefas servidas)\n",
        "* E_Nq: valor esperado de Nq (tamanho medio da fila)\n",
        "* E_N: valor esperado de N (quantidade media de tarefas no sistema)\n",
        "* E_S: valor esperado de S (tempo de serviço médio)\n",
        "* E_W: valor esperado de W (tempo de espera medio na fila)\n",
        "* E_R: valor esperado de R (tempo de resposta medio)<br><br>\n",
        "\n",
        "Um objeto da classe FilaMMm oferece os seguintes métodos:\n",
        "* pmf_N(x): P[N = x]\n",
        "* cdf_W(x): P[W < x]\n",
        "* cdf_R(x): P[R < x]"
      ]
    },
    {
      "cell_type": "code",
      "execution_count": 1,
      "metadata": {
        "id": "JJTHMuMDbngM"
      },
      "outputs": [],
      "source": [
        "import numpy as np\n",
        "from math import factorial\n",
        "from math import exp\n",
        "\n",
        "class FilaMMm:\n",
        "    def calculaP0(self):\n",
        "        soma = 0\n",
        "        for n in range(1, self.m):\n",
        "            soma = soma + (((self.m * self.ro) ** n) / factorial(n))\n",
        "        return 1 / (1 + ((self.m * self.ro) ** self.m) / (factorial(self.m) * (1 - self.ro)) + soma)\n",
        "\n",
        "    def __init__(self, lb, mu, m):\n",
        "        if (lb >= m*mu):\n",
        "            raise ValueError('Lambda deve ser menor do que m*mu')\n",
        "        self.lb = float(lb)\n",
        "        self.mu = float(mu)\n",
        "        self.m = m\n",
        "        self.ro = lb / (m*mu)\n",
        "        self.p0 = self.calculaP0()\n",
        "        self.epsilon = ((self.m*self.ro)**self.m)/((1-self.ro)*factorial(self.m))*self.p0\n",
        "        # valor esperado de Ns (quantidade media de tarefas servidas)\n",
        "        self.E_Ns = self.m * self.ro\n",
        "        # valor esperado de Nq (tamanho medio da fila)\n",
        "        self.E_Nq = (self.epsilon * self.ro) / (1 - self.ro)\n",
        "        # valor esperado de N 9quentidade media de tarefas no sistema)\n",
        "        self.E_N = self.E_Nq + self.E_Ns\n",
        "        # valor esperado de S (tempo de serviço médio)\n",
        "        self.E_S = 1 / self.mu\n",
        "        # valor esperado de W (tempo de espera medio na fila)\n",
        "        self.E_W = self.epsilon / (self.m * self.mu * (1 - self.ro))\n",
        "        # valor esperado de R (tempo de resposta medio)\n",
        "        self.E_R = self.E_S + self.E_W\n",
        "\n",
        "\n",
        "    def pmf_N(self, x):\n",
        "        if (x<0 or not(isinstance(False, int))):\n",
        "            raise ValueError('x deve ser inteiro positivo')\n",
        "        if (x < self.m):\n",
        "            return (((self.m * self.ro) ** x) / factorial(x)) * self.p0\n",
        "        else:\n",
        "            return (((self.ro ** x) * (self.m ** self.m)) / factorial(self.m)) * self.p0\n",
        "\n",
        "    def pmf_Ns(self, x):\n",
        "        if (x<0 or not(isinstance(False, int))):\n",
        "            raise ValueError('x deve ser inteiro positivo')\n",
        "        if (x < self.m):\n",
        "            return self.pmf_N(x)\n",
        "        if (x == self.m):\n",
        "            return self.epsilon\n",
        "        else:\n",
        "            return 0.0\n",
        "\n",
        "    def pmf_Nq(self, x):\n",
        "        if (x<0 or not(isinstance(False, int))):\n",
        "            raise ValueError('x deve ser inteiro positivo')\n",
        "        if (x == 0):\n",
        "            pNq = 0\n",
        "            for i in range(0, self.m +1):\n",
        "                pNq = pNq + self.pmf_N(i)\n",
        "            return pNq\n",
        "        else:\n",
        "            return self.pmf_N(x+self.m)\n",
        "\n",
        "    def cdf_W(self, x):\n",
        "        if (x<0):\n",
        "            raise ValueError('x deve ser positivo')\n",
        "        return 1 - (self.epsilon*exp(-self.m*self.mu*(1-self.ro)*x))\n",
        "\n",
        "    def cdf_R(self, x):\n",
        "        if (x<0):\n",
        "            raise ValueError('x deve ser positivo')\n",
        "        if (self.ro != (self.m-1)/self.m):\n",
        "            MULT = (self.epsilon / (1 - self.m + self.m * self.ro)) # calculado aqui para legibilidade\n",
        "            p = 1 - exp(-self.mu * x) - MULT * (exp(-self.m * self.mu * (1 - self.ro) * x) - exp(-self.mu * x))\n",
        "        else:\n",
        "            p = 1 - exp(-self.mu * x) - (\n",
        "                    self.epsilon * self.mu * x * exp(-self.mu * x))\n",
        "        return p"
      ]
    },
    {
      "cell_type": "markdown",
      "metadata": {
        "id": "IfxuHp8ZbngN"
      },
      "source": [
        "## Exercício 1\n",
        "Um porto recebe um navio a cada 8 horas. Os tempos entre as chegadas são distribuídos exponencialmente. Um navio leva em média 12 horas para ser atendido em um terminal. Suponha que o porto tenha 2 terminais para atender os navios.<br>\n",
        "* Taxa de chegada: $lb = 1/8 = 0,125$\n",
        "* Tempo médio de serviço: $E[S] = 12$\n",
        "* Quantidade de servidores: $m = 2$<br>"
      ]
    },
    {
      "cell_type": "markdown",
      "metadata": {
        "id": "a-6w4KuqbngO"
      },
      "source": [
        "a)\tQuantos navios podem ser atendidos por hora em cada terminal (qual é a taxa de serviço em cada terminal)?\n",
        "\n",
        "$\\mu =\\frac{1}{{E[S]}}$<br>\n",
        "mu = ?\n",
        "\n",
        "Calcule o valor de mu e crie a fila com os parâmetros lb, mu e m."
      ]
    },
    {
      "cell_type": "code",
      "source": [
        "mu = 1 / 12\n",
        "\n",
        "lb = 1/8\n",
        "\n",
        "m = 2\n",
        "\n",
        "fila = FilaMMm(lb, mu, m)\n",
        "\n",
        "print(mu)\n",
        "print(f\"Fila criada com lb: {lb}, mu: {mu}, m: {m}\")"
      ],
      "metadata": {
        "colab": {
          "base_uri": "https://localhost:8080/"
        },
        "id": "eNpjud8ebrvq",
        "outputId": "3cc58182-8104-47b1-e40f-db26347e9cef"
      },
      "execution_count": 3,
      "outputs": [
        {
          "output_type": "stream",
          "name": "stdout",
          "text": [
            "0.08333333333333333\n",
            "Fila criada com lb: 0.125, mu: 0.08333333333333333, m: 2\n"
          ]
        }
      ]
    },
    {
      "cell_type": "markdown",
      "metadata": {
        "id": "F_dpEponbngO"
      },
      "source": [
        "b) Qual é o número médio de navios na fila do porto?"
      ]
    },
    {
      "cell_type": "code",
      "source": [
        "print(fila.E_Nq)"
      ],
      "metadata": {
        "colab": {
          "base_uri": "https://localhost:8080/"
        },
        "id": "UkZikOKxcGNs",
        "outputId": "142817c3-602f-4d81-97c5-9637ca618045"
      },
      "execution_count": 5,
      "outputs": [
        {
          "output_type": "stream",
          "name": "stdout",
          "text": [
            "1.9285714285714284\n"
          ]
        }
      ]
    },
    {
      "cell_type": "markdown",
      "metadata": {
        "id": "dhYlDIGobngP"
      },
      "source": [
        "c)\tQual a média do tempo que um navio demora para ser atendido no porto, considerando o tempo que está aguardando para atracar (tempo na fila) mais o tempo que está sendo atendido no cais (tempo de serviçoserviço)? (Dica: tempo de resposta)"
      ]
    },
    {
      "cell_type": "code",
      "source": [
        "fila.E_R"
      ],
      "metadata": {
        "colab": {
          "base_uri": "https://localhost:8080/"
        },
        "id": "LgDcKT41cOtj",
        "outputId": "efdf3727-aa50-4124-f6ad-6be9dea49ebc"
      },
      "execution_count": 6,
      "outputs": [
        {
          "output_type": "execute_result",
          "data": {
            "text/plain": [
              "27.428571428571427"
            ]
          },
          "metadata": {},
          "execution_count": 6
        }
      ]
    },
    {
      "cell_type": "markdown",
      "metadata": {
        "id": "xIHKso_LbngQ"
      },
      "source": [
        "d)\tQuantos terminais são necessários para que o tempo de resposta médio seja menor do que 15 horas? (Dica: variar o valor de m e testar o tempo médio na fila)"
      ]
    },
    {
      "cell_type": "code",
      "source": [
        "for m in range(1, 10):\n",
        "  try:\n",
        "    fila = FilaMMm(lb, mu, m)\n",
        "    if fila.E_R < 15:\n",
        "      print(m)\n",
        "      break\n",
        "  except ValueError:\n",
        "    pass"
      ],
      "metadata": {
        "colab": {
          "base_uri": "https://localhost:8080/"
        },
        "id": "eWtKSMrtcUp6",
        "outputId": "1a07b27b-3d67-41e9-af09-cb660e99efe9"
      },
      "execution_count": 9,
      "outputs": [
        {
          "output_type": "stream",
          "name": "stdout",
          "text": [
            "3\n"
          ]
        }
      ]
    },
    {
      "cell_type": "markdown",
      "metadata": {
        "id": "c6yiC-v6bngQ"
      },
      "source": [
        "e)\tQual a média do tempo que o navio espera para atracar (tempo na fila) se o porto tiver a quantidade de terminais calculadas no item anterior?"
      ]
    },
    {
      "cell_type": "code",
      "source": [
        "fila = FilaMMm(lb, mu, 3)\n",
        "fila.E_W"
      ],
      "metadata": {
        "colab": {
          "base_uri": "https://localhost:8080/"
        },
        "id": "LZ37_83icxMT",
        "outputId": "7015e005-9251-47a7-f85d-ef937d35ba28"
      },
      "execution_count": 12,
      "outputs": [
        {
          "output_type": "execute_result",
          "data": {
            "text/plain": [
              "1.894736842105263"
            ]
          },
          "metadata": {},
          "execution_count": 12
        }
      ]
    },
    {
      "cell_type": "markdown",
      "metadata": {
        "id": "I7gMtBNybngR"
      },
      "source": [
        "## Exercício 2\n",
        "Uma central de atendimento 10 pessoas a cada hora. Cada pesoas leva 20 minutos em média para ser atendida. O central tem atualmente 5 pontos de atendimento. Alguns pessoas reclamaram que o tempo de espera é muito grande. Analise o atendimento usando o modelo de filas:<br><br>\n",
        "Dica - converter todos os dados para minutos:\n",
        "* Taxa de chegada: 10/60\n",
        "* Tempo médio de serviço: 20\n",
        "* Quantidade de servidores: 5<br>\n",
        "\n",
        "a) Qual é a probabilidade de todos os pontos de atendimento estarem ocupados? (dica: $epsilon = P[N\\ge m]$<br>\n",
        "b) Qual é o número médio de pessoas na central?<br>\n",
        "c) Qual é o número médio de pessoas na fila?<br>\n",
        "d) Qual é o número médio de pessoas sendo atendidas?<br>\n",
        "e) Qual é a média do tempo que uma pessoa fica na central? (Dica: tempo de resposta médio)<br>\n",
        "f) Qual é a média do tempo que uma pessoa fica na fila? (Dica: tempo médio na fila)<br>\n",
        "g) O diretor da central quer limitar o seu tempo de espera na fila para menos do que 1,5 minutos. Quantos pontos de atendimento seriam necessários? (Dica: variar o valor de m e testar o tempo médio na fila)"
      ]
    },
    {
      "cell_type": "code",
      "source": [
        "lb = 10 / 60\n",
        "mu = 1 / 20\n",
        "m = 5\n",
        "\n",
        "fila = FilaMMm(lb, mu, m)\n",
        "\n",
        "print(fila.epsilon)\n",
        "\n",
        "print(fila.E_N)\n",
        "\n",
        "print(fila.E_Nq)\n",
        "\n",
        "print(fila.E_Ns)\n",
        "\n",
        "print(fila.E_R)\n",
        "\n",
        "print(fila.E_W)\n",
        "\n",
        "for m_novo in range(5, 20):\n",
        "  try:\n",
        "    fila_nova = FilaMMm(lb, mu, m_novo)\n",
        "    if fila_nova.E_W < 1.5:\n",
        "      print( m_novo)\n",
        "      break\n",
        "  except ValueError:\n",
        "    pass"
      ],
      "metadata": {
        "colab": {
          "base_uri": "https://localhost:8080/"
        },
        "id": "kkJMfcX6c-_l",
        "outputId": "af6f699f-1df2-4b11-ea1b-015be5b8545d"
      },
      "execution_count": 14,
      "outputs": [
        {
          "output_type": "stream",
          "name": "stdout",
          "text": [
            "0.3266692800209068\n",
            "3.9866718933751466\n",
            "0.6533385600418135\n",
            "3.333333333333333\n",
            "23.92003136025088\n",
            "3.920031360250881\n",
            "6\n"
          ]
        }
      ]
    }
  ],
  "metadata": {
    "kernelspec": {
      "display_name": "Python 3 (ipykernel)",
      "language": "python",
      "name": "python3"
    },
    "language_info": {
      "codemirror_mode": {
        "name": "ipython",
        "version": 3
      },
      "file_extension": ".py",
      "mimetype": "text/x-python",
      "name": "python",
      "nbconvert_exporter": "python",
      "pygments_lexer": "ipython3",
      "version": "3.8.3"
    },
    "colab": {
      "provenance": []
    }
  },
  "nbformat": 4,
  "nbformat_minor": 0
}