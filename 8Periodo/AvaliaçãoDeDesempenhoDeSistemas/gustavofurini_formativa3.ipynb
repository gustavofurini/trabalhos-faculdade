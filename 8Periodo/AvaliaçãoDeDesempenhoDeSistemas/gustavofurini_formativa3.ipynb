{
  "cells": [
    {
      "cell_type": "markdown",
      "metadata": {
        "id": "6ut9eebE68nr"
      },
      "source": [
        "# Formativa 03"
      ]
    },
    {
      "cell_type": "code",
      "execution_count": null,
      "metadata": {
        "id": "rhe_bA8c68oH"
      },
      "outputs": [],
      "source": [
        "import scipy.stats as st\n",
        "import numpy as np"
      ]
    },
    {
      "cell_type": "markdown",
      "metadata": {
        "id": "Dd9qijf068oS"
      },
      "source": [
        "### A probabilidade de sucesso de um experimento é de 0,3 e ele deve ser realizado até que o resultado com sucesso seja alcançado. Qual a probabilidade que o experimento tenha que se realizar mais de 3 vezes?\n",
        "\n",
        "O problema envolve a distribuição geométrica porque a sua estrutura é um experimento que tem que ser realizado até que se obtenha o resultado pretendido (ex. jogar uma moeda até sair cara). O parâmetro da distribuição é $p = 0.3$<br><br>\n",
        "\n",
        "**Dicas:** (i) A pegunta de probabilidade refere-se a mais de 3 vezes, ou seja, precissamos calcular $P[X>3]$. (ii) Para calcular $P[X>3]$ precisamos somar todas as probabilidade para valores maior do que 3, ou seja, $P[X=4]+P[X=5]+P[X=6] +...$ (uma soma infinita). (iii) A maneira de resolver isso é calcular 1 menos as probabilidades para valores menores ou igual a 3 ($P[X \\le 3]$), ou seja $1 - (P[X=1]+P[X=2]+P[X=3])$.<br><br>Existem várias maneiras de calcalcular $P[X \\le 3]$."
      ]
    },
    {
      "cell_type": "code",
      "execution_count": null,
      "metadata": {
        "id": "1GV9nND3a5C4"
      },
      "outputs": [],
      "source": [
        "p = 0.3"
      ]
    },
    {
      "cell_type": "code",
      "execution_count": null,
      "metadata": {
        "id": "AhajQPTFa5C6",
        "colab": {
          "base_uri": "https://localhost:8080/"
        },
        "outputId": "1a291870-a490-43a2-8cdb-124c4a406d69"
      },
      "outputs": [
        {
          "output_type": "stream",
          "name": "stdout",
          "text": [
            "0.34299999999999997\n"
          ]
        }
      ],
      "source": [
        "# Calcular probabilidade de X ser menor ou igual a 3\n",
        "# Somar os valores da pmf de 1 a 3\n",
        "PXMenorIgual3 = st.geom.pmf([1, 2, 3], p)\n",
        "PXMenorIgual3 = np.sum(PXMenorIgual3)\n",
        "\n",
        "# Calcular probabilidade de X ser maior do que 3\n",
        "PXMaior3 = 1 - PXMenorIgual3\n",
        "print(PXMaior3)"
      ]
    },
    {
      "cell_type": "code",
      "execution_count": null,
      "metadata": {
        "id": "AmJGMn_6a5C-",
        "colab": {
          "base_uri": "https://localhost:8080/"
        },
        "outputId": "fad55ea0-4cc3-4546-a806-dbd6cc279e79"
      },
      "outputs": [
        {
          "output_type": "stream",
          "name": "stdout",
          "text": [
            "0.34299999999999997\n"
          ]
        }
      ],
      "source": [
        "# Calcular probabilidade de X ser menor ou igual a 3\n",
        "# Passar um vetor com os valores para os quais queremos calcular a probabilidade para geom.pmf.\n",
        "# A resposta é um vetor de valores cujos valores podem ser somados com numpy\n",
        "PXMenorIgual3 = np.sum(st.geom.pmf([1, 2, 3], p))\n",
        "\n",
        "# Calcular probabilidade de X ser maior do que 3\n",
        "PXMaior3 = 1 - PXMenorIgual3\n",
        "print(PXMaior3)"
      ]
    },
    {
      "cell_type": "code",
      "execution_count": null,
      "metadata": {
        "id": "JaQjutIRa5DF",
        "colab": {
          "base_uri": "https://localhost:8080/"
        },
        "outputId": "1b7b9ab0-b6f6-452f-ff82-babd6fee4b87"
      },
      "outputs": [
        {
          "output_type": "stream",
          "name": "stdout",
          "text": [
            "0.3430000000000001\n"
          ]
        }
      ],
      "source": [
        "# Calcular probabilidade de X ser menor ou igual a 3\n",
        "# usar a função geom.cdf\n",
        "PXMenorIgual3 = st.geom.cdf(3, p)\n",
        "\n",
        "# Calcular probabilidade de X ser maior do que 3\n",
        "PXMaior3 = 1 - PXMenorIgual3\n",
        "\n",
        "print(PXMaior3)"
      ]
    },
    {
      "cell_type": "markdown",
      "metadata": {
        "id": "WOHr_HWw68ot"
      },
      "source": [
        "### Um departamento de qualidade realiza testes em hard disk selecionados aleatoriamente. A política definida é parar o processo de fabricação para calibração se um inspetor encontrar mais do que quatro defeitos em um disco. Qual é a probabilidade de o processo de fabricação ser interrompido se o número médio de defeitos é dois, e os defeitos são distribuídos segundo a distribuição de Poisson?\n",
        "\n",
        "O problema envolve a distribuição de Poisson (dado do problema). O parâmetro da distribuição é $L = 2$, porque a média da distribuição é 2 (dado do problema) e porque a média tem o mesmo valor do que o parâmetro $E[X] = L$<br><br>\n",
        "\n",
        "**Dicas:** (i) Para o processo ser interrompido o inspetor deve encontrar mais do que 4 defeitos, ou seja, devmos calcular $P[X>4]$. (ii) Para calcular $P[X>4]$ precisamos somar todas as probabilidade para valores maior do que 4, ou seja, $P[X=5]+P[X=6]+P[X=7] +...$ (uma soma infinita). (iii) A maneira de resolver isso é calcular 1 menos as probabilidades para valores menores ou igual a 4 ($P[X \\le 4]$), ou seja $1 - (P[X=0]+P[X=1]+P[X=2]+P[X=3]+P[X=4])$.<br><br>Existem várias maneiras de calcalcular $P[X \\le 4]$."
      ]
    },
    {
      "cell_type": "code",
      "execution_count": null,
      "metadata": {
        "id": "pQCLk7m8a5DK"
      },
      "outputs": [],
      "source": [
        "L=2"
      ]
    },
    {
      "cell_type": "code",
      "execution_count": null,
      "metadata": {
        "id": "d60mD5g6a5DM",
        "colab": {
          "base_uri": "https://localhost:8080/"
        },
        "outputId": "18388d1f-c37b-41f1-b718-be91a418ec60"
      },
      "outputs": [
        {
          "output_type": "stream",
          "name": "stdout",
          "text": [
            "0.052653017343711195\n"
          ]
        }
      ],
      "source": [
        "# Calcular probabbilidade de X ser menor ou igual a 4\n",
        "# Somar os valores da pmf de 0 a 4\n",
        "PXMenorIgual4 = st.poisson.pmf([0, 1, 2, 3, 4], L)\n",
        "PXMenorIgual4 = np.sum(PXMenorIgual4)\n",
        "\n",
        "# Calcular probabilidade de X ser maior do que 3\n",
        "PXMaior4 = 1 - PXMenorIgual4\n",
        "print(PXMaior4)"
      ]
    },
    {
      "cell_type": "code",
      "execution_count": null,
      "metadata": {
        "id": "_eaqkNpTa5DP",
        "colab": {
          "base_uri": "https://localhost:8080/"
        },
        "outputId": "d346ad46-9612-4f93-8639-4530e75e5e1b"
      },
      "outputs": [
        {
          "output_type": "stream",
          "name": "stdout",
          "text": [
            "0.052653017343711195\n"
          ]
        }
      ],
      "source": [
        "# Calcular probabilidade de X ser menor ou igual a 4\n",
        "# Passar um vetor com os valores para os quais queremos calcular a probabilidade para poisson.pmf.\n",
        "# A resposta é um vetor de valores cujos valores podem ser somados com numpy\n",
        "PXMenorIgual4 = np.sum(st.poisson.pmf([0, 1, 2, 3, 4], L))\n",
        "\n",
        "# Calcular probabilidade de X ser maior do que 4\n",
        "PXMaior4 = 1 - PXMenorIgual4\n",
        "print(PXMaior4)"
      ]
    },
    {
      "cell_type": "code",
      "execution_count": null,
      "metadata": {
        "id": "BIKdJYh0a5DQ",
        "colab": {
          "base_uri": "https://localhost:8080/"
        },
        "outputId": "144e238f-61f8-4c42-9ea6-894cdb087ada"
      },
      "outputs": [
        {
          "output_type": "stream",
          "name": "stdout",
          "text": [
            "0.052653017343711084\n"
          ]
        }
      ],
      "source": [
        "# Calcular probabilidade de X ser menor ou igual a 4\n",
        "# usar a função poisson.cdf\n",
        "PXMenorIgual4 = st.poisson.cdf(4, L)\n",
        "\n",
        "# Calcular probabilidade de X ser maior do que 4\n",
        "PXMaior4 = 1 - PXMenorIgual4\n",
        "print(PXMaior4)"
      ]
    }
  ],
  "metadata": {
    "colab": {
      "provenance": []
    },
    "kernelspec": {
      "display_name": "Python 3 (ipykernel)",
      "language": "python",
      "name": "python3"
    },
    "language_info": {
      "codemirror_mode": {
        "name": "ipython",
        "version": 3
      },
      "file_extension": ".py",
      "mimetype": "text/x-python",
      "name": "python",
      "nbconvert_exporter": "python",
      "pygments_lexer": "ipython3",
      "version": "3.12.3"
    }
  },
  "nbformat": 4,
  "nbformat_minor": 0
}