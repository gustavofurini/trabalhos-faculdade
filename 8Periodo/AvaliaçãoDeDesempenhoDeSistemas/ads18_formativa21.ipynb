{
  "cells": [
    {
      "cell_type": "markdown",
      "metadata": {
        "id": "HR20djw5frpZ"
      },
      "source": [
        "# Fila MG1"
      ]
    },
    {
      "cell_type": "markdown",
      "metadata": {
        "id": "UaI40pNufrpb"
      },
      "source": [
        "## Classe FilaMG1\n",
        "Calcula valores esperados para as variáveis aleatórias de uma fila MG1.<br><br>\n",
        "Deve ser chamada com 3 argumentos:\n",
        "* taxa de chegada das tarefas\n",
        "* média do tempo de serviço\n",
        "* desvio pdadão do tempo de serviço<br><br>\n",
        "\n",
        "Um objeto da classe FilaMG1 oferece os seguintes atibutos:\n",
        "* lb: taxa de chegada\n",
        "* E_S: média do tempo de serviço\n",
        "* DP_S: desvio padrão do tempo de serviço\n",
        "* C_S: coeficiente de variaçãlo do tempo de serviço ($DP_S/E_S$)\n",
        "* ro: $lb * E_S$\n",
        "* U: taxa de utilização do sistema\n",
        "\n",
        "* E_Ns: valor esperado de Ns (quantidade media de tarefas servidas)\n",
        "* E_Nq: valor esperado de Nq (tamanho medio da fila)\n",
        "* E_N: valor esperado de N (quantidade media de tarefas no sistema)\n",
        "* E_S: valor esperado de S (tempo de serviço médio)\n",
        "* E_W: valor esperado de W (tempo de espera medio na fila)\n",
        "* E_R: valor esperado de R (tempo de resposta medio)<br><br>"
      ]
    },
    {
      "cell_type": "code",
      "execution_count": 1,
      "metadata": {
        "id": "gdGG-yZzfrpc"
      },
      "outputs": [],
      "source": [
        "from math import sqrt\n",
        "class FilaMG1:\n",
        "    def __init__(self, lb, E_S, DP_S):\n",
        "        if (lb >= 1/E_S):\n",
        "            raise ValueError('Lambda deve ser menor do que 1/E_S')\n",
        "        self.lb = float(lb)\n",
        "        self.E_S = float(E_S)\n",
        "        self.DP_S = DP_S\n",
        "        self.ro = lb * E_S\n",
        "        self.CV_S = DP_S / E_S\n",
        "\n",
        "        # valor esperado de Ns (tamanho medio da fila)\n",
        "        self.E_Ns = self.ro\n",
        "        # valor esperado de Nq (tamanho medio da fila)\n",
        "        self.E_Nq = (self.ro**2)*(1 +  self.CV_S**2) / (2*(1 - self.ro))\n",
        "        # valor esperado de N quantidade media de tarefas no sistema)\n",
        "        self.E_N = self.E_Nq + self.E_Ns\n",
        "        # valor esperado de W (tempo médio de espera na fila)\n",
        "        self.E_W = (self.ro*self.E_S) * (1 +  self.CV_S**2) / (2*(1 - self.ro))\n",
        "        # valor esperado de R (tempo de resposta medio)\n",
        "        self.E_R = self.E_S + self.E_W"
      ]
    },
    {
      "cell_type": "markdown",
      "metadata": {
        "id": "EpYVqqQDfrpd"
      },
      "source": [
        "### Exemplo 1\n",
        "Um sistema com um único servidor está sujeito a uma taxa de chegada de 30 tarefas por minuto, sendo exponencial a distribuição do tempo entre duas chegadas consecutivas. Não há informação sobre a função de densidade do tempo de serviço, mas sabe-se que o tempo de serviço médio é 1,2 segundos e que a variância do tempo de serviço é 0,5.<br>\n",
        "Calcular:\n",
        "* O número médio de tarefas na fila.\n",
        "* O tempo médio de espera na fila."
      ]
    },
    {
      "cell_type": "markdown",
      "metadata": {
        "id": "j3FtU6cHfrpe"
      },
      "source": [
        "#### Criar a fila\n",
        "* $\\lambda= \\frac{30}{60}=0,5$\n",
        "* $E[S]=1,2$\n",
        "* $DP[S]=\\sqrt{0,5}$"
      ]
    },
    {
      "cell_type": "code",
      "execution_count": 2,
      "metadata": {
        "id": "TE8NRgRcfrpe"
      },
      "outputs": [],
      "source": [
        "lb = 0.5\n",
        "E_S = 1.2\n",
        "DP_S = 0.5**(1/2)\n",
        "fila = FilaMG1(lb, E_S, DP_S)"
      ]
    },
    {
      "cell_type": "markdown",
      "metadata": {
        "id": "hmFPS0UJfrpe"
      },
      "source": [
        "#### Calcular o número médio de tarefas na fila"
      ]
    },
    {
      "cell_type": "code",
      "execution_count": 3,
      "metadata": {
        "colab": {
          "base_uri": "https://localhost:8080/"
        },
        "id": "sqE8MfIOfrpf",
        "outputId": "09a7b080-e227-43e9-f8a5-2eccab2605a0"
      },
      "outputs": [
        {
          "output_type": "stream",
          "name": "stdout",
          "text": [
            "0.6062500000000001\n"
          ]
        }
      ],
      "source": [
        "print(fila.E_Nq)"
      ]
    },
    {
      "cell_type": "markdown",
      "metadata": {
        "id": "hLBKESSPfrpf"
      },
      "source": [
        "#### Calcular o tempo médio de espera na fila"
      ]
    },
    {
      "cell_type": "code",
      "execution_count": 4,
      "metadata": {
        "colab": {
          "base_uri": "https://localhost:8080/"
        },
        "id": "IFjPtB6Pfrpf",
        "outputId": "adf6d888-958b-4c5a-e57a-981c524b96b9"
      },
      "outputs": [
        {
          "output_type": "stream",
          "name": "stdout",
          "text": [
            "1.2125000000000001\n"
          ]
        }
      ],
      "source": [
        "print(fila.E_W)"
      ]
    },
    {
      "cell_type": "markdown",
      "metadata": {
        "id": "txyQ3uxBfrpf"
      },
      "source": [
        "### Exemplo 2\n",
        "O número médio de tarefas na fila em um sistema M/D/1 é 0,82, e o tempo de serviço médio é 1,2 segundos.<br>\n",
        "Calcular:\n",
        "* O tempo na fila médio.\n",
        "* O tempo de resposta médio.\n",
        "Obs: A fila MD1 é uma fila MG1 com desvio padrão do tempo de serviço igual a 0.<br><br>\n",
        "\n",
        "Dados:\n",
        "* $E[S] = 1,2$\n",
        "* $E[N_{q}] = 0,82$<br>\n",
        "\n",
        "Calcula $\\rho$ e $\\lambda$:\n",
        "* $E[N_{q}] = \\frac{\\rho^{2}}{2\\left( 1-\\rho \\right)}$<br>\n",
        "* $\\frac{\\rho^{2}}{2\\left( 1-\\rho \\right)} = 0,82$<br>\n",
        "* $\\rho^{2}=0,82\\cdot 2\\left( 1-\\rho \\right)$<br>\n",
        "* $\\rho^{2}=1,64-1,64\\rho$<br>\n",
        "* $\\rho^{2}+1,64\\rho-1,64=0$<br>\n",
        "* $\\rho=0,694$<br><br>\n",
        "\n",
        "* $\\rho=\\lambda\\cdot E[S]$<br>\n",
        "* $0,694 = \\lambda\\cdot 1,2$<br>\n",
        "* $\\lambda = \\frac{0,694}{1,2} = 0,5784$"
      ]
    },
    {
      "cell_type": "markdown",
      "metadata": {
        "id": "h656YkD4frpf"
      },
      "source": [
        "#### Criar a fila"
      ]
    },
    {
      "cell_type": "code",
      "execution_count": 5,
      "metadata": {
        "colab": {
          "base_uri": "https://localhost:8080/"
        },
        "id": "r5As2tJefrpf",
        "outputId": "ccc119c9-b295-4cca-d29d-875bdf77e199"
      },
      "outputs": [
        {
          "output_type": "stream",
          "name": "stdout",
          "text": [
            "0.694067369703211\n",
            "0.5783894747526759\n"
          ]
        }
      ],
      "source": [
        "# Dados\n",
        "E_S = 1.2\n",
        "DP_S = 0\n",
        "E_Nq = 0.82\n",
        "\n",
        "# Cálculo de ro e lambda\n",
        "ro = (-1.64+sqrt(1.64**2-4*(-1.62)))/2\n",
        "print(ro)\n",
        "lb = ro/1.2\n",
        "print(lb)\n",
        "\n",
        "# Criar a fila\n",
        "fila = FilaMG1(lb, E_S, DP_S)"
      ]
    },
    {
      "cell_type": "markdown",
      "metadata": {
        "id": "6Urz4vmNfrpg"
      },
      "source": [
        "#### Calcular tempo médio na fila e tempo de resposta médio"
      ]
    },
    {
      "cell_type": "code",
      "execution_count": 6,
      "metadata": {
        "colab": {
          "base_uri": "https://localhost:8080/"
        },
        "id": "A61StEa3frpg",
        "outputId": "cf55a750-b400-451c-fab3-626f7e9d55b2"
      },
      "outputs": [
        {
          "output_type": "stream",
          "name": "stdout",
          "text": [
            "Tempo médio na fila = 1.361216099825418\n",
            "Tempo de resposta médio = 2.561216099825418\n"
          ]
        }
      ],
      "source": [
        "print(f'Tempo médio na fila = {fila.E_W}')\n",
        "print(f'Tempo de resposta médio = {fila.E_R}')"
      ]
    },
    {
      "cell_type": "markdown",
      "metadata": {
        "id": "pmOhUGCzfrpg"
      },
      "source": [
        "## Formativa\n",
        "Considere a seguinte fila com um único servidor: o tempo entre chegadas é distribuído exponencialmente com média de 10 milissegundos e o tempo de serviço tem distribuição uniforme com um máximo de 9 milissegundos e um mínimo de 7 milissegundos.<br><br>\n",
        "Calcular:\n",
        "* o tempo médio de espera na fila (dica: o tempo de espera na fila é medido pela variável $W$)\n",
        "* o número médio de tarefas na fila (dica: medido pela variável $N_{q}$)\n",
        "* o tempo médio de resposta (dica: medido pela variável $R$)\n",
        "\n",
        "Dica - para a variável $S$ (tempo de serviço) com distribuição uniforme com parâmetros $a$ e $b$:\n",
        "* $E[S] = \\frac{a+b}{2}$\n",
        "* $V[S] = \\frac{\\left( a-b \\right)^{2}}{12}$"
      ]
    },
    {
      "cell_type": "markdown",
      "metadata": {
        "id": "0nT2QRpEfrpg"
      },
      "source": [
        "#### Criar a fila"
      ]
    },
    {
      "cell_type": "code",
      "execution_count": 7,
      "metadata": {
        "id": "OXcMQ6NTfrpg"
      },
      "outputs": [],
      "source": [
        "# Coloque seu código aqui\n",
        "a = 7\n",
        "b = 9\n",
        "lb = 1/10"
      ]
    },
    {
      "cell_type": "markdown",
      "metadata": {
        "id": "oeM_Nc1Efrpg"
      },
      "source": [
        "#### Calcular tempo médio na fila"
      ]
    },
    {
      "cell_type": "code",
      "source": [
        "E_S = (a + b) / 2\n",
        "DP_S = (((a - b) ** 2) / 12) ** (1 / 2)\n",
        "fila = FilaMG1(lb, E_S, DP_S)\n",
        "print(f'Tempo médio na fila = {fila.E_W}')\n"
      ],
      "metadata": {
        "colab": {
          "base_uri": "https://localhost:8080/"
        },
        "id": "HBfzUTudhSPJ",
        "outputId": "8edff05f-3ce7-407f-fd67-0479e9222730"
      },
      "execution_count": 11,
      "outputs": [
        {
          "output_type": "stream",
          "name": "stdout",
          "text": [
            "Tempo médio na fila = 16.08333333333334\n"
          ]
        }
      ]
    },
    {
      "cell_type": "markdown",
      "metadata": {
        "id": "ZvqlTdrjfrph"
      },
      "source": [
        "#### Calcular numero médio de tarefas na fila"
      ]
    },
    {
      "cell_type": "code",
      "source": [
        "print(f'Número médio de tarefas na fila = {fila.E_Nq}')\n"
      ],
      "metadata": {
        "colab": {
          "base_uri": "https://localhost:8080/"
        },
        "id": "cfbNA8zqhbRK",
        "outputId": "b94140e2-ba0f-461c-bbc1-63a38b118fbc"
      },
      "execution_count": 12,
      "outputs": [
        {
          "output_type": "stream",
          "name": "stdout",
          "text": [
            "Número médio de tarefas na fila = 1.6083333333333338\n"
          ]
        }
      ]
    },
    {
      "cell_type": "markdown",
      "metadata": {
        "id": "K_1LjP-Ifrph"
      },
      "source": [
        "#### Calcular tempo médio de resposta"
      ]
    },
    {
      "cell_type": "code",
      "execution_count": 13,
      "metadata": {
        "colab": {
          "base_uri": "https://localhost:8080/"
        },
        "id": "OGY1LNhhfrpi",
        "outputId": "c6a686ff-36af-479a-e5ee-2dc92b72cf6b"
      },
      "outputs": [
        {
          "output_type": "stream",
          "name": "stdout",
          "text": [
            "Tempo médio de resposta = 24.08333333333334\n"
          ]
        }
      ],
      "source": [
        "print(f'Tempo médio de resposta = {fila.E_R}')"
      ]
    }
  ],
  "metadata": {
    "kernelspec": {
      "display_name": "Python 3 (ipykernel)",
      "language": "python",
      "name": "python3"
    },
    "language_info": {
      "codemirror_mode": {
        "name": "ipython",
        "version": 3
      },
      "file_extension": ".py",
      "mimetype": "text/x-python",
      "name": "python",
      "nbconvert_exporter": "python",
      "pygments_lexer": "ipython3",
      "version": "3.8.3"
    },
    "colab": {
      "provenance": []
    }
  },
  "nbformat": 4,
  "nbformat_minor": 0
}