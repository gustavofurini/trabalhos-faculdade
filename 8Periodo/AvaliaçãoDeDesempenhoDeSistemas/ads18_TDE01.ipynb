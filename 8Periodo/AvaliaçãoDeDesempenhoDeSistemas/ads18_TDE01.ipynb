{
  "cells": [
    {
      "cell_type": "markdown",
      "metadata": {
        "id": "69N5jz5n1_ir"
      },
      "source": [
        "# VALIAÇÃO CRUZADA\n",
        "A validação cruzada é um método de avaliação de modelos de aprendizado de máquina:\n",
        "* Ajuda a comparar e selecionar um modelo apropriado para o problema específico de modelagem preditiva\n",
        "* Desenvolvido para obter uma estimativa precisa da acurácia de previsão um conjunto de dados\n",
        "* Fornece uma visão ampla do desempenho de modelos de aprendizagem de máquina\n",
        "* Ajuda a reduzir o risco de overfiting e melhorar o desempenho do modelo\n",
        "* Particiona os dados de treinamento em grupos diferentes com tamanhos definidos e usando-os para treinar e testar o modelo de aprendizagem de máquina em múltiplas configurações\n",
        "\n",
        "\n",
        "O conjunto original de dados de treinamento é particionado em um número determinado de grupos com conjuntos de teste e treinamento. Os grupos são organizados de modo que todos os dados de treinamento sejam usados para testar o modelo. A Validação cruzada reduz o overfiting por fornecer subconjuntos diferentes de dados para treinar e testar o modelo. Isso garante que o modelo tem menos chances de se ajustar a ruídos e outras características únicas de dados específicos.\n",
        "\n",
        "A validação cruzada é realizada em múltiplas iterações, onde os dados de treinamento são particionados em novos subconjuntos de treinamento e teste (para cada iteração), e o classificador é treinado treinado e avaliado usando-se esses subconjuntos.<br>\n",
        "\n",
        "Existem várias técnicas diferentes para validação cruzada, ainda assim, todas têm um algoritmo semelhante:<br>\n",
        "1 - Dividir o conjunto de dados de treinamento dois subconjuntos: um de com dados treinamento da iteração e outro com dados de teste da iteração.<br>\n",
        "2 - Treinar o modelo no conjunto de treinamento.<br>\n",
        "3 - Validar o modelo no conjunto de teste.<br>\n",
        "4 - Repetir etapas 1 a 3 algumas vezes. Este número depende do método de validação cruzada que está sendo usado.<br>\n",
        "\n",
        "\n",
        "## Método Kfold\n",
        "Validação cruzada K-Fold é uma implementação de validação cruzada que usa K partições dos dados de treinamento original. A validação é realizada em um número fixo K de iterações. A cada iteração o conjunto de dados de treinamento é particionado de modo que ao longo das K iterações, todos os dados do conjunto de treinamento original sejam utilizados para testar o classificador. O desempenho médio dos modelos treinados nas K iterações serve como o resultado usado para avaliação.<br>\n",
        "\n",
        "A biblioteca sklearn fornece a função Kfold que particiona o conjunto de dados de treinamento original nos subconjuntos de treinamento e teste para cada iteração.<br>\n",
        "\n",
        "O TDE é dividido em três partes:\n",
        "\n",
        "\n",
        "\n",
        "### Parte 1 - Classificador GaussianNB\n",
        "* Treinamento\n",
        "* Cálculo de métricas\n",
        "* Validação cruzada\n",
        "\n",
        "### Parte 2 - Classificação GaussianMV\n",
        "* Treinamento\n",
        "* Cálculo de métricas\n",
        "* Validação cruzada\n",
        "\n",
        "### Parte 3 - Conclusão"
      ]
    },
    {
      "cell_type": "markdown",
      "metadata": {
        "id": "k9-Rlvz91_it"
      },
      "source": [
        "### Importar bibliotecas"
      ]
    },
    {
      "cell_type": "code",
      "execution_count": 3,
      "metadata": {
        "colab": {
          "base_uri": "https://localhost:8080/"
        },
        "id": "xXMgiNeE1_it",
        "outputId": "63a8d96b-bbad-4105-e7c1-b40b42948e1b"
      },
      "outputs": [
        {
          "output_type": "stream",
          "name": "stdout",
          "text": [
            "Found existing installation: scikit-learn 1.5.2\n",
            "Uninstalling scikit-learn-1.5.2:\n",
            "  Successfully uninstalled scikit-learn-1.5.2\n",
            "Collecting scikit-learn\n",
            "  Using cached scikit_learn-1.5.2-cp310-cp310-manylinux_2_17_x86_64.manylinux2014_x86_64.whl.metadata (13 kB)\n",
            "Requirement already satisfied: numpy>=1.19.5 in /usr/local/lib/python3.10/dist-packages (from scikit-learn) (1.26.4)\n",
            "Requirement already satisfied: scipy>=1.6.0 in /usr/local/lib/python3.10/dist-packages (from scikit-learn) (1.13.1)\n",
            "Requirement already satisfied: joblib>=1.2.0 in /usr/local/lib/python3.10/dist-packages (from scikit-learn) (1.4.2)\n",
            "Requirement already satisfied: threadpoolctl>=3.1.0 in /usr/local/lib/python3.10/dist-packages (from scikit-learn) (3.5.0)\n",
            "Using cached scikit_learn-1.5.2-cp310-cp310-manylinux_2_17_x86_64.manylinux2014_x86_64.whl (13.3 MB)\n",
            "Installing collected packages: scikit-learn\n",
            "Successfully installed scikit-learn-1.5.2\n",
            "Collecting scikit-plot\n",
            "  Downloading scikit_plot-0.3.7-py3-none-any.whl.metadata (7.1 kB)\n",
            "Requirement already satisfied: matplotlib>=1.4.0 in /usr/local/lib/python3.10/dist-packages (from scikit-plot) (3.7.1)\n",
            "Requirement already satisfied: scikit-learn>=0.18 in /usr/local/lib/python3.10/dist-packages (from scikit-plot) (1.5.2)\n",
            "Requirement already satisfied: scipy>=0.9 in /usr/local/lib/python3.10/dist-packages (from scikit-plot) (1.13.1)\n",
            "Requirement already satisfied: joblib>=0.10 in /usr/local/lib/python3.10/dist-packages (from scikit-plot) (1.4.2)\n",
            "Requirement already satisfied: contourpy>=1.0.1 in /usr/local/lib/python3.10/dist-packages (from matplotlib>=1.4.0->scikit-plot) (1.3.0)\n",
            "Requirement already satisfied: cycler>=0.10 in /usr/local/lib/python3.10/dist-packages (from matplotlib>=1.4.0->scikit-plot) (0.12.1)\n",
            "Requirement already satisfied: fonttools>=4.22.0 in /usr/local/lib/python3.10/dist-packages (from matplotlib>=1.4.0->scikit-plot) (4.54.1)\n",
            "Requirement already satisfied: kiwisolver>=1.0.1 in /usr/local/lib/python3.10/dist-packages (from matplotlib>=1.4.0->scikit-plot) (1.4.7)\n",
            "Requirement already satisfied: numpy>=1.20 in /usr/local/lib/python3.10/dist-packages (from matplotlib>=1.4.0->scikit-plot) (1.26.4)\n",
            "Requirement already satisfied: packaging>=20.0 in /usr/local/lib/python3.10/dist-packages (from matplotlib>=1.4.0->scikit-plot) (24.1)\n",
            "Requirement already satisfied: pillow>=6.2.0 in /usr/local/lib/python3.10/dist-packages (from matplotlib>=1.4.0->scikit-plot) (10.4.0)\n",
            "Requirement already satisfied: pyparsing>=2.3.1 in /usr/local/lib/python3.10/dist-packages (from matplotlib>=1.4.0->scikit-plot) (3.1.4)\n",
            "Requirement already satisfied: python-dateutil>=2.7 in /usr/local/lib/python3.10/dist-packages (from matplotlib>=1.4.0->scikit-plot) (2.8.2)\n",
            "Requirement already satisfied: threadpoolctl>=3.1.0 in /usr/local/lib/python3.10/dist-packages (from scikit-learn>=0.18->scikit-plot) (3.5.0)\n",
            "Requirement already satisfied: six>=1.5 in /usr/local/lib/python3.10/dist-packages (from python-dateutil>=2.7->matplotlib>=1.4.0->scikit-plot) (1.16.0)\n",
            "Downloading scikit_plot-0.3.7-py3-none-any.whl (33 kB)\n",
            "Installing collected packages: scikit-plot\n",
            "Successfully installed scikit-plot-0.3.7\n",
            "Collecting scipy==1.11.4\n",
            "  Downloading scipy-1.11.4-cp310-cp310-manylinux_2_17_x86_64.manylinux2014_x86_64.whl.metadata (60 kB)\n",
            "\u001b[2K     \u001b[90m━━━━━━━━━━━━━━━━━━━━━━━━━━━━━━━━━━━━━━━━\u001b[0m \u001b[32m60.4/60.4 kB\u001b[0m \u001b[31m4.2 MB/s\u001b[0m eta \u001b[36m0:00:00\u001b[0m\n",
            "\u001b[?25hRequirement already satisfied: numpy<1.28.0,>=1.21.6 in /usr/local/lib/python3.10/dist-packages (from scipy==1.11.4) (1.26.4)\n",
            "Downloading scipy-1.11.4-cp310-cp310-manylinux_2_17_x86_64.manylinux2014_x86_64.whl (36.4 MB)\n",
            "\u001b[2K   \u001b[90m━━━━━━━━━━━━━━━━━━━━━━━━━━━━━━━━━━━━━━━━\u001b[0m \u001b[32m36.4/36.4 MB\u001b[0m \u001b[31m24.1 MB/s\u001b[0m eta \u001b[36m0:00:00\u001b[0m\n",
            "\u001b[?25hInstalling collected packages: scipy\n",
            "  Attempting uninstall: scipy\n",
            "    Found existing installation: scipy 1.13.1\n",
            "    Uninstalling scipy-1.13.1:\n",
            "      Successfully uninstalled scipy-1.13.1\n",
            "Successfully installed scipy-1.11.4\n"
          ]
        }
      ],
      "source": [
        "!pip uninstall scikit-learn -y\n",
        "!pip install -U scikit-learn\n",
        "!pip install scikit-plot\n",
        "!pip install scipy==1.11.4"
      ]
    },
    {
      "cell_type": "code",
      "execution_count": 4,
      "metadata": {
        "id": "XOlXkAqi1_iu"
      },
      "outputs": [],
      "source": [
        "import numpy as np\n",
        "\n",
        "from sklearn.naive_bayes import GaussianNB\n",
        "from sklearn import metrics\n",
        "import scikitplot as skplt\n",
        "from sklearn.model_selection import cross_val_score\n",
        "from sklearn.model_selection import KFold\n",
        "\n",
        "import matplotlib.pyplot as plt\n",
        "from matplotlib.patches import Patch"
      ]
    },
    {
      "cell_type": "markdown",
      "metadata": {
        "id": "TuH5-xKW1_iu"
      },
      "source": [
        "### Conectar com GoogleDrive"
      ]
    },
    {
      "cell_type": "markdown",
      "metadata": {
        "id": "aHszcPZL1_iv"
      },
      "source": [
        "### Leitura de dados de de treinamento\n",
        "O dados no arquivo YTreinamento2.csv não foram utilizado na FORMATIVA do classificador GaussianMV porque o treinamento desse classificador é não supervisionado.<br>\n",
        "Os dados são necessários para o classificador GaussianNB porque o seu treinamento é supervisionado.<br>\n",
        "Os dados também necessários para a validação cruzada."
      ]
    },
    {
      "cell_type": "code",
      "execution_count": 6,
      "metadata": {
        "id": "CalgSWa91_iv"
      },
      "outputs": [],
      "source": [
        "Xtre = np.loadtxt('/content/DadosTreinamento2.csv', delimiter=',')\n",
        "Ytre = np.loadtxt('/content/YTreinamento2.csv', delimiter=',')"
      ]
    },
    {
      "cell_type": "markdown",
      "metadata": {
        "id": "P5j4eZ2u1_iv"
      },
      "source": [
        "### Leitura dos dados de validação\n",
        "Os dados do arquivo DaddosValidação2 são necessários para treinar o classificador GaussianMV."
      ]
    },
    {
      "cell_type": "code",
      "execution_count": 7,
      "metadata": {
        "id": "5q0nEfU91_iv"
      },
      "outputs": [],
      "source": [
        "# Leitura do arquivo com dados de validação\n",
        "XYval = np.loadtxt('/content/DadosValidacao2.csv', delimiter=',')\n",
        "Xval = XYval[:,[0,1,2,3,4,5,6,7,8,9,10]]\n",
        "Yval = XYval[:,11]"
      ]
    },
    {
      "cell_type": "markdown",
      "metadata": {
        "id": "CePcLdzq1_iw"
      },
      "source": [
        "### Leitura dos dados de teste"
      ]
    },
    {
      "cell_type": "code",
      "execution_count": 8,
      "metadata": {
        "id": "fRGQK0Al1_iw"
      },
      "outputs": [],
      "source": [
        "XYtest = np.loadtxt('/content/DadosTeste2.csv', delimiter=',')\n",
        "X_test = XYtest[:,[0,1,2,3,4,5,6,7,8,9,10]]\n",
        "Y_test = XYtest[:,11]"
      ]
    },
    {
      "cell_type": "markdown",
      "metadata": {
        "id": "dusLMhNP1_iw"
      },
      "source": [
        "## Parte 1 - Classificador GaussianNB\n",
        "* Utilizar classificador GaussianNB para detecção de anomalias utilizando os dados de servidores em uma rede.\n",
        "* Calcular as métricas de classificação e comparar com o relatório produzido pela biblioteca sklearn.\n",
        "* Plotar a matriz de confusão\n",
        "* Realizar validação cruzada método KFold"
      ]
    },
    {
      "cell_type": "markdown",
      "metadata": {
        "id": "DADaXh4Y1_iw"
      },
      "source": [
        "### Treinamento e previsão\n",
        "* Criar classificador<br>\n",
        "* Treinar com dados de treinamento utilizando a matriz com os dados de treinamento (Xtre) e o vetor com os rótulo de treinamento (Ytre)<br>\n",
        "* Faz previsão utilizando os dados de teste (X_test)"
      ]
    },
    {
      "cell_type": "code",
      "execution_count": 10,
      "metadata": {
        "colab": {
          "base_uri": "https://localhost:8080/"
        },
        "id": "y6QAzBfG1_iw",
        "outputId": "46b47cef-5464-4178-93f4-6c4c7b0322e4"
      },
      "outputs": [
        {
          "output_type": "execute_result",
          "data": {
            "text/plain": [
              "array([0., 0., 0., 0., 0., 0., 0., 0., 0., 0., 0., 0., 0., 0., 0., 0., 0.,\n",
              "       0., 0., 0., 0., 0., 0., 0., 0., 0., 0., 0., 0., 0., 0., 0., 0., 0.,\n",
              "       0., 0., 0., 0., 0., 0., 0., 0., 0., 0., 0., 0., 0., 0., 1., 0., 0.,\n",
              "       0., 0., 0., 0., 0., 0., 0., 0., 0., 0., 0., 0., 0., 0., 0., 0., 0.,\n",
              "       0., 0., 0., 0., 0., 0., 1., 0., 0., 0., 1., 0., 0., 0., 1., 0., 0.,\n",
              "       1., 0., 0., 0., 0., 0., 0., 0., 0., 0., 0., 0., 0., 0., 0., 1., 0.,\n",
              "       1., 0., 0., 0., 0., 0., 0., 0., 0., 0., 0., 0., 0., 0., 0., 0., 0.,\n",
              "       0., 0., 1., 0., 0., 0., 0., 0., 0., 0., 0., 0., 0., 0., 0., 0., 0.,\n",
              "       0., 0., 0., 0., 0., 0., 0., 0., 0., 0., 0., 0., 0., 0., 0., 0., 0.,\n",
              "       0., 0., 0., 0., 0., 0., 0., 0., 0., 0., 0., 0., 0., 0., 0., 0., 0.,\n",
              "       0., 0., 0., 0., 0., 0., 0., 0., 0., 0., 0., 0., 0., 0., 0., 0., 0.,\n",
              "       0., 0., 0., 0., 0., 0., 0., 0., 0., 0., 0., 0., 0., 0., 0., 0., 0.,\n",
              "       0., 0., 0., 0., 0., 0., 0., 0., 0., 0., 0., 0., 0., 0., 0., 0., 0.,\n",
              "       0., 0., 0., 0., 0., 0., 0., 0., 0., 0., 1., 0., 0., 0., 0., 1., 0.,\n",
              "       0., 0., 0., 0., 0., 0., 0., 0., 1., 0., 0., 0., 0., 0., 0., 0., 0.,\n",
              "       0., 0., 0., 0., 0., 0., 0., 0., 0., 0., 0., 0., 0., 0., 0., 0., 0.,\n",
              "       0., 0., 0., 0., 0., 0., 0., 0., 0., 0., 0., 0., 0., 1., 0., 0., 0.,\n",
              "       0., 1., 0., 0., 0., 0., 0., 0., 0., 0., 0., 0., 1., 0., 0., 0., 0.,\n",
              "       0., 0., 0., 0., 0., 1., 0., 0., 0., 0., 0., 0., 0., 0., 0., 0., 0.,\n",
              "       0., 0., 0., 0., 0., 0., 0., 0., 0., 0., 0., 0., 0., 0., 0., 0., 0.,\n",
              "       0., 0., 0., 0., 0., 0., 0., 0., 0., 0., 0., 0., 1., 0., 0., 0., 0.,\n",
              "       0., 0., 0., 0., 0., 0., 0., 0., 0., 0., 0., 0., 0., 0., 0., 0., 0.,\n",
              "       0., 0., 0., 0., 0., 0., 0., 0., 0., 0., 0., 0., 0., 0., 0., 0., 0.,\n",
              "       0., 1., 0., 0., 0., 0., 0., 0., 0.])"
            ]
          },
          "metadata": {},
          "execution_count": 10
        }
      ],
      "source": [
        "# Criar classificador\n",
        "clf = GaussianNB()\n",
        "clf.fit(Xtre, Ytre)\n",
        "\n",
        "# Fazer previsão utilizando os dados de teste\n",
        "Y_prev = clf.predict(X_test)\n",
        "Y_prev"
      ]
    },
    {
      "cell_type": "markdown",
      "metadata": {
        "id": "wmiCB1g91_iw"
      },
      "source": [
        "### Métricas de classificação\n",
        "#### Nessa seção vamos calcular manualmete as métricas da biblioteca sklearn\n",
        "Considerando:\n",
        "* vp = verdadeiro positivo\n",
        "* vn = verdadeiro negativo\n",
        "* fp = falso positivo\n",
        "* fn = falso negativo\n",
        "\n",
        "Considerando a nomenclatura utilizada na biblioteca sklearn:\n",
        "* accuracy: (vp+vn)/(vp+vn+fp+fn)\n",
        "* support_0: quantidade real de negativos (fp + vn)\n",
        "* support_1: quantidade real de positivos (vp + fn)\n",
        "* precision_0: vn/(vn+fn)\n",
        "* precision_1: vp/(vp+fp)\n",
        "* precision_weighted_avg: (precision_0 \\* support_0 + precision_1 \\* support_1) / (support_0 + support_1)\n",
        "* recall_0: vn/(vn+fp)\n",
        "* recall_1: vp/(vp+fn)\n",
        "* recall_weighted_avg: (recall_0 \\* support_0 + recall_1 \\* support_1) / (support_0 + support_1)\n",
        "* F1_0: (2 \\* precision_0 \\* recall_0) / (precision_0 + recall_0)\n",
        "* F1_1: (2 \\* precision_1 \\* recall_1) / (precision_1 + recall_1)\n",
        "* F1_weighted_avg: (F1_0 \\* support_0 + F1_1 \\* support_1) / (support_0 + support_1)"
      ]
    },
    {
      "cell_type": "markdown",
      "metadata": {
        "id": "fb3fCq9P1_iw"
      },
      "source": [
        "#### Calcular vp vn fp fn\n",
        "Usar os vetores Y_test e Y_prev para calcular a quantidade de verdadeiros positivos (vp)<br>\n",
        "* Os valores verdadeiros positivos correspondem aos casos onde os rótulos de teste (em Y_test) têm valor igual a 1 e os valores previstos (em Y_prev) têm valor 1.<br>\n",
        "* Dica: O comando ((Y_test == 1)&(Y_prev == 1)) produz um vetor que terá valores True nas posições correspondentes aos verdadeiros positivos. Para encontrar a quantidade de verdadeiros positivos utilize a função sum.<br><br>\n",
        "\n",
        "Usar os vetores Y_test e Y_prev para calcular a quantidade de verdadeiros negativos (vn)<br>\n",
        "* Os valores verdadeiros positivos correspondem aos casos onde os rótulos de teste (em Y_test) têm valor igual a 1 e os valores previstos (em Y_prev) têm valor 1.<br>\n",
        "* Dica: O comando ((Y_test == 0)&(Y_prev == 0)) produz um vetor que terá valores True nas posições correspondentes aos verdadeiros positivos. Para encontrar a quantidade de verdadeiros positivos utilize a função sum.<br><br>\n",
        "\n",
        "Usar os vetores Y_test e Y_prev para calcular a quantidade de falsos positivos (fp)<br><br>\n",
        "Usar os vetores Y_test e Y_prev para calcular a quantidade de falsos negativos (fn)<br><br>"
      ]
    },
    {
      "cell_type": "code",
      "execution_count": 11,
      "metadata": {
        "colab": {
          "base_uri": "https://localhost:8080/"
        },
        "id": "H-SletCV1_iw",
        "outputId": "3809cae7-5101-455e-f6e9-a3bb5d2ec112"
      },
      "outputs": [
        {
          "output_type": "stream",
          "name": "stdout",
          "text": [
            "vp = 17, fp = 0, vn = 354, fn = 29\n"
          ]
        }
      ],
      "source": [
        "# Calcular a quantidade de verdadeiros positivos (vp)\n",
        "vp = sum((Y_test == 1) & (Y_prev == 1))\n",
        "\n",
        "# Calcular a quantidade de verdadeiros negativos (vn)\n",
        "vn = sum((Y_test == 0) & (Y_prev == 0))\n",
        "\n",
        "# Calcular a quantidade de falsos positivos (fp)\n",
        "fp = sum((Y_test == 0) & (Y_prev == 1))\n",
        "\n",
        "# Calcular a quantidade de falsos negativos (fn)\n",
        "fn = sum((Y_test == 1) & (Y_prev == 0))\n",
        "\n",
        "# Imprimir valores calculados\n",
        "print(f'vp = {vp}, fp = {fp}, vn = {vn}, fn = {fn}')\n"
      ]
    },
    {
      "cell_type": "markdown",
      "metadata": {
        "id": "KBXS6R721_iw"
      },
      "source": [
        "#### Calcular métricas"
      ]
    },
    {
      "cell_type": "code",
      "execution_count": 12,
      "metadata": {
        "colab": {
          "base_uri": "https://localhost:8080/"
        },
        "id": "cE7s6UO91_iw",
        "outputId": "1619ce66-faf3-4878-e503-be3f62db390b"
      },
      "outputs": [
        {
          "output_type": "stream",
          "name": "stdout",
          "text": [
            "accuracy = 0.93\n",
            "precision_0 = 0.92 recall_0 = 1.00 F1_0 = 0.96\n",
            "precision_1 = 1.00 recall_1 = 0.37 F1_1 = 0.54\n",
            "precision_mp = 0.93 recall_mp = 0.93 F1_mp = 0.91\n"
          ]
        }
      ],
      "source": [
        "# Calcular Accuracy\n",
        "acc = (vp + vn) / (vp + vn + fp + fn)\n",
        "\n",
        "# Se o código estiver correto, você deve encontrar accuracy = 0.93\n",
        "print('accuracy = {0:.2f}'.format(acc))\n",
        "\n",
        "# Calcular Precision, Recall e F1 para verdadeiros negativos (classe 0)\n",
        "prec_0 = vn / (vn + fn) if (vn + fn) != 0 else 0\n",
        "rec_0 = vn / (vn + fp) if (vn + fp) != 0 else 0\n",
        "F1_0 = (2 * prec_0 * rec_0) / (prec_0 + rec_0) if (prec_0 + rec_0) != 0 else 0\n",
        "\n",
        "# Se o código estiver correto, você deve encontrar precision_0 = 0.92, recall_0 = 1.00, F1_0 = 0.96\n",
        "print('precision_0 = {0:.2f} recall_0 = {1:.2f} F1_0 = {2:.2f}'.format(prec_0, rec_0, F1_0))\n",
        "\n",
        "# Calcular Precision, Recall e F1 para verdadeiros positivos (classe 1)\n",
        "prec_1 = vp / (vp + fp) if (vp + fp) != 0 else 0\n",
        "rec_1 = vp / (vp + fn) if (vp + fn) != 0 else 0\n",
        "F1_1 = (2 * prec_1 * rec_1) / (prec_1 + rec_1) if (prec_1 + rec_1) != 0 else 0\n",
        "\n",
        "# Se o código estiver correto, você deve encontrar precision_1 = 1.00, recall_1 = 0.37, F1_1 = 0.54\n",
        "print('precision_1 = {0:.2f} recall_1 = {1:.2f} F1_1 = {2:.2f}'.format(prec_1, rec_1, F1_1))\n",
        "\n",
        "# Calcular métricas ponderadas (weighted metrics)\n",
        "support_0 = fp + vn  # Suporte da classe 0\n",
        "support_1 = vp + fn  # Suporte da classe 1\n",
        "\n",
        "prec_mp = (prec_0 * support_0 + prec_1 * support_1) / (support_0 + support_1)\n",
        "rec_mp = (rec_0 * support_0 + rec_1 * support_1) / (support_0 + support_1)\n",
        "F1_mp = (F1_0 * support_0 + F1_1 * support_1) / (support_0 + support_1)\n",
        "\n",
        "# Se o código estiver correto, você deve encontrar precision_mp, recall_mp, F1_mp ponderados corretamente\n",
        "print('precision_mp = {0:.2f} recall_mp = {1:.2f} F1_mp = {2:.2f}'.format(prec_mp, rec_mp, F1_mp))\n"
      ]
    },
    {
      "cell_type": "markdown",
      "metadata": {
        "id": "w0tKyLZt1_ix"
      },
      "source": [
        "#### Conferir as métricas calculadas\n",
        "Conferir as métricas comparando com as métricas calculadas pela biblioteca sklearn.<br>\n",
        "Dica: utilizar metrics.classification_report."
      ]
    },
    {
      "cell_type": "code",
      "execution_count": 13,
      "metadata": {
        "colab": {
          "base_uri": "https://localhost:8080/"
        },
        "id": "uuCnduep1_ix",
        "outputId": "3c2218cc-c0da-456b-a1f6-e42b4d5ff693"
      },
      "outputs": [
        {
          "output_type": "stream",
          "name": "stdout",
          "text": [
            "Relatório de classificação do sklearn:\n",
            "               precision    recall  f1-score   support\n",
            "\n",
            "         0.0       0.92      1.00      0.96       354\n",
            "         1.0       1.00      0.37      0.54        46\n",
            "\n",
            "    accuracy                           0.93       400\n",
            "   macro avg       0.96      0.68      0.75       400\n",
            "weighted avg       0.93      0.93      0.91       400\n",
            "\n"
          ]
        }
      ],
      "source": [
        "from sklearn import metrics\n",
        "\n",
        "# Exibir o relatório de classificação usando sklearn\n",
        "classification_report = metrics.classification_report(Y_test, Y_prev)\n",
        "print(\"Relatório de classificação do sklearn:\\n\", classification_report)\n"
      ]
    },
    {
      "cell_type": "markdown",
      "metadata": {
        "id": "5tj3PIAE1_ix"
      },
      "source": [
        "#### Plotar matriz de confusão"
      ]
    },
    {
      "cell_type": "code",
      "execution_count": 14,
      "metadata": {
        "colab": {
          "base_uri": "https://localhost:8080/",
          "height": 410
        },
        "id": "N4sug_1W1_ix",
        "outputId": "13a31e4d-8d7a-4f9c-a9d3-d5d41de085da"
      },
      "outputs": [
        {
          "output_type": "display_data",
          "data": {
            "text/plain": [
              "<Figure size 600x400 with 1 Axes>"
            ],
            "image/png": "[encoded data removed]"
          },
          "metadata": {}
        }
      ],
      "source": [
        "import matplotlib.pyplot as plt\n",
        "from sklearn.metrics import confusion_matrix\n",
        "import seaborn as sns\n",
        "\n",
        "# Gerar a matriz de confusão\n",
        "cm = confusion_matrix(Y_test, Y_prev)\n",
        "\n",
        "# Plotar a matriz de confusão\n",
        "plt.figure(figsize=(6, 4))\n",
        "sns.heatmap(cm, annot=True, fmt=\"d\", cmap=\"Blues\", cbar=False, xticklabels=[\"Classe 0\", \"Classe 1\"], yticklabels=[\"Classe 0\", \"Classe 1\"])\n",
        "plt.title(\"Matriz de Confusão\")\n",
        "plt.xlabel(\"Previsto\")\n",
        "plt.ylabel(\"Real\")\n",
        "plt.show()\n"
      ]
    },
    {
      "cell_type": "markdown",
      "metadata": {
        "id": "ycVoeD5L1_ix"
      },
      "source": [
        "### Validação Cruzada\n",
        "#### Visualização do método Kfold\n",
        "A biblioteca sklearn fornece a função Kfold que particiona o conjunto de dados de treinamento original nos subconjuntos de treinamento e teste para cada iteração.<br>\n",
        "\n",
        "A função $\\text{plot_cv_indices}$ ilustra a partição dos índices das amostras que são utilizados em cada iteração para selecionar os subconjuntos de treinamento e teste em cada iteração a partir dos dados originais de treinamento $\\text{Xtre}$e $\\text{Ytre}$."
      ]
    },
    {
      "cell_type": "code",
      "execution_count": 15,
      "metadata": {
        "id": "x5BHgHCG1_ix"
      },
      "outputs": [],
      "source": [
        "def plot_cv_indices(cv, X, y, K):\n",
        "    \"\"\"Plotagem dos índices das amostras de uma validação cruzada KFold\"\"\"\n",
        "\n",
        "    fig, ax = plt.subplots()\n",
        "    # Gerar visualizações de treinamento e teste para cada partição de validação cruzada\n",
        "    for ii, (tr, tt) in enumerate(cv.split(X=X, y=y)):\n",
        "        # Setar cores para os índices dos conjuntos de teste e treinamento\n",
        "        indices = np.array([np.nan] * len(X))\n",
        "        indices[tt] = 1  # Vermelho\n",
        "        indices[tr] = 0  # Azul\n",
        "\n",
        "        # Visualize the results\n",
        "        ax.scatter(\n",
        "            # Valores no eixo x\n",
        "            range(len(indices)),\n",
        "            # Valores no eixo y (número da iteração + 0.5)\n",
        "            [ii + 0.5] * len(indices),\n",
        "            # Cor de cada ponto\n",
        "            c=indices,\n",
        "            # Marca de cada ponto\n",
        "            marker=\"_\",\n",
        "            # Largura da linha\n",
        "            lw=10,\n",
        "            # Mapa de cores\n",
        "            cmap=plt.cm.coolwarm,\n",
        "            # Controle de cores\n",
        "            vmin=-0.2,\n",
        "            vmax=1.2,\n",
        "        )\n",
        "\n",
        "    # Formatação\n",
        "    yticklabels = list(range(K))\n",
        "    ax.set(\n",
        "        yticks=np.arange(K) + 0.5,\n",
        "        yticklabels=yticklabels,\n",
        "        xlabel=\"Índice da amostra\",\n",
        "        ylabel=\"Iteração\",\n",
        "        ylim=[K + 0.2, -0.2],\n",
        "        xlim=[0, X.shape[0]]\n",
        "    )\n",
        "    ax.set_title(\"Validação cruzada {}\".format(type(cv).__name__), fontsize=15)\n",
        "\n",
        "    ax.legend(\n",
        "        [Patch(color=plt.cm.coolwarm(0.8)), Patch(color=plt.cm.coolwarm(0.02))],\n",
        "        [\"Teste\", \"Treinamento\"],\n",
        "        loc=(1.02, 0.8),\n",
        "    )\n",
        "    return ax"
      ]
    },
    {
      "cell_type": "markdown",
      "metadata": {
        "id": "Oorx4_UC1_ix"
      },
      "source": [
        "#### Plotar partição KFold"
      ]
    },
    {
      "cell_type": "code",
      "execution_count": 16,
      "metadata": {
        "colab": {
          "base_uri": "https://localhost:8080/",
          "height": 474
        },
        "id": "k_uTm2wv1_ix",
        "outputId": "24072a6f-022c-42cf-b7fb-7bcae3504b03"
      },
      "outputs": [
        {
          "output_type": "display_data",
          "data": {
            "text/plain": [
              "<Figure size 640x480 with 1 Axes>"
            ],
            "image/png": "[encoded data removed]"
          },
          "metadata": {}
        }
      ],
      "source": [
        "# Define a quantidade de iterações\n",
        "K = 4\n",
        "# Cria o objeto Kfold\n",
        "cv = KFold(K)\n",
        "# plot_cv_indices(cv, X_trein, Y_trein, K);\n",
        "plot_cv_indices(cv, Xtre, Ytre, K);"
      ]
    },
    {
      "cell_type": "markdown",
      "metadata": {
        "id": "hr6FhiDD1_ix"
      },
      "source": [
        "#### Realizar validação cruzada KFold\n",
        "O código a seguir realiza a validação cruzada $\\text{Kfold}$. Utiliza o objeto $\\text{cv}$ para criar as partições."
      ]
    },
    {
      "cell_type": "code",
      "execution_count": 17,
      "metadata": {
        "id": "Kv9124c_1_ix"
      },
      "outputs": [],
      "source": [
        "# Cria vetor de scores\n",
        "accuracy_scores = []\n",
        "f1_scores = []\n",
        "for tr, tt in cv.split(Xtre, Ytre):\n",
        "    X_tr = np.array(Xtre)[tr.astype(int)]\n",
        "    Y_tr = np.array(Ytre)[tr.astype(int)]\n",
        "    X_tt = np.array(Xtre)[tt.astype(int)]\n",
        "    Y_tt = np.array(Ytre)[tt.astype(int)]\n",
        "    clf.fit(X_tr, Y_tr)\n",
        "    Y_prev = clf.predict(X_tt)\n",
        "    acc = metrics.accuracy_score(Y_tt, Y_prev)\n",
        "    # print(acc)\n",
        "    accuracy_scores.append(acc)\n",
        "    # print(accuracy_scores)\n",
        "    f1 = metrics.f1_score(Y_tt, Y_prev, average='weighted')\n",
        "    f1_scores.append(f1)"
      ]
    },
    {
      "cell_type": "markdown",
      "metadata": {
        "id": "umlX-UR01_ix"
      },
      "source": [
        "#### Mostrar resultado da validação cruzada"
      ]
    },
    {
      "cell_type": "code",
      "execution_count": 18,
      "metadata": {
        "colab": {
          "base_uri": "https://localhost:8080/"
        },
        "id": "CSFvBKhZ1_ix",
        "outputId": "9e3072a8-e3a9-48a5-ab4d-3ab14197ab21"
      },
      "outputs": [
        {
          "output_type": "stream",
          "name": "stdout",
          "text": [
            "Accuracy scores: [0.9266666666666666, 0.92, 0.8933333333333333, 0.9466666666666667]\n",
            "Média = 0.92\n",
            "Desvio padrão = 0.02\n",
            "\n",
            "F1_wa_scores: [0.9146666666666666, 0.9046218487394958, 0.8698507462686568, 0.9377370830608239]\n",
            "Média = 0.91\n",
            "Desvio padrão = 0.02\n"
          ]
        }
      ],
      "source": [
        "print(f\"Accuracy scores: {accuracy_scores}\")\n",
        "print(\"Média = %0.2f\\nDesvio padrão = %0.2f\" % (np.mean(accuracy_scores), np.std(accuracy_scores)))\n",
        "print(f\"\\nF1_wa_scores: {f1_scores}\")\n",
        "print(\"Média = %0.2f\\nDesvio padrão = %0.2f\" % (np.mean(f1_scores), np.std(f1_scores)))"
      ]
    },
    {
      "cell_type": "markdown",
      "metadata": {
        "id": "HKK1Vbhk1_ix"
      },
      "source": [
        "####  Função cross_val_score\n",
        "A função cross_val_score realiza a validação cruzada ecalcula os scores automaticamente.<br>\n",
        "Ela precisa que o classificador tenha sido treinado pela biblioteca sktearn.<br>\n",
        "Usada aqui para conferir o algorimo anterior."
      ]
    },
    {
      "cell_type": "code",
      "execution_count": 19,
      "metadata": {
        "colab": {
          "base_uri": "https://localhost:8080/"
        },
        "id": "TLU0qO9M1_ix",
        "outputId": "54c6cf01-2a78-4d2c-f31d-68d6892db42d"
      },
      "outputs": [
        {
          "output_type": "stream",
          "name": "stdout",
          "text": [
            "Accuracy scores: [0.92666667 0.92       0.89333333 0.94666667]\n",
            "Média = 0.92\n",
            "Desvio padrão = 0.02\n",
            "\n",
            "F1_scores: [0.91466667 0.90462185 0.86985075 0.93773708]\n",
            "Média = 0.91\n",
            "Desvio padrão = 0.02\n"
          ]
        }
      ],
      "source": [
        "accuracy_scores = cross_val_score(clf, Xtre, Ytre, cv=cv, scoring='accuracy')\n",
        "f1_scores = cross_val_score(clf, Xtre, Ytre, cv=cv, scoring='f1_weighted')\n",
        "print(f\"Accuracy scores: {accuracy_scores}\")\n",
        "print(\"Média = %0.2f\\nDesvio padrão = %0.2f\" % (np.mean(accuracy_scores), np.std(accuracy_scores)))\n",
        "print(f\"\\nF1_scores: {f1_scores}\")\n",
        "print(\"Média = %0.2f\\nDesvio padrão = %0.2f\" % (np.mean(f1_scores), np.std(f1_scores)))"
      ]
    },
    {
      "cell_type": "markdown",
      "metadata": {
        "id": "fptY0XhF1_ix"
      },
      "source": [
        "####  Comparação das métricas de teste e de avaliação cruzada\n",
        "Imprimir as métricas accuracy e F1 resultantes da avaliação no conjunto de teste.<br>\n",
        "Imprimir as médias das métricas accuracy e F1 resultantes da avaliação cruzada."
      ]
    },
    {
      "cell_type": "code",
      "execution_count": 20,
      "metadata": {
        "colab": {
          "base_uri": "https://localhost:8080/"
        },
        "id": "_1cwN5JH1_iy",
        "outputId": "027aba72-abba-42b3-aae8-5bbb7abc5a09"
      },
      "outputs": [
        {
          "output_type": "stream",
          "name": "stdout",
          "text": [
            "Comparação de métricas GaussianNB\n",
            "Avaliação com conjunto de teste: Accuracy = 0.9467  F1 = 0.9122\n",
            "Avaliação com validação cruzada: Accuracy = 0.9067  F1 = 0.9067\n"
          ]
        }
      ],
      "source": [
        "print(\"Comparação de métricas GaussianNB\")\n",
        "print(\"Avaliação com conjunto de teste: Accuracy = %0.4f  F1 = %0.4f\" % (acc, F1_mp))\n",
        "print(\"Avaliação com validação cruzada: Accuracy = %0.4f  F1 = %0.4f\" % (np.mean(f1_scores), np.mean(f1_scores)))"
      ]
    },
    {
      "cell_type": "markdown",
      "metadata": {
        "id": "cIB6XI6p1_iy"
      },
      "source": [
        "## Parte 2 - Classificador GaussianMV\n",
        "* Código do classificador GaussianNB.\n",
        "* Calcular as métricas de classificação e comparar com o relatório produzido pela biblioteca sklearn.\n",
        "* Plotar a matriz de confusão\n",
        "* Realizar validação cruzada método KFold"
      ]
    },
    {
      "cell_type": "markdown",
      "metadata": {
        "id": "iogfJVzw1_iy"
      },
      "source": [
        "### Classificador Gaussian"
      ]
    },
    {
      "cell_type": "code",
      "execution_count": 21,
      "metadata": {
        "id": "ekuU8EsR1_iy"
      },
      "outputs": [],
      "source": [
        "from scipy.stats import multivariate_normal\n",
        "class GMV:\n",
        "    def selecionarLimiar(self, Pval):\n",
        "        # Iniciar os valores das variáveis locais\n",
        "        melhorLimiar = 0\n",
        "        melhorF1 = 0\n",
        "        F1 = 0\n",
        "        passo = (np.max(Pval) - np.min(Pval)) / 1000\n",
        "        for limiar in np.arange(np.min(Pval), np.max(Pval), passo):\n",
        "            Prev = (Pval < limiar).astype(np.float64)\n",
        "            vp = np.count_nonzero(np.logical_and((Prev == 1),(self.Yval == 1)))\n",
        "            fp = np.count_nonzero(np.logical_and((Prev == 1),(self.Yval == 0)))\n",
        "            fn = np.count_nonzero(np.logical_and((Prev == 0),(self.Yval == 1)))\n",
        "            if vp !=0:\n",
        "                prec = vp/(vp+fp)  # cálculo de prec\n",
        "                rec = vp/(vp+fn)   # cálculo de rec\n",
        "                F1 = (2*prec*rec) / (prec+rec)  # cálculo de F1\n",
        "            if F1 > melhorF1:\n",
        "                melhorF1 = F1\n",
        "                melhorLimiar = limiar\n",
        "        return melhorLimiar\n",
        "\n",
        "    def __init__(self, Xval, Yval):\n",
        "        self.Xval = Xval\n",
        "        self.Yval = Yval\n",
        "        self.nmv = multivariate_normal(np.array([0, 0]), np.array([[1, 0],[0, 1]]))\n",
        "        # self.F1 = float(0.0)\n",
        "        self.Limiar = float(0.0)\n",
        "\n",
        "    def fit(self, Xtre):\n",
        "        self.nmv = multivariate_normal(Xtre.mean(axis=0), np.cov(Xtre.T))\n",
        "        Pval = self.nmv.pdf(Xval)\n",
        "        self.Limiar = self.selecionarLimiar(Pval)\n",
        "\n",
        "    def predict(self, X_tt):\n",
        "        Pval = self.nmv.pdf(X_tt)\n",
        "        Yprev = (Pval < self.Limiar).astype(np.float64)\n",
        "        return Yprev"
      ]
    },
    {
      "cell_type": "markdown",
      "metadata": {
        "id": "ykX7BOrU1_i2"
      },
      "source": [
        "### Classificação (criar classificador, ajustar, prever)"
      ]
    },
    {
      "cell_type": "code",
      "execution_count": 31,
      "metadata": {
        "id": "YsoRdWwl1_i2"
      },
      "outputs": [],
      "source": [
        "  # Criar classificador\n",
        "  clf = GMV(Xval, Yval)\n",
        "  # Ajustar classificador\n",
        "  clf.fit(Xtre)\n",
        "  # Fazer previsões\n",
        "  Y_prev = clf.predict(X_test)"
      ]
    },
    {
      "cell_type": "markdown",
      "metadata": {
        "id": "3lfPpOaI1_i2"
      },
      "source": [
        "### Métricas de classificação"
      ]
    },
    {
      "cell_type": "markdown",
      "metadata": {
        "id": "nMXvgM641_i3"
      },
      "source": [
        "#### acc, prec, rec, F1"
      ]
    },
    {
      "cell_type": "code",
      "execution_count": 32,
      "metadata": {
        "colab": {
          "base_uri": "https://localhost:8080/"
        },
        "id": "eJLxRRlL1_i3",
        "outputId": "299dc0de-555c-4e77-95ce-96e907c043b4"
      },
      "outputs": [
        {
          "output_type": "stream",
          "name": "stdout",
          "text": [
            "0.9775\n",
            "0.8363636363636363\n",
            "1.0\n",
            "0.9108910891089108\n"
          ]
        }
      ],
      "source": [
        "# Contagem de vp vn fp fn realizada com numpy como exemplo\n",
        "# Poderia ser realizada da mesma forma que no classificador Gaussiano\n",
        "# Por exemplo, para verdadeiros positivos: vp = sum((Y_test == 1)&(Y_prev == 1))\n",
        "\n",
        "# Verdadeiros positivos\n",
        "vp = np.count_nonzero(np.logical_and((Y_prev == 1),(Y_test == 1)))\n",
        "# Verdadeiros negativos\n",
        "vn = np.count_nonzero(np.logical_and((Y_prev == 0),(Y_test == 0)))\n",
        "# Falsos positivos\n",
        "fp = np.count_nonzero(np.logical_and((Y_prev == 1),(Y_test == 0)))\n",
        "# Falsos negativos\n",
        "fn = np.count_nonzero(np.logical_and((Y_prev == 0),(Y_test == 1)))\n",
        "\n",
        "# Exatidão (accuracy)\n",
        "acc = (vp+vn)/(vp+vn+fp+fn)\n",
        "print(acc)\n",
        "# Precisão (precision)\n",
        "prec = vp/(vp+fp)\n",
        "print(prec)\n",
        "# Revocação (recall)\n",
        "rec = vp/(vp+fn)\n",
        "print(rec)\n",
        "# F1\n",
        "F1 = (2*prec*rec) / (prec+rec)\n",
        "print(F1)"
      ]
    },
    {
      "cell_type": "markdown",
      "metadata": {
        "id": "ZLtYBplB1_i3"
      },
      "source": [
        "#### Calcular média ponderada das métricas de avaliação"
      ]
    },
    {
      "cell_type": "code",
      "execution_count": 33,
      "metadata": {
        "colab": {
          "base_uri": "https://localhost:8080/"
        },
        "id": "UGa1T3bk1_i3",
        "outputId": "697994a4-7e16-4e34-dbde-8e0aa446d8e4"
      },
      "outputs": [
        {
          "output_type": "stream",
          "name": "stdout",
          "text": [
            "0.9871244635193133\n",
            "0.9108910891089108\n",
            "0.978357625462117\n"
          ]
        }
      ],
      "source": [
        "# Accuracy\n",
        "acc = (vp+vn)/(vp+vn+fp+fn)\n",
        "\n",
        "# prec rec F1 para anomalias\n",
        "prec_1 = vp/(vp+fp)\n",
        "rec_1 = vp/(vp+fn)\n",
        "F1_1 = (2*prec_1*rec_1) / (prec_1+rec_1)\n",
        "\n",
        "# prec rec F1 para não anomalias\n",
        "prec_0 = vn/(vn+fn)\n",
        "rec_0 = vn/(vn+fp)\n",
        "F1_0 = (2*prec_0*rec_0) / (prec_0+rec_0)\n",
        "\n",
        "# prec rec F1 média ponderada\n",
        "support_0 = fp + vn\n",
        "support_1 = vp + fn\n",
        "prec_mp = (prec_0 * support_0 + prec_1 * support_1) / (support_0 + support_1)\n",
        "rec_mp = (rec_0 * support_0 + rec_1 * support_1) / (support_0 + support_1)\n",
        "F1_mp = (F1_0 * support_0 + F1_1 * support_1) / (support_0 + support_1)\n",
        "\n",
        "print(F1_0)\n",
        "print(F1_1)\n",
        "print(F1_mp)"
      ]
    },
    {
      "cell_type": "markdown",
      "metadata": {
        "id": "5tcko5-Q1_i3"
      },
      "source": [
        "#### Relatório de métricas de classificação e matriz de confusão\n",
        "\n",
        "\n",
        "\n"
      ]
    },
    {
      "cell_type": "code",
      "execution_count": 34,
      "metadata": {
        "colab": {
          "base_uri": "https://localhost:8080/",
          "height": 592
        },
        "id": "BiF3eye61_i3",
        "outputId": "bdfb3967-1d8d-4f4e-b0f0-abcafc7c5091"
      },
      "outputs": [
        {
          "output_type": "stream",
          "name": "stdout",
          "text": [
            "Relatório de classificação do sklearn:\n",
            "               precision    recall  f1-score   support\n",
            "\n",
            "         0.0       1.00      0.97      0.99       354\n",
            "         1.0       0.84      1.00      0.91        46\n",
            "\n",
            "    accuracy                           0.98       400\n",
            "   macro avg       0.92      0.99      0.95       400\n",
            "weighted avg       0.98      0.98      0.98       400\n",
            "\n"
          ]
        },
        {
          "output_type": "display_data",
          "data": {
            "text/plain": [
              "<Figure size 600x400 with 1 Axes>"
            ],
            "image/png": "[encoded data removed]"
          },
          "metadata": {}
        }
      ],
      "source": [
        "# Exibir o relatório de classificação usando sklearn\n",
        "classification_report = metrics.classification_report(Y_test, Y_prev)\n",
        "print(\"Relatório de classificação do sklearn:\\n\", classification_report)\n",
        "\n",
        "\n",
        "# Gerar a matriz de confusão\n",
        "cm = confusion_matrix(Y_test, Y_prev)\n",
        "\n",
        "# Plotar a matriz de confusão\n",
        "plt.figure(figsize=(6, 4))\n",
        "sns.heatmap(cm, annot=True, fmt=\"d\", cmap=\"Blues\", cbar=False, xticklabels=[\"Classe 0\", \"Classe 1\"], yticklabels=[\"Classe 0\", \"Classe 1\"])\n",
        "plt.title(\"Matriz de Confusão\")\n",
        "plt.xlabel(\"Previsto\")\n",
        "plt.ylabel(\"Real\")\n",
        "plt.show()\n"
      ]
    },
    {
      "cell_type": "markdown",
      "metadata": {
        "id": "JFIleupz1_i3"
      },
      "source": [
        "#### Conferir resultados\n",
        "Até aqui foram realizados os mesmos cálculos realizado na FORMATIVA do classificador gaussiana multivada.<br>\n",
        "Você deve conferir os resultados obtidos aqui (relatório de métricas e matriz de confusão) com os resultados obtidos na FORMATIVA.<br>"
      ]
    },
    {
      "cell_type": "markdown",
      "metadata": {
        "id": "A2po004K1_i3"
      },
      "source": [
        "### Validação Cruzada"
      ]
    },
    {
      "cell_type": "markdown",
      "metadata": {
        "id": "V8Zm849H1_i3"
      },
      "source": [
        "#### Realizar validação cruzada KFold"
      ]
    },
    {
      "cell_type": "markdown",
      "metadata": {
        "id": "VEcWvbk_1_i3"
      },
      "source": [
        "#### Mostrar resultado da validação cruzada"
      ]
    },
    {
      "cell_type": "code",
      "source": [
        "\n",
        "# Cria vetor de scores\n",
        "accuracy_scores = []\n",
        "f1_scores = []\n",
        "for tr, tt in cv.split(Xtre, Ytre):\n",
        "    X_tr = np.array(Xtre)[tr.astype(int)]\n",
        "    Y_tr = np.array(Ytre)[tr.astype(int)]\n",
        "    X_tt = np.array(Xtre)[tt.astype(int)]\n",
        "    Y_tt = np.array(Ytre)[tt.astype(int)]\n",
        "\n",
        "    clf = GMV(Xval, Yval)  # Cria um novo classificador para cada iteração\n",
        "    clf.fit(X_tr)\n",
        "    Y_prev = clf.predict(X_tt)\n",
        "\n",
        "    acc = metrics.accuracy_score(Y_tt, Y_prev)\n",
        "    accuracy_scores.append(acc)\n",
        "    f1 = metrics.f1_score(Y_tt, Y_prev, average='weighted')\n",
        "    f1_scores.append(f1)\n",
        "\n",
        "print(f\"Accuracy scores: {accuracy_scores}\")\n",
        "print(\"Média = %0.2f\\nDesvio padrão = %0.2f\" % (np.mean(accuracy_scores), np.std(accuracy_scores)))\n",
        "print(f\"\\nF1_wa_scores: {f1_scores}\")\n",
        "print(\"Média = %0.2f\\nDesvio padrão = %0.2f\" % (np.mean(f1_scores), np.std(f1_scores)))\n"
      ],
      "metadata": {
        "colab": {
          "base_uri": "https://localhost:8080/"
        },
        "id": "1tnmLaGU_Ot5",
        "outputId": "99e55db5-56a7-49af-d144-16be82b2a97b"
      },
      "execution_count": 40,
      "outputs": [
        {
          "output_type": "stream",
          "name": "stdout",
          "text": [
            "Accuracy scores: [0.9666666666666667, 0.9533333333333334, 0.98, 0.9733333333333334]\n",
            "Média = 0.97\n",
            "Desvio padrão = 0.01\n",
            "\n",
            "F1_wa_scores: [0.967827903949577, 0.9561629243405377, 0.9801642409952029, 0.9747014595311808]\n",
            "Média = 0.97\n",
            "Desvio padrão = 0.01\n"
          ]
        }
      ]
    },
    {
      "cell_type": "markdown",
      "metadata": {
        "id": "xSsaMJ-T1_i4"
      },
      "source": [
        "####  Comparação das métricas de teste e de avaliação cruzada\n",
        "Imprimir as métricas accuracy e F1 resultantes da avaliação no conjunto de teste.<br>\n",
        "Imprimir as médias das métricas accuracy e F1 resultantes da avaliação cruzada."
      ]
    },
    {
      "cell_type": "code",
      "execution_count": 41,
      "metadata": {
        "colab": {
          "base_uri": "https://localhost:8080/"
        },
        "id": "ZeiIVF7_1_i4",
        "outputId": "6822c574-517c-40be-8638-e4287189d6fe"
      },
      "outputs": [
        {
          "output_type": "stream",
          "name": "stdout",
          "text": [
            "Comparação de métricas GaussianMV\n",
            "Avaliação com conjunto de teste: Accuracy = 0.9733  F1 = 0.9784\n",
            "Avaliação com validação cruzada: Accuracy = 0.9697  F1 = 0.9697\n"
          ]
        }
      ],
      "source": [
        "print(\"Comparação de métricas GaussianMV\")\n",
        "print(\"Avaliação com conjunto de teste: Accuracy = %0.4f  F1 = %0.4f\" % (acc, F1_mp))\n",
        "print(\"Avaliação com validação cruzada: Accuracy = %0.4f  F1 = %0.4f\" % (np.mean(f1_scores), np.mean(f1_scores)))"
      ]
    },
    {
      "cell_type": "markdown",
      "metadata": {
        "id": "Uc5Ek2z01_i4"
      },
      "source": [
        "## Parte 3 - Conclusão"
      ]
    },
    {
      "cell_type": "markdown",
      "metadata": {
        "id": "2UfNJk2Y1_i4"
      },
      "source": [
        "### Copiar aqui métricas de teste e de validação cruzada dos dois classificadores\n",
        "#### GaussianNB\n",
        "\n",
        "Accuracy scores: [0.92666667 0.92       0.89333333 0.94666667]\n",
        "Média = 0.92\n",
        "Desvio padrão = 0.02\n",
        "\n",
        "F1_scores: [0.91466667 0.90462185 0.86985075 0.93773708]\n",
        "Média = 0.91\n",
        "Desvio padrão = 0.02\n",
        "\n",
        "Comparação de métricas GaussianNB\n",
        "Avaliação com conjunto de teste: Accuracy = 0.9467  F1 = 0.9122\n",
        "Avaliação com validação cruzada: Accuracy = 0.9067  F1 = 0.9067\n",
        "\n",
        "#### GaussianMV\n",
        "\n",
        "Accuracy scores: [0.9666666666666667, 0.9533333333333334, 0.98, 0.9733333333333334]\n",
        "Média = 0.97\n",
        "Desvio padrão = 0.01\n",
        "\n",
        "F1_wa_scores: [0.967827903949577, 0.9561629243405377, 0.9801642409952029, 0.9747014595311808]\n",
        "Média = 0.97\n",
        "Desvio padrão = 0.01\n",
        "\n",
        "Comparação de métricas GaussianMV\n",
        "Avaliação com conjunto de teste: Accuracy = 0.9733  F1 = 0.9784\n",
        "Avaliação com validação cruzada: Accuracy = 0.9697  F1 = 0.9697\n",
        "\n",
        "### Escrever aqui comentários sobre as avaliações\n",
        "A resposta é o seu comentário\n",
        "\n",
        "Resposta: A comparação entre os classificadores GaussianNB e GaussianMV mostra que o GaussianMV supera significativamente o GaussianNB em desempenho. O GaussianNB teve uma média de acurácia de 0.92 e um F1 score médio de 0.91, com variações moderadas. Em contraste, o GaussianMV alcançou uma média de acurácia de 0.97 e um F1 score de 0.97, indicando não apenas um desempenho superior, mas também maior consistência nas avaliações. Nos testes, o GaussianNB obteve acurácia de 0.9467 e F1 de 0.9122, enquanto o GaussianMV apresentou 0.9733 de acurácia e F1 de 0.9784, confirmando sua robustez e eficácia.\n",
        "\n",
        "\n"
      ]
    },
    {
      "cell_type": "code",
      "source": [],
      "metadata": {
        "id": "kyI_3iwJAEd_"
      },
      "execution_count": null,
      "outputs": []
    }
  ],
  "metadata": {
    "kernelspec": {
      "display_name": "Python 3 (ipykernel)",
      "language": "python",
      "name": "python3"
    },
    "language_info": {
      "codemirror_mode": {
        "name": "ipython",
        "version": 3
      },
      "file_extension": ".py",
      "mimetype": "text/x-python",
      "name": "python",
      "nbconvert_exporter": "python",
      "pygments_lexer": "ipython3",
      "version": "3.12.3"
    },
    "colab": {
      "provenance": []
    }
  },
  "nbformat": 4,
  "nbformat_minor": 0
}