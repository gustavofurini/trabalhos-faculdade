{
  "nbformat": 4,
  "nbformat_minor": 0,
  "metadata": {
    "colab": {
      "provenance": []
    },
    "kernelspec": {
      "name": "python3",
      "display_name": "Python 3"
    },
    "language_info": {
      "name": "python"
    }
  },
  "cells": [
    {
      "cell_type": "code",
      "execution_count": 1,
      "metadata": {
        "colab": {
          "base_uri": "https://localhost:8080/"
        },
        "id": "EKL00itlRzCa",
        "outputId": "eb6afbaf-29e1-4987-a57b-f212df4a2052"
      },
      "outputs": [
        {
          "output_type": "stream",
          "name": "stdout",
          "text": [
            "Árvore Geradora Mínima:\n",
            "(0, 1)\n",
            "(0, 2)\n",
            "(2, 3)\n",
            "(3, 4)\n"
          ]
        }
      ],
      "source": [
        "import heapq\n",
        "\n",
        "class Grafo:\n",
        "    def __init__(self, num_vertices):\n",
        "        self.num_vertices = num_vertices\n",
        "        self.adjacente = [[] for _ in range(num_vertices)]\n",
        "\n",
        "    def adicionar_aresta(self, origem, destino, peso):\n",
        "        self.adjacente[origem].append((destino, peso))\n",
        "        self.adjacente[destino].append((origem, peso))  # Se for direcionado, remova esta linha\n",
        "\n",
        "    def dijkstra(self, origem):\n",
        "        distancia = [float('inf')] * self.num_vertices\n",
        "        pai = [-1] * self.num_vertices\n",
        "        visitado = [False] * self.num_vertices\n",
        "        distancia[origem] = 0\n",
        "        heap = [(0, origem)]  # (distancia, vertice)\n",
        "\n",
        "        while heap:\n",
        "            dist, u = heapq.heappop(heap)\n",
        "            visitado[u] = True\n",
        "\n",
        "            for v, peso in self.adjacente[u]:\n",
        "                if not visitado[v] and distancia[v] > peso:\n",
        "                    distancia[v] = peso\n",
        "                    pai[v] = u\n",
        "                    heapq.heappush(heap, (peso, v))\n",
        "\n",
        "        return pai, distancia\n",
        "\n",
        "    def arvore_geradora_minima(self):\n",
        "        pai, _ = self.dijkstra(0)  # Supondo que o vértice de origem seja o 0\n",
        "        arvore_geradora = []\n",
        "\n",
        "        for i in range(1, self.num_vertices):\n",
        "            arvore_geradora.append((pai[i], i))\n",
        "\n",
        "        return arvore_geradora\n",
        "\n",
        "# Exemplo de uso\n",
        "grafo = Grafo(5)\n",
        "grafo.adicionar_aresta(0, 1, 4)\n",
        "grafo.adicionar_aresta(0, 2, 2)\n",
        "grafo.adicionar_aresta(1, 2, 5)\n",
        "grafo.adicionar_aresta(1, 3, 10)\n",
        "grafo.adicionar_aresta(2, 3, 3)\n",
        "grafo.adicionar_aresta(2, 4, 8)\n",
        "grafo.adicionar_aresta(3, 4, 7)\n",
        "\n",
        "arvore_geradora = grafo.arvore_geradora_minima()\n",
        "print(\"Árvore Geradora Mínima:\")\n",
        "for aresta in arvore_geradora:\n",
        "    print(aresta)\n"
      ]
    }
  ]
}