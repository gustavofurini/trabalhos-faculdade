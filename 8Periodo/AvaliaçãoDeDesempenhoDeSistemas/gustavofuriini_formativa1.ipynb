{
 "cells": [
  {
   "cell_type": "markdown",
   "metadata": {},
   "source": [
    "# Propriedades da probabilidade"
   ]
  },
  {
   "cell_type": "code",
   "execution_count": 1,
   "metadata": {},
   "outputs": [],
   "source": [
    "import math"
   ]
  },
  {
   "cell_type": "markdown",
   "metadata": {},
   "source": [
    "### No lançamento de dois dados, qual a probabilidade de a soma dos números obtidos ser igual 9.\n",
    "\n",
    "\n",
    "Dica:\n",
    "* $A = \\left\\{ (x,y) \\in \\Omega_{X} : x+y=9\\right\\} = \\left\\{ (3, 6), (4,5), (5, 4), (6,3) \\right\\}$\n",
    "* Calcular $P\\left[ A \\right] = \\frac{\\#A}{\\#\\Omega}$"
   ]
  },
  {
   "cell_type": "code",
   "execution_count": 7,
   "metadata": {},
   "outputs": [
    {
     "name": "stdout",
     "output_type": "stream",
     "text": [
      "0.1111111111111111\n"
     ]
    }
   ],
   "source": [
    "# Quantidade de elementos de A\n",
    "nA = 4 \n",
    "# Quantidade de elementos de Omega\n",
    "nOmega = 36\n",
    "# Calcular PA\n",
    "PA = nA/nOmega\n",
    "print(PA)"
   ]
  },
  {
   "cell_type": "markdown",
   "metadata": {},
   "source": [
    "### A probabilidade de o Messi marcar o gol na cobrança de um pênalti é 2/3, a probabilidade de o Cristiano Ronaldo marcar o gol na cobrança de um pênalti é 4/5, e a probabilidade de o Neymar marcar o gol na cobrança de um pênalti é 7/10. Se cada um vai cobrar um pênalti, calcule a probabilidade de apenas um marcar o gol.<br>\n",
    "\n",
    "Sejam os eventos:\n",
    "* $M$ - Messi marca gol no pênalti\n",
    "* $M^{c}$ - Messi não marca gol no pênalti\n",
    "* $R$  CRonaldo marca gol no pênalti    \t\n",
    "* $R^{c}$  CRonaldo não marca gol no pênalti\n",
    "* $N$  Neymar marca gol no pênalti\n",
    "* $N^{c}$ Neymar não marca gol no pênalti\n",
    "\n",
    "Probabilidades:\n",
    "* $P\\left[ M \\right] = 2/3$\n",
    "* $P\\left[ M^{c} \\right] = 1/3$\n",
    "* $P\\left[ R \\right] = 4/5$\n",
    "* $P\\left[ R^{c} \\right] = 1/5$\n",
    "* $P\\left[ N \\right] = 7/10$\n",
    "* $P\\left[ N^{c} \\right] = 3/10$\n",
    "\n",
    "\n",
    "Evento $A\\equiv $ apenas um jogador marca gol no pênalti:\n",
    "* (só Mesi marca) **ou** (só CRonaldo marca) **ou** (só Neymar marca)\n",
    "\n",
    "\n",
    "Só Mesi marca:\n",
    "* Messi marca **e** CRonaldo **não** marca **e** Neymar **não** marca: $M\\cap R^{c}\\cap N^{c}$\n",
    "\n",
    "Só CRonaldo marca:\n",
    "* Messi **não** marca **e** CRonaldo marca **e** Neymar **não** marca: $M^{c}\\cap R\\cap N^{c}$\n",
    "\n",
    "Só Neymar marca:\n",
    "* Messi **não** marca **e** CRonaldo **não** marca **e** Neymar marca: $M^{c}\\cap R^{c}\\cap N$        \n",
    "\n",
    "Apenas um jogador marca gol no pênalti:\n",
    "* (só Mesi marca) **ou** (só CRonaldo marca) **ou** (só Neymar marca): $A= \\left( M\\cap R^{c}\\cap N^{c} \\right) \\cup \\left(  M^{c}\\cap R\\cap N^{c}\\right)\\cup \\left( M^{c}\\cap R^{c}\\cap N \\right)$\n",
    "\n",
    "Probabilidade de apenas um jogador marcar pênalti:\n",
    "* $P\\left[ A \\right] = P\\left[ \\left( M\\cap R^{c}\\cap N^{c} \\right) \\cup \\left(  M^{c}\\cap R\\cap N^{c}\\right)\\cup \\left( M^{c}\\cap R^{c}\\cap N \\right) \\right]$\n",
    "* $P\\left[ A \\right] = P\\left[ \\left( M\\cap R^{c}\\cap N^{c} \\right) \\right]+P\\left[ \\left(  M^{c}\\cap R\\cap N^{c}\\right) \\right] +P\\left[ \\left( M^{c}\\cap R^{c}\\cap N \\right) \\right]$\n",
    "* $P\\left[ A \\right] = \\left( P\\left[ M \\right]\\cdot P\\left[ R^{c} \\right]\\cdot P\\left[ N^{c} \\right] \\right)+\\left( P\\left[ M^{c} \\right]\\cdot P\\left[ R \\right]\\cdot P\\left[ N^{c} \\right] \\right)+\\left( P\\left[ M^{c} \\right]\\cdot P\\left[ R^{c} \\right]\\cdot P\\left[ N \\right] \\right)$\n",
    "* $P\\left[ A \\right] = (2/3\\cdot 1/5\\cdot3/10) + (1/3\\cdot4/5\\cdot3/10) + (1/3\\cdot1/5\\cdot7/10)$"
   ]
  },
  {
   "cell_type": "code",
   "execution_count": 5,
   "metadata": {},
   "outputs": [
    {
     "name": "stdout",
     "output_type": "stream",
     "text": [
      "0.16666666666666666\n"
     ]
    }
   ],
   "source": [
    "PM = 2/3\n",
    "PMc = 1/3\n",
    "PR = 4/5\n",
    "PRc = 1/5\n",
    "PN = 7/10\n",
    "PNc = 3/10\n",
    "# Calcular PA\n",
    "PA = (PM * PRc * PNc) + (PMc * PR * PNc) + (PMc * PRc * PN)\n",
    "print(PA)"
   ]
  },
  {
   "cell_type": "markdown",
   "metadata": {},
   "source": [
    "### Qual a probabilidade de ganhar na mega sena com um jogo de 10 apostas?<br>\n",
    "O jogo da mega sena é um experimento aleatório com espaço equiprovável com 60 elementos.<br>\n",
    "* $P\\left[ A \\right]=\\frac{\\#A}{\\#\\Omega}$\n",
    "* $\\#\\Omega = combinação(60,6)$\n",
    "* $\\#A = combinação(10,6)$"
   ]
  },
  {
   "cell_type": "code",
   "execution_count": 6,
   "metadata": {},
   "outputs": [
    {
     "name": "stdout",
     "output_type": "stream",
     "text": [
      "4.194642602468128e-06\n",
      "0.00000419\n"
     ]
    }
   ],
   "source": [
    "PA = math.comb(10,6)/math.comb(60,6)\n",
    "print(PA)\n",
    "\n",
    "# Imprimir com 8 casas decimais\n",
    "print('{:.8f}'.format(PA))"
   ]
  }
 ],
 "metadata": {
  "kernelspec": {
   "display_name": "Python 3 (ipykernel)",
   "language": "python",
   "name": "python3"
  },
  "language_info": {
   "codemirror_mode": {
    "name": "ipython",
    "version": 3
   },
   "file_extension": ".py",
   "mimetype": "text/x-python",
   "name": "python",
   "nbconvert_exporter": "python",
   "pygments_lexer": "ipython3",
   "version": "3.11.7"
  }
 },
 "nbformat": 4,
 "nbformat_minor": 4
}
