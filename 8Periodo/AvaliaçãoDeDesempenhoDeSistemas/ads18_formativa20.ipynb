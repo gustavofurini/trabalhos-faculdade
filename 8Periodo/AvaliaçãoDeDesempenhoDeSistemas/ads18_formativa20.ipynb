{
  "cells": [
    {
      "cell_type": "markdown",
      "metadata": {
        "id": "DOit8IS7d2Y-"
      },
      "source": [
        "# Simulação de filas MMm"
      ]
    },
    {
      "cell_type": "markdown",
      "metadata": {
        "id": "8GiGvKded2ZA"
      },
      "source": [
        "## Filas MMm\n",
        "O sistema possui  servidores e uma fila de espera de tamanho infinito.<br><br>\n",
        "As tarefas chegam segundo um processos de Poisson com taxa $\\lambda$, ou seja, o tempo médio decorrido entre duas chegadas consecutivas (variável $T$) tem distribuição exponencial com média $\\frac{1}{\\lambda}$.<br><br>\n",
        "A taxa de serviço em cada servidor é $\\mu$, ou seja, o tempo de serviço para cada tarefa (variável $S$) tem distribuição exponencial com media $\\frac{1}{\\mu}$.<br><br>\n",
        "A variável $R$ representa o tempo de resposta do sistema, ou seja, o tempo decorrido desde a chegada no sistema até a saída do mesmo.<br><br>\n",
        "A variável $W$ representa o tempo de espera na fila, ou seja, o tempo que uma tafefa permanece esperando na fila.<br><br>\n",
        "A variável $N$ representa a quantidade de tarefas dentro do sistema.<br><br>\n",
        "A variável $N_{q}$ representa a quantidade de tarefas na fila.<br><br>\n",
        "A variável $N_{s}$ representa a quantidade de tarefas sendo servidas.<br><br>\n",
        "Os parâmetros do sistema são:\n",
        "* Quantidade de servidores: $m$\n",
        "* Taxa de chegada: $\\lambda$\n",
        "* Taxa de serviço: $\\mu$\n",
        "* Quantidade de eventos simulados: $nsim$\n",
        "* A taxa de chegada precisa ser menor do que a taxa de serviço ($\\lambda < m*\\mu$)"
      ]
    },
    {
      "cell_type": "markdown",
      "metadata": {
        "id": "gc2aDN8Vd2ZB"
      },
      "source": [
        "## Classe Engine MMm\n",
        "A classe **engineMMm** implementa a simulação de filas MMm.<br><br>\n",
        "Argumentos do contrutor: taxa de chegadas $\\lambda$, a taxa de serviço de cada servidor $\\mu$, a quantidade de servidores $m$ e flag para trace.<br><br>\n",
        "Atributos dos objetos da classe engineMMm:\n",
        "* ro - $\\frac{\\lambda}{m\\mu}$\n",
        "* E_T - tempo médio entre duas chegadas consecutivas\n",
        "* p0 - probabilidade de zero tarefas no sistema (taxa de ociosodade)\n",
        "* epsilon - $P[N\\ge m]$\n",
        "* E_W - tempo médio de espera na fila\n",
        "* E_S - tempo de serviço médio\n",
        "* E_R - tempo de resposta médio\n",
        "* E_Nq - número médio de tarefas na fila\n",
        "* E_Ns - número médio de tarefas servidas\n",
        "* E_N - número médio de tarefas no sistema\n",
        "\n",
        "Objetos da xlasse **engineMMm** oferecem o método $simula$ que recebe como argumento o número de simulações ($nsim$), e devolvem um array com os seguintes resultados de simulação:\n",
        "* EW_sim - tempo médio de espera na fila\n",
        "* ES_sim - tempo de serviço médio\n",
        "* ER_sim - tempo de resposta médio\n",
        "* ENq_sim - número médio de tarefas na fila\n",
        "* ENs_sim - número médio de tarefas servidas\n",
        "* EN_sim - número médio de taferas no sistema\n",
        "* U_sim - taxa de utilização do sistema"
      ]
    },
    {
      "cell_type": "code",
      "execution_count": 1,
      "metadata": {
        "id": "wRMshSNQd2ZC"
      },
      "outputs": [],
      "source": [
        "import numpy as np\n",
        "import scipy.stats as st\n",
        "from math import factorial\n",
        "from math import exp\n",
        "\n",
        "class engineMMm:\n",
        "    def __init__(self, lb, mu, m, tr = False):\n",
        "        if (lb >= m*mu):\n",
        "            raise ValueError('Lambda deve ser menor do que m*mu')\n",
        "        # Argumentos\n",
        "        self.lb = float(lb)\n",
        "        self.mu = float(mu)\n",
        "        self.m = m\n",
        "        self.trace = tr\n",
        "\n",
        "        # Parâmetros\n",
        "        self.E_T = 1 / self.lb\n",
        "        self.ro = lb / (m*mu)\n",
        "        self.p0 = self.calculaP0()\n",
        "        self.epsilon = ((self.m*self.ro)**self.m)/((1-self.ro)*factorial(self.m))*self.p0\n",
        "\n",
        "        # Valores médios\n",
        "        # valor esperado de Ns (quantidade media de tarefas servidas)\n",
        "        self.E_Ns = self.m * self.ro\n",
        "        # valor esperado de Nq (tamanho medio da fila)\n",
        "        self.E_Nq = (self.epsilon * self.ro) / (1 - self.ro)\n",
        "        # valor esperado de N (quantidade media de tarefas no sistema)\n",
        "        self.E_N = self.E_Nq + self.E_Ns\n",
        "        # valor esperado de S (tempo de serviço médio)\n",
        "        self.E_S = 1 / self.mu\n",
        "        # valor esperado de W (tempo de espera medio na fila)\n",
        "        self.E_W = self.epsilon / (self.m * self.mu * (1 - self.ro))\n",
        "        # valor esperado de R (tempo de resposta medio)\n",
        "        self.E_R = self.E_S + self.E_W\n",
        "\n",
        "        # Variáveis\n",
        "        self.tempo = st.expon.rvs(0, self.E_T,size=1)[0]\n",
        "        # Agenda é uma matriz de dimenção 1x(m+1)\n",
        "        # Registra os tempos para os próximos eventos\n",
        "        # Posição zero salva o tempo da próxima chegada\n",
        "        # Posições 1 até m salvam os tempos para o próximo evento em cada servidor\n",
        "        # Tempos para o próximo evento nos servidor são iniciados com valores muito altos\n",
        "        self.Agenda = np.ones((1,self.m+1))*exp(30)\n",
        "        # Tempo para a primeira chegada no sistema\n",
        "        self.Agenda[0, m] = self.tempo\n",
        "        # Estado do servidor é um vetor com uma posição por servidor\n",
        "        # 0 = livre   1 = ocupado\n",
        "        self.estado_servidor = np.zeros((1, self.m))  # todos livres\n",
        "        # Tempo da ocorrência do último evento\n",
        "        self.tempo_do_ultimo_evento = 0.0\n",
        "        # Acumulador do tempo de serviço\n",
        "        self.total_de_tempo_de_servico = 0.0\n",
        "        # Acumulador do número de eventos\n",
        "        self.numero_de_eventos = 1\n",
        "        # Variável para salvar o número do servidor\n",
        "        self.servidor = float(0)\n",
        "\n",
        "        # A divisão da variável tamanho_fila_x_tempo pela variável tempo\n",
        "        # simula o tamanho médio da fila\n",
        "        self.tamanho_da_fila = 0\n",
        "        self.tamanho_fila_x_tempo = 0.0\n",
        "        self.estado_do_sistema = 0\n",
        "        self.estado_sistema_x_tempo = 0.0\n",
        "\n",
        "    def calculaP0(self):\n",
        "        soma = 0\n",
        "        for n in range(1, self.m):\n",
        "            soma = soma + (((self.m * self.ro) ** n) / factorial(n))\n",
        "        return 1 / (1 + ((self.m * self.ro) ** self.m) /\n",
        "                    (factorial(self.m) * (1 - self.ro)) + soma)\n",
        "\n",
        "    def proximo_evento(self):\n",
        "        # Seleciona evento com menor valor de tempo na Agenda\n",
        "        return (self.Agenda == self.Agenda.min(1, keepdims=True)).argmax(1)[0]\n",
        "\n",
        "    def simula(self, nsim):\n",
        "        if (self.trace):\n",
        "            print('Agenda inicial')\n",
        "            print(self.Agenda)\n",
        "        while (self.numero_de_eventos < nsim):\n",
        "            indice_proximo_evento = self.proximo_evento()\n",
        "            # Determina tipo do próximo evento(chegada ou saída)\n",
        "            if (indice_proximo_evento == self.m):\n",
        "                tipo_proximo_evento = 1 # chegada\n",
        "            else:\n",
        "                tipo_proximo_evento = 0 # saída\n",
        "                # Servidor onde ocoore a saída\n",
        "                self.servidor = indice_proximo_evento\n",
        "            # Recupera o tempo do próximo evento\n",
        "            self.tempo = self.Agenda[0, indice_proximo_evento]\n",
        "\n",
        "            # Atualiza os acumuladores de tempo de rodas as tarefas (área)\n",
        "            self.atualiza()\n",
        "\n",
        "            # Processa o próximo evento de acordo com o tipo\n",
        "            if (tipo_proximo_evento == 1):\n",
        "                self.chegada() # Chama rotina de chegada\n",
        "            else:\n",
        "                self.saida() # Chama rotina de saida\n",
        "\n",
        "        # Cálculo das estatisticas da simulação\n",
        "        EW_sim = self.tamanho_fila_x_tempo / self.numero_de_eventos\n",
        "        ES_sim = self.total_de_tempo_de_servico / self.numero_de_eventos\n",
        "        ER_sim = EW_sim + ES_sim\n",
        "        ENq_sim = self.tamanho_fila_x_tempo / self.tempo\n",
        "        ENs_sim = self.lb * ES_sim\n",
        "        EN_sim = ENq_sim + ENs_sim\n",
        "        U_sim = self.estado_sistema_x_tempo / self.tempo\n",
        "\n",
        "        return [EW_sim, ES_sim, ER_sim, ENq_sim, ENs_sim, EN_sim, U_sim]\n",
        "\n",
        "    def atualiza(self):\n",
        "        # Calcula intervalo decorrido desde ultimo evento\n",
        "        # Na primeira chamada tempo_do_ultimo_evento é igual a 0\n",
        "        intervalo_do_ultimo_evento = self.tempo - self.tempo_do_ultimo_evento\n",
        "\n",
        "        # Atualiza tempo_do_ultimo_evento\n",
        "        self.tempo_do_ultimo_evento = self.tempo\n",
        "\n",
        "        # Acumula quantidade de elementos na fila multiplicado\n",
        "        # pelo tempo decorrido desde o ultimo evento\n",
        "        self.tamanho_fila_x_tempo = \\\n",
        "            self.tamanho_fila_x_tempo + \\\n",
        "            self.tamanho_da_fila * intervalo_do_ultimo_evento\n",
        "\n",
        "        # Acumula estado do servidor multiplicado\n",
        "        # pelo tempo decorrido desde o ultimo evento\n",
        "        self.estado_sistema_x_tempo = \\\n",
        "            self.estado_sistema_x_tempo + \\\n",
        "            self.estado_do_sistema * intervalo_do_ultimo_evento\n",
        "\n",
        "    def chegada(self):\n",
        "        if (self.trace):\n",
        "            print('\\nCHEGADA {:.10f}'.format(self.tempo))\n",
        "            print('Agenda antes')\n",
        "            print(self.Agenda)\n",
        "            print('Estado dos servidores antes')\n",
        "            print(self.estado_servidor)\n",
        "        quantidade_servindo = np.sum(self.estado_servidor)\n",
        "\n",
        "        if (quantidade_servindo < self.m):\n",
        "            self.servidor = \\\n",
        "                (self.estado_servidor == self.estado_servidor.min(1, keepdims=True)).argmax(1)\n",
        "            self.estado_servidor[0,self.servidor] = 1 # Servidor ocupado\n",
        "            if (self.trace):\n",
        "                print('Estado dos servidores depois')\n",
        "                print(self.estado_servidor)\n",
        "            self.estado_do_sistema = 1 # Sistema ocupado\n",
        "\n",
        "            # Agenda a saida da tarefa que está no servidor\n",
        "            tempo_de_servico = st.expon.rvs(0, self.E_S,size=1)[0]\n",
        "            self.Agenda[0,self.servidor] = self.tempo + tempo_de_servico\n",
        "            self.total_de_tempo_de_servico = \\\n",
        "            self.total_de_tempo_de_servico + tempo_de_servico\n",
        "\n",
        "        else: # Todos servidores ocupados\n",
        "            # Incrementa numero de eventos na fila\n",
        "            self.tamanho_da_fila = self.tamanho_da_fila + 1\n",
        "\n",
        "        # Agenda a proxima chegada\n",
        "        self.Agenda[0,self.m] = \\\n",
        "            self.tempo + st.expon.rvs(0, self.E_T,size=1)[0]\n",
        "        if (self.trace):\n",
        "            print('Tamanho da fila = {:.0f}'.format(self.tamanho_da_fila))\n",
        "        if (self.trace):\n",
        "            print('Agenda depois')\n",
        "            print(self.Agenda)\n",
        "\n",
        "        # Incrementa quantidade de eventos que passaram pelo sistema\n",
        "        self.numero_de_eventos = self.numero_de_eventos + 1\n",
        "\n",
        "\n",
        "    def saida(self):\n",
        "        if (self.trace):\n",
        "            print('\\nSAIDA {:.10f}'.format(self.tempo))\n",
        "            print('Agenda antes')\n",
        "            print(self.Agenda)\n",
        "            print('Estado dos servidores antes')\n",
        "            print(self.estado_servidor)\n",
        "        if (self.tamanho_da_fila == 0): # Fila vazia\n",
        "            # Marca o servidor como disponivel\n",
        "            self.estado_servidor[0,self.servidor] = 0\n",
        "\n",
        "            # Tratamento do proximo evento de fim de servico (muito grande)\n",
        "            self.Agenda[0,self.servidor] = exp(30)\n",
        "            # Atualiza quantidade servindo\n",
        "            self.quantidade_servindo = np.sum(self.estado_servidor)\n",
        "            if (self.quantidade_servindo == 0):\n",
        "                self.estado_do_sistema = 0 # ocioso\n",
        "\n",
        "        else: # Fila nao vazia\n",
        "            # Decrementa quantidade de tarefas na fila\n",
        "            self.tamanho_da_fila = self.tamanho_da_fila - 1\n",
        "\n",
        "            # Programa o proximo evento de fim de servico\n",
        "            tempo_de_servico = st.expon.rvs(0, self.E_S,size=1)[0]\n",
        "            self.Agenda[0,self.servidor] = self.tempo + tempo_de_servico\n",
        "            self.total_de_tempo_de_servico =\\\n",
        "                self.total_de_tempo_de_servico + tempo_de_servico\n",
        "\n",
        "        if (self.trace):\n",
        "            if (self.trace):\n",
        "                print('Tamanho da fila = {:.0f}'.format(self.tamanho_da_fila))\n",
        "            print('Agenda depois')\n",
        "            print(self.Agenda)\n",
        "            print('Estado dos servidores depois')\n",
        "            print(self.estado_servidor)"
      ]
    },
    {
      "cell_type": "markdown",
      "metadata": {
        "id": "yTDE2QKbd2ZE"
      },
      "source": [
        "## Observar o funcionamento do algoritmo utilizando a opção trace"
      ]
    },
    {
      "cell_type": "code",
      "execution_count": 2,
      "metadata": {
        "id": "cuSwKAYPd2ZE"
      },
      "outputs": [],
      "source": [
        "# Criar engine de simulação\n",
        "lb=21\n",
        "m=2\n",
        "mu=11\n",
        "engine = engineMMm(lb,mu,m, True)"
      ]
    },
    {
      "cell_type": "code",
      "execution_count": 3,
      "metadata": {
        "colab": {
          "base_uri": "https://localhost:8080/"
        },
        "id": "gx4VVytod2ZF",
        "outputId": "17f99f0f-dc83-4b26-8e20-2b5d8c10ce2a"
      },
      "outputs": [
        {
          "output_type": "stream",
          "name": "stdout",
          "text": [
            "Agenda inicial\n",
            "[[1.06864746e+13 1.06864746e+13 8.05195601e-02]]\n",
            "\n",
            "CHEGADA 0.0805195601\n",
            "Agenda antes\n",
            "[[1.06864746e+13 1.06864746e+13 8.05195601e-02]]\n",
            "Estado dos servidores antes\n",
            "[[0. 0.]]\n",
            "Estado dos servidores depois\n",
            "[[1. 0.]]\n",
            "Tamanho da fila = 0\n",
            "Agenda depois\n",
            "[[1.12752308e-01 1.06864746e+13 1.55757267e-01]]\n",
            "\n",
            "SAIDA 0.1127523080\n",
            "Agenda antes\n",
            "[[1.12752308e-01 1.06864746e+13 1.55757267e-01]]\n",
            "Estado dos servidores antes\n",
            "[[1. 0.]]\n",
            "Tamanho da fila = 0\n",
            "Agenda depois\n",
            "[[1.06864746e+13 1.06864746e+13 1.55757267e-01]]\n",
            "Estado dos servidores depois\n",
            "[[0. 0.]]\n",
            "\n",
            "CHEGADA 0.1557572668\n",
            "Agenda antes\n",
            "[[1.06864746e+13 1.06864746e+13 1.55757267e-01]]\n",
            "Estado dos servidores antes\n",
            "[[0. 0.]]\n",
            "Estado dos servidores depois\n",
            "[[1. 0.]]\n",
            "Tamanho da fila = 0\n",
            "Agenda depois\n",
            "[[2.79242970e-01 1.06864746e+13 1.75025529e-01]]\n",
            "\n",
            "CHEGADA 0.1750255289\n",
            "Agenda antes\n",
            "[[2.79242970e-01 1.06864746e+13 1.75025529e-01]]\n",
            "Estado dos servidores antes\n",
            "[[1. 0.]]\n",
            "Estado dos servidores depois\n",
            "[[1. 1.]]\n",
            "Tamanho da fila = 0\n",
            "Agenda depois\n",
            "[[0.27924297 0.33273054 0.19553649]]\n",
            "\n",
            "CHEGADA 0.1955364939\n",
            "Agenda antes\n",
            "[[0.27924297 0.33273054 0.19553649]]\n",
            "Estado dos servidores antes\n",
            "[[1. 1.]]\n",
            "Tamanho da fila = 1\n",
            "Agenda depois\n",
            "[[0.27924297 0.33273054 0.20402699]]\n",
            "\n",
            "CHEGADA 0.2040269851\n",
            "Agenda antes\n",
            "[[0.27924297 0.33273054 0.20402699]]\n",
            "Estado dos servidores antes\n",
            "[[1. 1.]]\n",
            "Tamanho da fila = 2\n",
            "Agenda depois\n",
            "[[0.27924297 0.33273054 0.35232696]]\n",
            "\n",
            "SAIDA 0.2792429698\n",
            "Agenda antes\n",
            "[[0.27924297 0.33273054 0.35232696]]\n",
            "Estado dos servidores antes\n",
            "[[1. 1.]]\n",
            "Tamanho da fila = 1\n",
            "Agenda depois\n",
            "[[0.36665212 0.33273054 0.35232696]]\n",
            "Estado dos servidores depois\n",
            "[[1. 1.]]\n",
            "\n",
            "SAIDA 0.3327305368\n",
            "Agenda antes\n",
            "[[0.36665212 0.33273054 0.35232696]]\n",
            "Estado dos servidores antes\n",
            "[[1. 1.]]\n",
            "Tamanho da fila = 0\n",
            "Agenda depois\n",
            "[[0.36665212 0.34451115 0.35232696]]\n",
            "Estado dos servidores depois\n",
            "[[1. 1.]]\n",
            "\n",
            "SAIDA 0.3445111539\n",
            "Agenda antes\n",
            "[[0.36665212 0.34451115 0.35232696]]\n",
            "Estado dos servidores antes\n",
            "[[1. 1.]]\n",
            "Tamanho da fila = 0\n",
            "Agenda depois\n",
            "[[3.66652123e-01 1.06864746e+13 3.52326960e-01]]\n",
            "Estado dos servidores depois\n",
            "[[1. 0.]]\n",
            "\n",
            "CHEGADA 0.3523269603\n",
            "Agenda antes\n",
            "[[3.66652123e-01 1.06864746e+13 3.52326960e-01]]\n",
            "Estado dos servidores antes\n",
            "[[1. 0.]]\n",
            "Estado dos servidores depois\n",
            "[[1. 1.]]\n",
            "Tamanho da fila = 0\n",
            "Agenda depois\n",
            "[[0.36665212 0.406486   0.38092892]]\n",
            "\n",
            "SAIDA 0.3666521231\n",
            "Agenda antes\n",
            "[[0.36665212 0.406486   0.38092892]]\n",
            "Estado dos servidores antes\n",
            "[[1. 1.]]\n",
            "Tamanho da fila = 0\n",
            "Agenda depois\n",
            "[[1.06864746e+13 4.06486000e-01 3.80928924e-01]]\n",
            "Estado dos servidores depois\n",
            "[[0. 1.]]\n",
            "\n",
            "CHEGADA 0.3809289236\n",
            "Agenda antes\n",
            "[[1.06864746e+13 4.06486000e-01 3.80928924e-01]]\n",
            "Estado dos servidores antes\n",
            "[[0. 1.]]\n",
            "Estado dos servidores depois\n",
            "[[1. 1.]]\n",
            "Tamanho da fila = 0\n",
            "Agenda depois\n",
            "[[0.39908398 0.406486   0.39763459]]\n",
            "\n",
            "CHEGADA 0.3976345918\n",
            "Agenda antes\n",
            "[[0.39908398 0.406486   0.39763459]]\n",
            "Estado dos servidores antes\n",
            "[[1. 1.]]\n",
            "Tamanho da fila = 1\n",
            "Agenda depois\n",
            "[[0.39908398 0.406486   0.4000018 ]]\n",
            "\n",
            "SAIDA 0.3990839818\n",
            "Agenda antes\n",
            "[[0.39908398 0.406486   0.4000018 ]]\n",
            "Estado dos servidores antes\n",
            "[[1. 1.]]\n",
            "Tamanho da fila = 0\n",
            "Agenda depois\n",
            "[[0.40935026 0.406486   0.4000018 ]]\n",
            "Estado dos servidores depois\n",
            "[[1. 1.]]\n",
            "\n",
            "CHEGADA 0.4000018027\n",
            "Agenda antes\n",
            "[[0.40935026 0.406486   0.4000018 ]]\n",
            "Estado dos servidores antes\n",
            "[[1. 1.]]\n",
            "Tamanho da fila = 1\n",
            "Agenda depois\n",
            "[[0.40935026 0.406486   0.41879757]]\n"
          ]
        },
        {
          "output_type": "execute_result",
          "data": {
            "text/plain": [
              "[0.021385941752762268,\n",
              " 0.04951936042422985,\n",
              " 0.07090530217699212,\n",
              " 0.5346461343692477,\n",
              " 1.039906568908827,\n",
              " 1.5745527032780746,\n",
              " 0.6911900944459043]"
            ]
          },
          "metadata": {},
          "execution_count": 3
        }
      ],
      "source": [
        "# Executar 10 simulações\n",
        "nsim = 10\n",
        "engine.simula(nsim)"
      ]
    },
    {
      "cell_type": "markdown",
      "metadata": {
        "id": "Mnn4gbvUd2ZF"
      },
      "source": [
        "## Teste de simulação"
      ]
    },
    {
      "cell_type": "markdown",
      "metadata": {
        "id": "mOHx0re9d2ZG"
      },
      "source": [
        "### Criar um engine de simulação para um sistema com filas com o seguintes parâmetros\n",
        "* Taxa de chegada = 21\n",
        "* Taxa de serviço = 11\n",
        "* Número de servidores = 2"
      ]
    },
    {
      "cell_type": "code",
      "source": [
        "\n",
        "lb=21\n",
        "m=2\n",
        "mu=11\n",
        "engine = engineMMm(lb,mu,m)\n",
        "\n",
        "nsim = 1000\n",
        "resultados = engine.simula(nsim)\n",
        "\n",
        "print('Resultados da simulação:')\n",
        "print('EW_sim = {:.2f}'.format(resultados[0]))\n",
        "print('ES_sim = {:.2f}'.format(resultados[1]))\n",
        "print('ER_sim = {:.2f}'.format(resultados[2]))\n",
        "print('ENq_sim = {:.2f}'.format(resultados[3]))\n",
        "print('ENs_sim = {:.2f}'.format(resultados[4]))\n",
        "print('EN_sim = {:.2f}'.format(resultados[5]))\n",
        "print('U_sim = {:.2f}'.format(resultados[6]))"
      ],
      "metadata": {
        "colab": {
          "base_uri": "https://localhost:8080/"
        },
        "id": "2gO0SNpYeKDN",
        "outputId": "6287b087-aa37-4855-b207-0e97830ea668"
      },
      "execution_count": 4,
      "outputs": [
        {
          "output_type": "stream",
          "name": "stdout",
          "text": [
            "Resultados da simulação:\n",
            "EW_sim = 1.01\n",
            "ES_sim = 0.09\n",
            "ER_sim = 1.10\n",
            "ENq_sim = 21.31\n",
            "ENs_sim = 1.90\n",
            "EN_sim = 23.20\n",
            "U_sim = 0.97\n"
          ]
        }
      ]
    },
    {
      "cell_type": "markdown",
      "metadata": {
        "id": "WOJJwSxzd2ZG"
      },
      "source": [
        "### Simulação\n",
        "* Quantidade de eventos simulados = 50.000\n",
        "* Simular\n",
        "* Plotar resultados para comparação\n",
        "\n",
        "A simulação retorna as seguintes métricas (nessa ordem):\n",
        "* Tempo médio na fila simulado (salvar em EW_sim)\n",
        "* Tempo médio de serviço simulado (salvar em ES_sim)\n",
        "* Tempo de resposta médio simulado (salvar em ER_sim)\n",
        "* Número médio de tarefas na fila simulado (salvar ENq_sim)\n",
        "* Número médio de tarefas no servidas simulado (salvar em ENs_sim)\n",
        "* Número médio de tarefas no sistema simulado (salvar em EN_sim)\n",
        "* Taxa de utilização do sistema simulada (salvar em U_sim)"
      ]
    },
    {
      "cell_type": "code",
      "source": [
        "\n",
        "nsim = 50000\n",
        "resultados = engine.simula(nsim)\n",
        "\n",
        "EW_sim = resultados[0]\n",
        "ES_sim = resultados[1]\n",
        "ER_sim = resultados[2]\n",
        "ENq_sim = resultados[3]\n",
        "ENs_sim = resultados[4]\n",
        "EN_sim = resultados[5]\n",
        "U_sim = resultados[6]\n",
        "\n",
        "print('Resultados da simulação:')\n",
        "print('EW_sim = {:.2f}'.format(EW_sim))\n",
        "print('ES_sim = {:.2f}'.format(ES_sim))\n",
        "print('ER_sim = {:.2f}'.format(ER_sim))\n",
        "print('ENq_sim = {:.2f}'.format(ENq_sim))\n",
        "print('ENs_sim = {:.2f}'.format(ENs_sim))\n",
        "print('EN_sim = {:.2f}'.format(EN_sim))\n",
        "print('U_sim = {:.2f}'.format(U_sim))\n",
        "\n"
      ],
      "metadata": {
        "colab": {
          "base_uri": "https://localhost:8080/"
        },
        "id": "YPHgv3RYeVcB",
        "outputId": "6f7c2918-1c8f-43de-e6cc-7122417fbf1d"
      },
      "execution_count": 5,
      "outputs": [
        {
          "output_type": "stream",
          "name": "stdout",
          "text": [
            "Resultados da simulação:\n",
            "EW_sim = 0.83\n",
            "ES_sim = 0.09\n",
            "ER_sim = 0.92\n",
            "ENq_sim = 17.32\n",
            "ENs_sim = 1.92\n",
            "EN_sim = 19.24\n",
            "U_sim = 0.98\n"
          ]
        }
      ]
    },
    {
      "cell_type": "markdown",
      "metadata": {
        "id": "lEt_Rf05d2ZH"
      },
      "source": [
        "### Relatório de simulação\n",
        "Observar os valores das estatísticas simuladas e analíticas"
      ]
    },
    {
      "cell_type": "code",
      "execution_count": 6,
      "metadata": {
        "colab": {
          "base_uri": "https://localhost:8080/"
        },
        "id": "9co25sVVd2ZH",
        "outputId": "02988d18-2f82-40d0-dc42-dea0d6ab9d19"
      },
      "outputs": [
        {
          "output_type": "stream",
          "name": "stdout",
          "text": [
            "------------------------ Parâmetros do sistema ----------------------------------------\n",
            "Numero de eventos                               : 50000\n",
            "Lambda                                          : 21.0000\n",
            "Mu                                              : 11.0000\n",
            "Numero de servidores                            : 2.0000\n",
            "Ro                                              : 0.9545\n",
            "Epsilon                                         : 0.9323\n",
            "P0                                              : 0.0233\n",
            "\n",
            "---------------------------Estatísticas simuladas -----------------------------------\n",
            "Tempo medio na fila (simulado)                  : 0.8285\n",
            "Tempo medio de servico (simulado)               : 0.0913\n",
            "Tempo medio de resposta (simulado)              : 0.9198\n",
            "\n",
            "Numero medio de tarefas na fila (simulado)      : 17.3232\n",
            "Numero medio de tarefas servidas (simulado)     : 1.9163\n",
            "Numero medio de tarefas no sistema (simulado)   : 19.2395\n",
            "\n",
            "Taxa de utilizacao do sistema (simulado)        : 0.9768\n",
            "\n",
            "------------------------- Estatísticas analíticas ----------------------------------\n",
            "Tempo medio na fila (analítico)                 : 0.9323\n",
            "Tempo medio de servico (analítico)              : 0.0909\n",
            "Tempo medio de resposta (analítico)             : 1.0233\n",
            "\n",
            "Numero medio de tarefas na fila (analitico)     : 19.5793\n",
            "Numero medio de tarefas servidas (analitico)    : 1.9091\n",
            "Numero medio de tarefas no sistema (analitico)  : 21.4884\n",
            "\n",
            "Taxa de utilização do sistema (analítico)       : 0.9767\n",
            "\n",
            "--------------------------------------------------------------\n"
          ]
        }
      ],
      "source": [
        "print('------------------------ Parâmetros do sistema ----------------------------------------')\n",
        "print('Numero de eventos                               : {:.0f}'.format(nsim))\n",
        "print('Lambda                                          : {:.4f}'.format(engine.lb))\n",
        "print('Mu                                              : {:.4f}'.format(engine.mu))\n",
        "print('Numero de servidores                            : {:.4f}'.format(engine.m))\n",
        "print('Ro                                              : {:.4f}'.format(engine.ro))\n",
        "print('Epsilon                                         : {:.4f}'.format(engine.epsilon))\n",
        "print('P0                                              : {:.4f}'.format(engine.p0))\n",
        "\n",
        "print('\\n---------------------------Estatísticas simuladas -----------------------------------')\n",
        "print('Tempo medio na fila (simulado)                  : {:.4f}'.format(EW_sim))\n",
        "print('Tempo medio de servico (simulado)               : {:.4f}'.format(ES_sim))\n",
        "print('Tempo medio de resposta (simulado)              : {:.4f}'.format(ER_sim))\n",
        "\n",
        "print('\\nNumero medio de tarefas na fila (simulado)      : {:.4f}'.format(ENq_sim))\n",
        "print('Numero medio de tarefas servidas (simulado)     : {:.4f}'.format(ENs_sim))\n",
        "print('Numero medio de tarefas no sistema (simulado)   : {:.4f}'.format(EN_sim))\n",
        "\n",
        "print('\\nTaxa de utilizacao do sistema (simulado)        : {:.4f}'.format(U_sim))\n",
        "\n",
        "\n",
        "print('\\n------------------------- Estatísticas analíticas ----------------------------------')\n",
        "print('Tempo medio na fila (analítico)                 : {:.4f}'.format(engine.E_W))\n",
        "print('Tempo medio de servico (analítico)              : {:.4f}'.format(engine.E_S))\n",
        "print('Tempo medio de resposta (analítico)             : {:.4f}'.format(engine.E_R))\n",
        "\n",
        "print('\\nNumero medio de tarefas na fila (analitico)     : {:.4f}'.format(engine.E_Nq))\n",
        "print('Numero medio de tarefas servidas (analitico)    : {:.4f}'.format(engine.E_Ns))\n",
        "print('Numero medio de tarefas no sistema (analitico)  : {:.4f}'.format(engine.E_N))\n",
        "\n",
        "print('\\nTaxa de utilização do sistema (analítico)       : {:.4f}'.format(1 - engine.p0))\n",
        "\n",
        "\n",
        "print('\\n--------------------------------------------------------------')"
      ]
    },
    {
      "cell_type": "markdown",
      "metadata": {
        "id": "cMOOiuDTd2ZI"
      },
      "source": [
        "# Formativa - Avaliação de desempenho por simulação\n",
        "## Problema\n",
        "Para avaliar o desempenho de um sistema é necessário levantar dados de modo sistemático e a partir deles chegar as conclusões.  Nessa atividade vamos usar a classe de simulação **engineMMm** para levantar dados sobre um sistema com filas para avaliá-lo.<br><br>\n",
        "Para avaliar os dados gerados por simulação comparamos os resultados do simulador com os resultados teóricos da teoria de filas.<br><br>\n",
        "Vamos considerar o caso em que o sistema tem dois servidores ($m = 2$). Cada servidor é capaz de realizar, em média, 10 tarefas por **milissegundo** $(\\mu = 10)$.<br><br>\n",
        "Para isso você vai realizar experimentos no qual a carga do sistema (taxa de chegada $\\lambda$) será variada. Vão ser avaliados 8 valores de carga ($\\lambda$): 3, 6, 9, 12, 15, 18 e 21 tarefas por **milisegundo**. Os valores de $m$ e $\\mu$ anecem fixos nos valores definidos anteriormente.<br><br>\n",
        "Em cada experimento você vai plotar gráficos, com valores teóricos calculados a partir das fórmulas e com os valores obtidos na simulação."
      ]
    },
    {
      "cell_type": "markdown",
      "metadata": {
        "id": "c968_S3Yd2ZI"
      },
      "source": [
        "## Plotar gráficos de comparação"
      ]
    },
    {
      "cell_type": "code",
      "execution_count": 7,
      "metadata": {
        "id": "YE-3NhONd2ZI"
      },
      "outputs": [],
      "source": [
        "import matplotlib as mpl\n",
        "import matplotlib.pyplot as plt"
      ]
    },
    {
      "cell_type": "markdown",
      "metadata": {
        "id": "_wtQpNVKd2ZI"
      },
      "source": [
        "### Gerar array 2D para valores analíticos e simulados\n",
        "* Número de simulações = 20.000\n",
        "* Valores de taxa de chegada = [ 3, 6, 9, 12, 15, 18, 21 ]\n",
        "\n",
        "Observar que os valores armazenados nos arrays 2D são posicionais. Cada coluna dos arrays vai conter os valores simulados e analícos para cada variável:\n",
        "* coluna 0 - tempo médio de resposta\n",
        "* coluna 1 - tempo médio de serviço\n",
        "* coluna 2 - tempo médio de resposta\n",
        "* coluna 3 - número médio de tarefas na fila\n",
        "* coluna 4 - número médio de tarefas servidas\n",
        "* coluna 5 - número médio de tarefas no sistema\n",
        "* coluna 6 - taxa de utilização do sistema"
      ]
    },
    {
      "cell_type": "code",
      "execution_count": 8,
      "metadata": {
        "id": "MzYeCJHId2ZJ"
      },
      "outputs": [],
      "source": [
        "# Gerar array 2D para valores analíticos e simulados\n",
        "nsim = 20000\n",
        "simulado = []\n",
        "analitico = []\n",
        "LB = [3, 6, 9, 12, 15, 18, 21]\n",
        "for lb in LB:\n",
        "    engine = engineMMm(lb,mu,m)\n",
        "    simulado.append(engine.simula(nsim))\n",
        "    # print(simulado)\n",
        "    analitico.append([engine.E_W, engine.E_S, engine.E_R, engine.E_Nq, engine.E_Ns, engine.E_N, 1-engine.p0])"
      ]
    },
    {
      "cell_type": "markdown",
      "metadata": {
        "id": "TsHBZoHKd2ZJ"
      },
      "source": [
        "### Plotar gráfico do tempo médio na fila em função dos valores de lambda"
      ]
    },
    {
      "cell_type": "code",
      "execution_count": 9,
      "metadata": {
        "colab": {
          "base_uri": "https://localhost:8080/",
          "height": 472
        },
        "id": "qCR9Ca3od2ZJ",
        "outputId": "b5a05db9-cd6d-4640-ac0d-f04ff6187ceb"
      },
      "outputs": [
        {
          "output_type": "display_data",
          "data": {
            "text/plain": [
              "<Figure size 640x480 with 1 Axes>"
            ],
            "image/png": "[encoded data removed]"
          },
          "metadata": {}
        }
      ],
      "source": [
        "# Tempo médio na fila simulado vs analítico\n",
        "fig, ax = plt.subplots()  # Cria figura com um único subplot (eixo ax)\n",
        "\n",
        "# Plotar\n",
        "#   Eixo x: LB\n",
        "#   eixo y: s[0]    para dados simulados\n",
        "#   eixo y: a[0]    para valores analíticos\n",
        "ax.plot(LB, [s[0] for s in simulado], label='simulado');  # Plotar os dados\n",
        "ax.plot(LB, [a[0] for a in analitico], label='analitico');  # Plotar os dados\n",
        "\n",
        "# Título do gráfico\n",
        "plt.title('Tempo médio na fila')\n",
        "\n",
        "# Título do eixo x\n",
        "plt.xlabel('Lambda')\n",
        "plt.legend();"
      ]
    },
    {
      "cell_type": "markdown",
      "metadata": {
        "id": "9OsVdajqd2ZK"
      },
      "source": [
        "### Plotar gráfico do número médio de tarefas na fila em função dos valores de lambda\n",
        "Dica: o número médio de tarefas na fila está na posição 3 dos arrays simulado e analitico"
      ]
    },
    {
      "cell_type": "code",
      "source": [
        "\n",
        "fig, ax = plt.subplots()\n",
        "\n",
        "\n",
        "ax.plot(LB, [s[3] for s in simulado], label='simulado');\n",
        "ax.plot(LB, [a[3] for a in analitico], label='analitico');\n",
        "\n",
        "plt.title('Número médio de tarefas na fila')\n",
        "\n",
        "plt.xlabel('Lambda')\n",
        "plt.legend();"
      ],
      "metadata": {
        "colab": {
          "base_uri": "https://localhost:8080/",
          "height": 472
        },
        "id": "n64HtkBsen3V",
        "outputId": "15c968c2-15a7-4752-a722-8d298fd7f171"
      },
      "execution_count": 10,
      "outputs": [
        {
          "output_type": "display_data",
          "data": {
            "text/plain": [
              "<Figure size 640x480 with 1 Axes>"
            ],
            "image/png": "[encoded data removed]"
          },
          "metadata": {}
        }
      ]
    },
    {
      "cell_type": "code",
      "source": [
        "\n",
        "fig, ax = plt.subplots()\n",
        "\n",
        "\n",
        "ax.plot(LB, [s[3] for s in simulado], label='simulado');\n",
        "ax.plot(LB, [a[3] for a in analitico], label='analitico');\n",
        "\n",
        "plt.title('Número médio de tarefas na fila')\n",
        "\n",
        "plt.xlabel('Lambda')\n",
        "plt.legend();"
      ],
      "metadata": {
        "colab": {
          "base_uri": "https://localhost:8080/",
          "height": 472
        },
        "id": "O-V3b4tsexk7",
        "outputId": "7d984b7a-cb08-4401-9d7f-3cbe398161d6"
      },
      "execution_count": 11,
      "outputs": [
        {
          "output_type": "display_data",
          "data": {
            "text/plain": [
              "<Figure size 640x480 with 1 Axes>"
            ],
            "image/png": "[encoded data removed]"
          },
          "metadata": {}
        }
      ]
    },
    {
      "cell_type": "markdown",
      "metadata": {
        "id": "6nYyp7tVd2ZK"
      },
      "source": [
        "### Plotar gráfico do tempo médio de resposta em função dos valores de lambda\n",
        "Dica: o tempo médio de resposta está na posição 2 dos arrays simulado e analitico"
      ]
    },
    {
      "cell_type": "code",
      "source": [
        "\n",
        "\n",
        "fig, ax = plt.subplots()\n",
        "\n",
        "\n",
        "ax.plot(LB, [s[2] for s in simulado], label='simulado');\n",
        "ax.plot(LB, [a[2] for a in analitico], label='analitico');\n",
        "\n",
        "plt.title('Tempo médio de resposta')\n",
        "\n",
        "plt.xlabel('Lambda')\n",
        "plt.legend();"
      ],
      "metadata": {
        "colab": {
          "base_uri": "https://localhost:8080/",
          "height": 472
        },
        "id": "4Ed54pf-e_dK",
        "outputId": "a35de804-1eba-4518-fa3b-95c32e4a8a86"
      },
      "execution_count": 12,
      "outputs": [
        {
          "output_type": "display_data",
          "data": {
            "text/plain": [
              "<Figure size 640x480 with 1 Axes>"
            ],
            "image/png": "[encoded data removed]"
          },
          "metadata": {}
        }
      ]
    },
    {
      "cell_type": "markdown",
      "metadata": {
        "id": "GpuIUeIzd2ZK"
      },
      "source": [
        "## Pergunta de desempenho\n",
        "Muitos sistemas com fila apresentam uma curva de desempenho onde existe um ponto crítico, denominado joelho, a aprtir do qual o desempenho fica inaceitável. Responda a questão na célula abaixo."
      ]
    },
    {
      "cell_type": "code",
      "execution_count": null,
      "metadata": {
        "id": "-M0E4oy7d2ZK"
      },
      "outputs": [],
      "source": [
        "# Qual dos valores de carga (lambda) testados poderia ser considerado como limite máximo de carga de trabalho?\n",
        "# Dica: maior valor de lambda anterior ao joelho\n",
        "# Resposta: 15"
      ]
    }
  ],
  "metadata": {
    "kernelspec": {
      "display_name": "Python 3 (ipykernel)",
      "language": "python",
      "name": "python3"
    },
    "language_info": {
      "codemirror_mode": {
        "name": "ipython",
        "version": 3
      },
      "file_extension": ".py",
      "mimetype": "text/x-python",
      "name": "python",
      "nbconvert_exporter": "python",
      "pygments_lexer": "ipython3",
      "version": "3.12.3"
    },
    "colab": {
      "provenance": []
    }
  },
  "nbformat": 4,
  "nbformat_minor": 0
}