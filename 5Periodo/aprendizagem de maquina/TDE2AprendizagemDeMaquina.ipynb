{
  "nbformat": 4,
  "nbformat_minor": 0,
  "metadata": {
    "colab": {
      "provenance": []
    },
    "kernelspec": {
      "name": "python3",
      "display_name": "Python 3"
    },
    "language_info": {
      "name": "python"
    }
  },
  "cells": [
    {
      "cell_type": "code",
      "execution_count": null,
      "metadata": {
        "colab": {
          "base_uri": "https://localhost:8080/"
        },
        "id": "wc6z_oW3coKV",
        "outputId": "b1b43b3b-fc0a-4e6a-f3ad-f43d019453ef"
      },
      "outputs": [
        {
          "output_type": "stream",
          "name": "stdout",
          "text": [
            "Mounted at /content/drive\n"
          ]
        }
      ],
      "source": [
        "from google.colab import drive\n",
        "drive.mount('/content/drive')\n"
      ]
    },
    {
      "cell_type": "code",
      "source": [
        "import cv2\n",
        "import numpy as np\n",
        "import pandas as pd\n",
        "from imutils import paths\n",
        "from google.colab.patches import cv2_imshow\n",
        "from tensorflow.keras.preprocessing import image\n",
        "import os\n",
        "import tensorflow as tf\n",
        "from keras.layers import Input\n",
        "import os\n",
        "from sklearn.metrics import confusion_matrix\n",
        "import matplotlib.pyplot as plt\n",
        "import seaborn as sns\n",
        "\n",
        "file_list = []\n",
        "file_list.append(os.listdir(r\"/content/drive/My Drive/real_and_fake_face/real\"))\n",
        "file_list.append(os.listdir(r\"/content/drive/My Drive/real_and_fake_face/fake\"))\n",
        "\n",
        "path = '/content/drive/My Drive/real_and_fake_face/'\n",
        "\n",
        "W = 224\n",
        "H = 224\n",
        "\n",
        "class_names = ['real', 'fake']\n",
        "\n",
        "X = []\n",
        "y = []\n",
        "\n",
        "for classes_files, classe in zip(file_list, range(10)):\n",
        "    for i in range(100):\n",
        "        name = str(path) + str(class_names[classe]) + str('/') + str(classes_files[i])\n",
        "        print(name)\n",
        "        imagem = cv2.imread(name)\n",
        "        imagem = cv2.resize(imagem, (W, H))\n",
        "        xd = image.img_to_array(imagem)\n",
        "        X.append(xd)\n",
        "        y.append(classe)\n",
        "\n",
        "np.save('X.npy', X)\n",
        "\n",
        "df_class = pd.DataFrame(y)\n",
        "df_class.to_csv('y.csv', header=False, index=False)\n",
        "from tensorflow.keras.utils import to_categorical\n",
        "\n",
        "y = pd.read_csv('y.csv', header=None)\n",
        "y = y.to_numpy()\n",
        "y = np.ravel(y)\n",
        "y = to_categorical(y)\n",
        "print(y.shape)\n",
        "\n",
        "X = np.load('X.npy')\n",
        "print(X.shape)\n",
        "\n",
        "import keras\n",
        "from keras.models import Sequential\n",
        "from keras.layers import Dense, Dropout, Flatten\n",
        "from keras.applications.vgg16 import VGG16\n",
        "\n",
        "vgg_conv = VGG16(weights='imagenet', include_top=False, input_shape=(W, H, 3))\n",
        "vgg_conv.trainable = False\n",
        "vgg_conv.summary()\n",
        "\n",
        "model = Sequential()\n",
        "model.add(vgg_conv)\n",
        "model.add(Flatten())\n",
        "model.add(Dense(2048, activation='relu'))\n",
        "model.add(Dense(1024, activation='relu'))\n",
        "model.add(Dropout(0.3))\n",
        "model.add(Dense(2, activation='softmax'))\n",
        "\n",
        "model.compile(loss=keras.losses.categorical_crossentropy, optimizer=tf.keras.optimizers.Adam(), metrics=['accuracy'])\n",
        "\n",
        "model.summary()\n",
        "\n",
        "from sklearn.model_selection import train_test_split\n",
        "from keras.preprocessing.image import ImageDataGenerator\n",
        "\n",
        "mc = tf.keras.callbacks.ModelCheckpoint(\n",
        "    filepath=fp,\n",
        "    save_weights_only=True,\n",
        "    monitor='val_accuracy',\n",
        "    mode='max',\n",
        "    save_best_only=True,\n",
        "    verbose=1\n",
        ")\n",
        "\n",
        "datagen = ImageDataGenerator(\n",
        "    rotation_range=10,\n",
        "    zoom_range=0.15,\n",
        "    width_shift_range=0.1,\n",
        "    height_shift_range=0.1\n",
        ")\n",
        "\n",
        "trainX, testX, trainY, testY = train_test_split(X, y, test_size=.3, random_state=42, stratify=y)\n",
        "\n",
        "trainX, valX, trainY, valY = train_test_split(trainX, trainY, test_size=.2, random_state=42, stratify=trainY)\n",
        "\n",
        "train_generator = datagen.flow(trainX, trainY, batch_size=32)\n",
        "val_generator = datagen.flow(valX, valY, batch_size=32)\n",
        "\n",
        "model.fit(\n",
        "    train_generator,\n",
        "    steps_per_epoch=len(trainX) // 32,\n",
        "    validation_data=val_generator,\n",
        "    validation_steps=len(valX) // 32,\n",
        "    epochs=30,\n",
        "    callbacks=[mc]\n",
        ")\n",
        "\n",
        "_, accuracy = model.evaluate(testX, testY)\n",
        "print('Test Accuracy: %.2f' % (accuracy * 100))\n",
        "\n",
        "y_pred = model.predict(testX)\n",
        "y_pred = np.argmax(y_pred, axis=1)\n",
        "y_true = np.argmax(testY, axis=1)\n",
        "cm = confusion_matrix(y_true, y_pred)\n",
        "\n",
        "class_names = ['real', 'fake']\n",
        "df_cm = pd.DataFrame(cm, index=class_names, columns=class_names)\n",
        "plt.figure(figsize=(8, 6))\n",
        "sns.heatmap(df_cm, annot=True, fmt=\"d\", cmap='Blues')\n",
        "plt.title('Confusion Matrix')\n",
        "plt.xlabel('Predicted')\n",
        "plt.ylabel('True')\n",
        "plt.show()\n"
      ],
      "metadata": {
        "colab": {
          "base_uri": "https://localhost:8080/",
          "height": 1000
        },
        "id": "sXAYwz0UcoyG",
        "outputId": "89652975-5b45-4169-de0e-9f4e8796c778"
      },
      "execution_count": null,
      "outputs": [
        {
          "output_type": "stream",
          "name": "stdout",
          "text": [
            "/content/drive/My Drive/real_and_fake_face/real/real_00071.jpg\n",
            "/content/drive/My Drive/real_and_fake_face/real/real_00076.jpg\n",
            "/content/drive/My Drive/real_and_fake_face/real/real_00100.jpg\n",
            "/content/drive/My Drive/real_and_fake_face/real/real_00131.jpg\n",
            "/content/drive/My Drive/real_and_fake_face/real/real_00056.jpg\n",
            "/content/drive/My Drive/real_and_fake_face/real/real_00086.jpg\n",
            "/content/drive/My Drive/real_and_fake_face/real/real_00164.jpg\n",
            "/content/drive/My Drive/real_and_fake_face/real/real_00079.jpg\n",
            "/content/drive/My Drive/real_and_fake_face/real/real_00026.jpg\n",
            "/content/drive/My Drive/real_and_fake_face/real/real_00127.jpg\n",
            "/content/drive/My Drive/real_and_fake_face/real/real_00074.jpg\n",
            "/content/drive/My Drive/real_and_fake_face/real/real_00123.jpg\n",
            "/content/drive/My Drive/real_and_fake_face/real/real_00103.jpg\n",
            "/content/drive/My Drive/real_and_fake_face/real/real_00140.jpg\n",
            "/content/drive/My Drive/real_and_fake_face/real/real_00134.jpg\n",
            "/content/drive/My Drive/real_and_fake_face/real/real_00095.jpg\n",
            "/content/drive/My Drive/real_and_fake_face/real/real_00043.jpg\n",
            "/content/drive/My Drive/real_and_fake_face/real/real_00118.jpg\n",
            "/content/drive/My Drive/real_and_fake_face/real/real_00050.jpg\n",
            "/content/drive/My Drive/real_and_fake_face/real/real_00148.jpg\n",
            "/content/drive/My Drive/real_and_fake_face/real/real_00132.jpg\n",
            "/content/drive/My Drive/real_and_fake_face/real/real_00091.jpg\n",
            "/content/drive/My Drive/real_and_fake_face/real/real_00084.jpg\n",
            "/content/drive/My Drive/real_and_fake_face/real/real_00169.jpg\n",
            "/content/drive/My Drive/real_and_fake_face/real/real_00046.jpg\n",
            "/content/drive/My Drive/real_and_fake_face/real/real_00145.jpg\n",
            "/content/drive/My Drive/real_and_fake_face/real/real_00024.jpg\n",
            "/content/drive/My Drive/real_and_fake_face/real/real_00088.jpg\n",
            "/content/drive/My Drive/real_and_fake_face/real/real_00137.jpg\n",
            "/content/drive/My Drive/real_and_fake_face/real/real_00087.jpg\n",
            "/content/drive/My Drive/real_and_fake_face/real/real_00167.jpg\n",
            "/content/drive/My Drive/real_and_fake_face/real/real_00142.jpg\n",
            "/content/drive/My Drive/real_and_fake_face/real/real_00069.jpg\n",
            "/content/drive/My Drive/real_and_fake_face/real/real_00080.jpg\n",
            "/content/drive/My Drive/real_and_fake_face/real/real_00126.jpg\n",
            "/content/drive/My Drive/real_and_fake_face/real/real_00170.jpg\n",
            "/content/drive/My Drive/real_and_fake_face/real/real_00162.jpg\n",
            "/content/drive/My Drive/real_and_fake_face/real/real_00119.jpg\n",
            "/content/drive/My Drive/real_and_fake_face/real/real_00114.jpg\n",
            "/content/drive/My Drive/real_and_fake_face/real/real_00038.jpg\n",
            "/content/drive/My Drive/real_and_fake_face/real/real_00093.jpg\n",
            "/content/drive/My Drive/real_and_fake_face/real/real_00098.jpg\n",
            "/content/drive/My Drive/real_and_fake_face/real/real_00097.jpg\n",
            "/content/drive/My Drive/real_and_fake_face/real/real_00083.jpg\n",
            "/content/drive/My Drive/real_and_fake_face/real/real_00129.jpg\n",
            "/content/drive/My Drive/real_and_fake_face/real/real_00066.jpg\n",
            "/content/drive/My Drive/real_and_fake_face/real/real_00147.jpg\n",
            "/content/drive/My Drive/real_and_fake_face/real/real_00141.jpg\n",
            "/content/drive/My Drive/real_and_fake_face/real/real_00122.jpg\n",
            "/content/drive/My Drive/real_and_fake_face/real/real_00117.jpg\n",
            "/content/drive/My Drive/real_and_fake_face/real/real_00073.jpg\n",
            "/content/drive/My Drive/real_and_fake_face/real/real_00105.jpg\n",
            "/content/drive/My Drive/real_and_fake_face/real/real_00112.jpg\n",
            "/content/drive/My Drive/real_and_fake_face/real/real_00111.jpg\n",
            "/content/drive/My Drive/real_and_fake_face/real/real_00042.jpg\n",
            "/content/drive/My Drive/real_and_fake_face/real/real_00171.jpg\n",
            "/content/drive/My Drive/real_and_fake_face/real/real_00055.jpg\n",
            "/content/drive/My Drive/real_and_fake_face/real/real_00040.jpg\n",
            "/content/drive/My Drive/real_and_fake_face/real/real_00152.jpg\n",
            "/content/drive/My Drive/real_and_fake_face/real/real_00036.jpg\n",
            "/content/drive/My Drive/real_and_fake_face/real/real_00052.jpg\n",
            "/content/drive/My Drive/real_and_fake_face/real/real_00065.jpg\n",
            "/content/drive/My Drive/real_and_fake_face/real/real_00059.jpg\n",
            "/content/drive/My Drive/real_and_fake_face/real/real_00057.jpg\n",
            "/content/drive/My Drive/real_and_fake_face/real/real_00104.jpg\n",
            "/content/drive/My Drive/real_and_fake_face/real/real_00102.jpg\n",
            "/content/drive/My Drive/real_and_fake_face/real/real_00089.jpg\n",
            "/content/drive/My Drive/real_and_fake_face/real/real_00096.jpg\n",
            "/content/drive/My Drive/real_and_fake_face/real/real_00149.jpg\n",
            "/content/drive/My Drive/real_and_fake_face/real/real_00031.jpg\n",
            "/content/drive/My Drive/real_and_fake_face/real/real_00032.jpg\n",
            "/content/drive/My Drive/real_and_fake_face/real/real_00116.jpg\n",
            "/content/drive/My Drive/real_and_fake_face/real/real_00061.jpg\n",
            "/content/drive/My Drive/real_and_fake_face/real/real_00157.jpg\n",
            "/content/drive/My Drive/real_and_fake_face/real/real_00143.jpg\n",
            "/content/drive/My Drive/real_and_fake_face/real/real_00150.jpg\n",
            "/content/drive/My Drive/real_and_fake_face/real/real_00068.jpg\n",
            "/content/drive/My Drive/real_and_fake_face/real/real_00094.jpg\n",
            "/content/drive/My Drive/real_and_fake_face/real/real_00023.jpg\n",
            "/content/drive/My Drive/real_and_fake_face/real/real_00160.jpg\n",
            "/content/drive/My Drive/real_and_fake_face/real/real_00049.jpg\n",
            "/content/drive/My Drive/real_and_fake_face/real/real_00060.jpg\n",
            "/content/drive/My Drive/real_and_fake_face/real/real_00109.jpg\n",
            "/content/drive/My Drive/real_and_fake_face/real/real_00128.jpg\n",
            "/content/drive/My Drive/real_and_fake_face/real/real_00028.jpg\n",
            "/content/drive/My Drive/real_and_fake_face/real/real_00125.jpg\n",
            "/content/drive/My Drive/real_and_fake_face/real/real_00159.jpg\n",
            "/content/drive/My Drive/real_and_fake_face/real/real_00121.jpg\n",
            "/content/drive/My Drive/real_and_fake_face/real/real_00048.jpg\n",
            "/content/drive/My Drive/real_and_fake_face/real/real_00135.jpg\n",
            "/content/drive/My Drive/real_and_fake_face/real/real_00182.jpg\n",
            "/content/drive/My Drive/real_and_fake_face/real/real_00195.jpg\n",
            "/content/drive/My Drive/real_and_fake_face/real/real_00248.jpg\n",
            "/content/drive/My Drive/real_and_fake_face/real/real_00200.jpg\n",
            "/content/drive/My Drive/real_and_fake_face/real/real_00282.jpg\n",
            "/content/drive/My Drive/real_and_fake_face/real/real_00267.jpg\n",
            "/content/drive/My Drive/real_and_fake_face/real/real_00239.jpg\n",
            "/content/drive/My Drive/real_and_fake_face/real/real_00237.jpg\n",
            "/content/drive/My Drive/real_and_fake_face/real/real_00294.jpg\n",
            "/content/drive/My Drive/real_and_fake_face/real/real_00306.jpg\n",
            "/content/drive/My Drive/real_and_fake_face/fake/easy_100_1111.jpg\n",
            "/content/drive/My Drive/real_and_fake_face/fake/easy_103_1111.jpg\n",
            "/content/drive/My Drive/real_and_fake_face/fake/easy_102_0101.jpg\n",
            "/content/drive/My Drive/real_and_fake_face/fake/easy_101_0010.jpg\n",
            "/content/drive/My Drive/real_and_fake_face/fake/easy_10_0001.jpg\n",
            "/content/drive/My Drive/real_and_fake_face/fake/easy_108_1111.jpg\n",
            "/content/drive/My Drive/real_and_fake_face/fake/easy_109_1111.jpg\n",
            "/content/drive/My Drive/real_and_fake_face/fake/easy_106_0011.jpg\n",
            "/content/drive/My Drive/real_and_fake_face/fake/easy_105_1100.jpg\n",
            "/content/drive/My Drive/real_and_fake_face/fake/easy_104_1000.jpg\n",
            "/content/drive/My Drive/real_and_fake_face/fake/easy_110_0001.jpg\n",
            "/content/drive/My Drive/real_and_fake_face/fake/easy_111_1101.jpg\n",
            "/content/drive/My Drive/real_and_fake_face/fake/easy_107_1011.jpg\n",
            "/content/drive/My Drive/real_and_fake_face/fake/easy_115_0010.jpg\n",
            "/content/drive/My Drive/real_and_fake_face/fake/easy_112_1001.jpg\n",
            "/content/drive/My Drive/real_and_fake_face/fake/easy_116_111.jpg\n",
            "/content/drive/My Drive/real_and_fake_face/fake/easy_117_0101.jpg\n",
            "/content/drive/My Drive/real_and_fake_face/fake/easy_114_1110.jpg\n",
            "/content/drive/My Drive/real_and_fake_face/fake/easy_119_0011.jpg\n",
            "/content/drive/My Drive/real_and_fake_face/fake/easy_121_0011.jpg\n",
            "/content/drive/My Drive/real_and_fake_face/fake/easy_120_0011.jpg\n",
            "/content/drive/My Drive/real_and_fake_face/fake/easy_11_1111.jpg\n",
            "/content/drive/My Drive/real_and_fake_face/fake/easy_118_1111.jpg\n",
            "/content/drive/My Drive/real_and_fake_face/fake/easy_113_0011.jpg\n",
            "/content/drive/My Drive/real_and_fake_face/fake/easy_133_1100.jpg\n",
            "/content/drive/My Drive/real_and_fake_face/fake/easy_126_0111.jpg\n",
            "/content/drive/My Drive/real_and_fake_face/fake/easy_131_1001.jpg\n",
            "/content/drive/My Drive/real_and_fake_face/fake/easy_134_0001.jpg\n",
            "/content/drive/My Drive/real_and_fake_face/fake/easy_130_1101.jpg\n",
            "/content/drive/My Drive/real_and_fake_face/fake/easy_132_0110.jpg\n",
            "/content/drive/My Drive/real_and_fake_face/fake/easy_127_0001.jpg\n",
            "/content/drive/My Drive/real_and_fake_face/fake/easy_12_1110.jpg\n",
            "/content/drive/My Drive/real_and_fake_face/fake/easy_123_0100.jpg\n",
            "/content/drive/My Drive/real_and_fake_face/fake/easy_125_0011.jpg\n",
            "/content/drive/My Drive/real_and_fake_face/fake/easy_124_1110.jpg\n",
            "/content/drive/My Drive/real_and_fake_face/fake/easy_122_1011.jpg\n",
            "/content/drive/My Drive/real_and_fake_face/fake/easy_129_1111.jpg\n",
            "/content/drive/My Drive/real_and_fake_face/fake/easy_128_0111.jpg\n",
            "/content/drive/My Drive/real_and_fake_face/fake/easy_136_0111.jpg\n",
            "/content/drive/My Drive/real_and_fake_face/fake/easy_138_0101.jpg\n",
            "/content/drive/My Drive/real_and_fake_face/fake/easy_135_0011.jpg\n",
            "/content/drive/My Drive/real_and_fake_face/fake/easy_140_1111.jpg\n",
            "/content/drive/My Drive/real_and_fake_face/fake/easy_143_0011.jpg\n",
            "/content/drive/My Drive/real_and_fake_face/fake/easy_139_0110.jpg\n",
            "/content/drive/My Drive/real_and_fake_face/fake/easy_144_1111.jpg\n",
            "/content/drive/My Drive/real_and_fake_face/fake/easy_137_0001.jpg\n",
            "/content/drive/My Drive/real_and_fake_face/fake/easy_141_0111.jpg\n",
            "/content/drive/My Drive/real_and_fake_face/fake/easy_13_1010.jpg\n",
            "/content/drive/My Drive/real_and_fake_face/fake/easy_145_1000.jpg\n",
            "/content/drive/My Drive/real_and_fake_face/fake/easy_147_1110.jpg\n",
            "/content/drive/My Drive/real_and_fake_face/fake/easy_142_1111.jpg\n",
            "/content/drive/My Drive/real_and_fake_face/fake/easy_146_1110.jpg\n",
            "/content/drive/My Drive/real_and_fake_face/fake/easy_212_0010.jpg\n",
            "/content/drive/My Drive/real_and_fake_face/fake/easy_150_0011.jpg\n",
            "/content/drive/My Drive/real_and_fake_face/fake/easy_187_1110.jpg\n",
            "/content/drive/My Drive/real_and_fake_face/fake/easy_211_1100.jpg\n",
            "/content/drive/My Drive/real_and_fake_face/fake/easy_233_0010.jpg\n",
            "/content/drive/My Drive/real_and_fake_face/fake/easy_181_1110.jpg\n",
            "/content/drive/My Drive/real_and_fake_face/fake/easy_205_1110.jpg\n",
            "/content/drive/My Drive/real_and_fake_face/fake/easy_237_0011.jpg\n",
            "/content/drive/My Drive/real_and_fake_face/fake/easy_235_1111.jpg\n",
            "/content/drive/My Drive/real_and_fake_face/fake/easy_151_1110.jpg\n",
            "/content/drive/My Drive/real_and_fake_face/fake/easy_216_1100.jpg\n",
            "/content/drive/My Drive/real_and_fake_face/fake/easy_230_1010.jpg\n",
            "/content/drive/My Drive/real_and_fake_face/fake/easy_197_1111.jpg\n",
            "/content/drive/My Drive/real_and_fake_face/fake/easy_1_1110.jpg\n",
            "/content/drive/My Drive/real_and_fake_face/fake/easy_198_0011.jpg\n",
            "/content/drive/My Drive/real_and_fake_face/fake/easy_26_1100.jpg\n",
            "/content/drive/My Drive/real_and_fake_face/fake/easy_239_1110.jpg\n",
            "/content/drive/My Drive/real_and_fake_face/fake/easy_185_1101.jpg\n",
            "/content/drive/My Drive/real_and_fake_face/fake/easy_155_0011.jpg\n",
            "/content/drive/My Drive/real_and_fake_face/fake/easy_148_0011.jpg\n",
            "/content/drive/My Drive/real_and_fake_face/fake/easy_195_1110.jpg\n",
            "/content/drive/My Drive/real_and_fake_face/fake/easy_152_0011.jpg\n",
            "/content/drive/My Drive/real_and_fake_face/fake/easy_172_1001.jpg\n",
            "/content/drive/My Drive/real_and_fake_face/fake/easy_238_1111.jpg\n",
            "/content/drive/My Drive/real_and_fake_face/fake/easy_182_0100.jpg\n",
            "/content/drive/My Drive/real_and_fake_face/fake/easy_224_1100.jpg\n",
            "/content/drive/My Drive/real_and_fake_face/fake/easy_232_1100.jpg\n",
            "/content/drive/My Drive/real_and_fake_face/fake/easy_201_0001.jpg\n",
            "/content/drive/My Drive/real_and_fake_face/fake/easy_163_1001.jpg\n",
            "/content/drive/My Drive/real_and_fake_face/fake/easy_175_0001.jpg\n",
            "/content/drive/My Drive/real_and_fake_face/fake/easy_223_0100.jpg\n",
            "/content/drive/My Drive/real_and_fake_face/fake/easy_178_1111.jpg\n",
            "/content/drive/My Drive/real_and_fake_face/fake/easy_170_0010.jpg\n",
            "/content/drive/My Drive/real_and_fake_face/fake/easy_159_1111.jpg\n",
            "/content/drive/My Drive/real_and_fake_face/fake/easy_191_0001.jpg\n",
            "/content/drive/My Drive/real_and_fake_face/fake/easy_204_0101.jpg\n",
            "/content/drive/My Drive/real_and_fake_face/fake/easy_168_0010.jpg\n",
            "/content/drive/My Drive/real_and_fake_face/fake/easy_24_0011.jpg\n",
            "/content/drive/My Drive/real_and_fake_face/fake/easy_19_0111.jpg\n",
            "/content/drive/My Drive/real_and_fake_face/fake/easy_189_1101.jpg\n",
            "/content/drive/My Drive/real_and_fake_face/fake/easy_179_0001.jpg\n",
            "/content/drive/My Drive/real_and_fake_face/fake/easy_218_0011.jpg\n",
            "/content/drive/My Drive/real_and_fake_face/fake/easy_21_0011.jpg\n",
            "/content/drive/My Drive/real_and_fake_face/fake/easy_166_1100.jpg\n",
            "/content/drive/My Drive/real_and_fake_face/fake/easy_199_1100.jpg\n",
            "/content/drive/My Drive/real_and_fake_face/fake/easy_217_1111.jpg\n",
            "/content/drive/My Drive/real_and_fake_face/fake/easy_16_1111.jpg\n",
            "/content/drive/My Drive/real_and_fake_face/fake/easy_186_1001.jpg\n",
            "(200, 2)\n",
            "(200, 224, 224, 3)\n",
            "Model: \"vgg16\"\n",
            "_________________________________________________________________\n",
            " Layer (type)                Output Shape              Param #   \n",
            "=================================================================\n",
            " input_2 (InputLayer)        [(None, 224, 224, 3)]     0         \n",
            "                                                                 \n",
            " block1_conv1 (Conv2D)       (None, 224, 224, 64)      1792      \n",
            "                                                                 \n",
            " block1_conv2 (Conv2D)       (None, 224, 224, 64)      36928     \n",
            "                                                                 \n",
            " block1_pool (MaxPooling2D)  (None, 112, 112, 64)      0         \n",
            "                                                                 \n",
            " block2_conv1 (Conv2D)       (None, 112, 112, 128)     73856     \n",
            "                                                                 \n",
            " block2_conv2 (Conv2D)       (None, 112, 112, 128)     147584    \n",
            "                                                                 \n",
            " block2_pool (MaxPooling2D)  (None, 56, 56, 128)       0         \n",
            "                                                                 \n",
            " block3_conv1 (Conv2D)       (None, 56, 56, 256)       295168    \n",
            "                                                                 \n",
            " block3_conv2 (Conv2D)       (None, 56, 56, 256)       590080    \n",
            "                                                                 \n",
            " block3_conv3 (Conv2D)       (None, 56, 56, 256)       590080    \n",
            "                                                                 \n",
            " block3_pool (MaxPooling2D)  (None, 28, 28, 256)       0         \n",
            "                                                                 \n",
            " block4_conv1 (Conv2D)       (None, 28, 28, 512)       1180160   \n",
            "                                                                 \n",
            " block4_conv2 (Conv2D)       (None, 28, 28, 512)       2359808   \n",
            "                                                                 \n",
            " block4_conv3 (Conv2D)       (None, 28, 28, 512)       2359808   \n",
            "                                                                 \n",
            " block4_pool (MaxPooling2D)  (None, 14, 14, 512)       0         \n",
            "                                                                 \n",
            " block5_conv1 (Conv2D)       (None, 14, 14, 512)       2359808   \n",
            "                                                                 \n",
            " block5_conv2 (Conv2D)       (None, 14, 14, 512)       2359808   \n",
            "                                                                 \n",
            " block5_conv3 (Conv2D)       (None, 14, 14, 512)       2359808   \n",
            "                                                                 \n",
            " block5_pool (MaxPooling2D)  (None, 7, 7, 512)         0         \n",
            "                                                                 \n",
            "=================================================================\n",
            "Total params: 14,714,688\n",
            "Trainable params: 0\n",
            "Non-trainable params: 14,714,688\n",
            "_________________________________________________________________\n",
            "Model: \"sequential_1\"\n",
            "_________________________________________________________________\n",
            " Layer (type)                Output Shape              Param #   \n",
            "=================================================================\n",
            " vgg16 (Functional)          (None, 7, 7, 512)         14714688  \n",
            "                                                                 \n",
            " flatten_1 (Flatten)         (None, 25088)             0         \n",
            "                                                                 \n",
            " dense_3 (Dense)             (None, 2048)              51382272  \n",
            "                                                                 \n",
            " dense_4 (Dense)             (None, 1024)              2098176   \n",
            "                                                                 \n",
            " dropout_1 (Dropout)         (None, 1024)              0         \n",
            "                                                                 \n",
            " dense_5 (Dense)             (None, 2)                 2050      \n",
            "                                                                 \n",
            "=================================================================\n",
            "Total params: 68,197,186\n",
            "Trainable params: 53,482,498\n",
            "Non-trainable params: 14,714,688\n",
            "_________________________________________________________________\n",
            "Epoch 1/30\n",
            "3/3 [==============================] - ETA: 0s - loss: 100.2035 - accuracy: 0.4479 "
          ]
        },
        {
          "output_type": "stream",
          "name": "stderr",
          "text": [
            "WARNING:tensorflow:Can save best model only with val_accuracy available, skipping.\n"
          ]
        },
        {
          "output_type": "stream",
          "name": "stdout",
          "text": [
            "\b\b\b\b\b\b\b\b\b\b\b\b\b\b\b\b\b\b\b\b\b\b\b\b\b\b\b\b\b\b\b\b\b\b\b\b\b\b\b\b\b\b\b\b\b\b\b\b\b\b\b\b\b\b\b\b\b\b\b\b\b\b\b\b\b\b\b\b\b\b\b\b\b\b\b\b\b\b\b\b\b\b\r3/3 [==============================] - 75s 23s/step - loss: 100.2035 - accuracy: 0.4479\n",
            "Epoch 2/30\n",
            "3/3 [==============================] - ETA: 0s - loss: 30.0852 - accuracy: 0.5938 "
          ]
        },
        {
          "output_type": "stream",
          "name": "stderr",
          "text": [
            "WARNING:tensorflow:Can save best model only with val_accuracy available, skipping.\n"
          ]
        },
        {
          "output_type": "stream",
          "name": "stdout",
          "text": [
            "\b\b\b\b\b\b\b\b\b\b\b\b\b\b\b\b\b\b\b\b\b\b\b\b\b\b\b\b\b\b\b\b\b\b\b\b\b\b\b\b\b\b\b\b\b\b\b\b\b\b\b\b\b\b\b\b\b\b\b\b\b\b\b\b\b\b\b\b\b\b\b\b\b\b\b\b\b\b\b\b\b\r3/3 [==============================] - 70s 23s/step - loss: 30.0852 - accuracy: 0.5938\n",
            "Epoch 3/30\n",
            "3/3 [==============================] - ETA: 0s - loss: 12.1642 - accuracy: 0.6625 "
          ]
        },
        {
          "output_type": "stream",
          "name": "stderr",
          "text": [
            "WARNING:tensorflow:Can save best model only with val_accuracy available, skipping.\n"
          ]
        },
        {
          "output_type": "stream",
          "name": "stdout",
          "text": [
            "\b\b\b\b\b\b\b\b\b\b\b\b\b\b\b\b\b\b\b\b\b\b\b\b\b\b\b\b\b\b\b\b\b\b\b\b\b\b\b\b\b\b\b\b\b\b\b\b\b\b\b\b\b\b\b\b\b\b\b\b\b\b\b\b\b\b\b\b\b\b\b\b\b\b\b\b\b\b\b\b\b\r3/3 [==============================] - 55s 17s/step - loss: 12.1642 - accuracy: 0.6625\n",
            "Epoch 4/30\n",
            "3/3 [==============================] - ETA: 0s - loss: 24.2943 - accuracy: 0.6000 "
          ]
        },
        {
          "output_type": "stream",
          "name": "stderr",
          "text": [
            "WARNING:tensorflow:Can save best model only with val_accuracy available, skipping.\n"
          ]
        },
        {
          "output_type": "stream",
          "name": "stdout",
          "text": [
            "\b\b\b\b\b\b\b\b\b\b\b\b\b\b\b\b\b\b\b\b\b\b\b\b\b\b\b\b\b\b\b\b\b\b\b\b\b\b\b\b\b\b\b\b\b\b\b\b\b\b\b\b\b\b\b\b\b\b\b\b\b\b\b\b\b\b\b\b\b\b\b\b\b\b\b\b\b\b\b\b\b\r3/3 [==============================] - 54s 16s/step - loss: 24.2943 - accuracy: 0.6000\n",
            "Epoch 5/30\n",
            "3/3 [==============================] - ETA: 0s - loss: 24.8200 - accuracy: 0.6146 "
          ]
        },
        {
          "output_type": "stream",
          "name": "stderr",
          "text": [
            "WARNING:tensorflow:Can save best model only with val_accuracy available, skipping.\n"
          ]
        },
        {
          "output_type": "stream",
          "name": "stdout",
          "text": [
            "\b\b\b\b\b\b\b\b\b\b\b\b\b\b\b\b\b\b\b\b\b\b\b\b\b\b\b\b\b\b\b\b\b\b\b\b\b\b\b\b\b\b\b\b\b\b\b\b\b\b\b\b\b\b\b\b\b\b\b\b\b\b\b\b\b\b\b\b\b\b\b\b\b\b\b\b\b\b\b\b\b\r3/3 [==============================] - 67s 22s/step - loss: 24.8200 - accuracy: 0.6146\n",
            "Epoch 6/30\n",
            "3/3 [==============================] - ETA: 0s - loss: 10.6940 - accuracy: 0.6625"
          ]
        },
        {
          "output_type": "stream",
          "name": "stderr",
          "text": [
            "WARNING:tensorflow:Can save best model only with val_accuracy available, skipping.\n"
          ]
        },
        {
          "output_type": "stream",
          "name": "stdout",
          "text": [
            "\b\b\b\b\b\b\b\b\b\b\b\b\b\b\b\b\b\b\b\b\b\b\b\b\b\b\b\b\b\b\b\b\b\b\b\b\b\b\b\b\b\b\b\b\b\b\b\b\b\b\b\b\b\b\b\b\b\b\b\b\b\b\b\b\b\b\b\b\b\b\b\b\b\b\b\b\b\b\b\b\b\r3/3 [==============================] - 55s 22s/step - loss: 10.6940 - accuracy: 0.6625\n",
            "Epoch 7/30\n",
            "3/3 [==============================] - ETA: 0s - loss: 6.4946 - accuracy: 0.8250 "
          ]
        },
        {
          "output_type": "stream",
          "name": "stderr",
          "text": [
            "WARNING:tensorflow:Can save best model only with val_accuracy available, skipping.\n"
          ]
        },
        {
          "output_type": "stream",
          "name": "stdout",
          "text": [
            "\b\b\b\b\b\b\b\b\b\b\b\b\b\b\b\b\b\b\b\b\b\b\b\b\b\b\b\b\b\b\b\b\b\b\b\b\b\b\b\b\b\b\b\b\b\b\b\b\b\b\b\b\b\b\b\b\b\b\b\b\b\b\b\b\b\b\b\b\b\b\b\b\b\b\b\b\b\b\b\b\r3/3 [==============================] - 55s 16s/step - loss: 6.4946 - accuracy: 0.8250\n",
            "Epoch 8/30\n",
            "3/3 [==============================] - ETA: 0s - loss: 10.7677 - accuracy: 0.7708"
          ]
        },
        {
          "output_type": "stream",
          "name": "stderr",
          "text": [
            "WARNING:tensorflow:Can save best model only with val_accuracy available, skipping.\n"
          ]
        },
        {
          "output_type": "stream",
          "name": "stdout",
          "text": [
            "\b\b\b\b\b\b\b\b\b\b\b\b\b\b\b\b\b\b\b\b\b\b\b\b\b\b\b\b\b\b\b\b\b\b\b\b\b\b\b\b\b\b\b\b\b\b\b\b\b\b\b\b\b\b\b\b\b\b\b\b\b\b\b\b\b\b\b\b\b\b\b\b\b\b\b\b\b\b\b\b\b\r3/3 [==============================] - 69s 22s/step - loss: 10.7677 - accuracy: 0.7708\n",
            "Epoch 9/30\n",
            "3/3 [==============================] - ETA: 0s - loss: 4.3002 - accuracy: 0.8333 "
          ]
        },
        {
          "output_type": "stream",
          "name": "stderr",
          "text": [
            "WARNING:tensorflow:Can save best model only with val_accuracy available, skipping.\n"
          ]
        },
        {
          "output_type": "stream",
          "name": "stdout",
          "text": [
            "\b\b\b\b\b\b\b\b\b\b\b\b\b\b\b\b\b\b\b\b\b\b\b\b\b\b\b\b\b\b\b\b\b\b\b\b\b\b\b\b\b\b\b\b\b\b\b\b\b\b\b\b\b\b\b\b\b\b\b\b\b\b\b\b\b\b\b\b\b\b\b\b\b\b\b\b\b\b\b\b\r3/3 [==============================] - 66s 22s/step - loss: 4.3002 - accuracy: 0.8333\n",
            "Epoch 10/30\n",
            "3/3 [==============================] - ETA: 0s - loss: 2.8724 - accuracy: 0.8875 "
          ]
        },
        {
          "output_type": "stream",
          "name": "stderr",
          "text": [
            "WARNING:tensorflow:Can save best model only with val_accuracy available, skipping.\n"
          ]
        },
        {
          "output_type": "stream",
          "name": "stdout",
          "text": [
            "\b\b\b\b\b\b\b\b\b\b\b\b\b\b\b\b\b\b\b\b\b\b\b\b\b\b\b\b\b\b\b\b\b\b\b\b\b\b\b\b\b\b\b\b\b\b\b\b\b\b\b\b\b\b\b\b\b\b\b\b\b\b\b\b\b\b\b\b\b\b\b\b\b\b\b\b\b\b\b\b\r3/3 [==============================] - 56s 22s/step - loss: 2.8724 - accuracy: 0.8875\n",
            "Epoch 11/30\n",
            "3/3 [==============================] - ETA: 0s - loss: 2.9600 - accuracy: 0.8625 "
          ]
        },
        {
          "output_type": "stream",
          "name": "stderr",
          "text": [
            "WARNING:tensorflow:Can save best model only with val_accuracy available, skipping.\n"
          ]
        },
        {
          "output_type": "stream",
          "name": "stdout",
          "text": [
            "\b\b\b\b\b\b\b\b\b\b\b\b\b\b\b\b\b\b\b\b\b\b\b\b\b\b\b\b\b\b\b\b\b\b\b\b\b\b\b\b\b\b\b\b\b\b\b\b\b\b\b\b\b\b\b\b\b\b\b\b\b\b\b\b\b\b\b\b\b\b\b\b\b\b\b\b\b\b\b\b\r3/3 [==============================] - 57s 16s/step - loss: 2.9600 - accuracy: 0.8625\n",
            "Epoch 12/30\n",
            "3/3 [==============================] - ETA: 0s - loss: 3.4053 - accuracy: 0.8125 "
          ]
        },
        {
          "output_type": "stream",
          "name": "stderr",
          "text": [
            "WARNING:tensorflow:Can save best model only with val_accuracy available, skipping.\n"
          ]
        },
        {
          "output_type": "stream",
          "name": "stdout",
          "text": [
            "\b\b\b\b\b\b\b\b\b\b\b\b\b\b\b\b\b\b\b\b\b\b\b\b\b\b\b\b\b\b\b\b\b\b\b\b\b\b\b\b\b\b\b\b\b\b\b\b\b\b\b\b\b\b\b\b\b\b\b\b\b\b\b\b\b\b\b\b\b\b\b\b\b\b\b\b\b\b\b\b\r3/3 [==============================] - 57s 22s/step - loss: 3.4053 - accuracy: 0.8125\n",
            "Epoch 13/30\n",
            "3/3 [==============================] - ETA: 0s - loss: 0.2051 - accuracy: 0.9896 "
          ]
        },
        {
          "output_type": "stream",
          "name": "stderr",
          "text": [
            "WARNING:tensorflow:Can save best model only with val_accuracy available, skipping.\n"
          ]
        },
        {
          "output_type": "stream",
          "name": "stdout",
          "text": [
            "\b\b\b\b\b\b\b\b\b\b\b\b\b\b\b\b\b\b\b\b\b\b\b\b\b\b\b\b\b\b\b\b\b\b\b\b\b\b\b\b\b\b\b\b\b\b\b\b\b\b\b\b\b\b\b\b\b\b\b\b\b\b\b\b\b\b\b\b\b\b\b\b\b\b\b\b\b\b\b\b\r3/3 [==============================] - 65s 22s/step - loss: 0.2051 - accuracy: 0.9896\n",
            "Epoch 14/30\n",
            "3/3 [==============================] - ETA: 0s - loss: 1.2312 - accuracy: 0.9125 "
          ]
        },
        {
          "output_type": "stream",
          "name": "stderr",
          "text": [
            "WARNING:tensorflow:Can save best model only with val_accuracy available, skipping.\n"
          ]
        },
        {
          "output_type": "stream",
          "name": "stdout",
          "text": [
            "\b\b\b\b\b\b\b\b\b\b\b\b\b\b\b\b\b\b\b\b\b\b\b\b\b\b\b\b\b\b\b\b\b\b\b\b\b\b\b\b\b\b\b\b\b\b\b\b\b\b\b\b\b\b\b\b\b\b\b\b\b\b\b\b\b\b\b\b\b\b\b\b\b\b\b\b\b\b\b\b\r3/3 [==============================] - 57s 22s/step - loss: 1.2312 - accuracy: 0.9125\n",
            "Epoch 15/30\n",
            "3/3 [==============================] - ETA: 0s - loss: 2.6308 - accuracy: 0.9375 "
          ]
        },
        {
          "output_type": "stream",
          "name": "stderr",
          "text": [
            "WARNING:tensorflow:Can save best model only with val_accuracy available, skipping.\n"
          ]
        },
        {
          "output_type": "stream",
          "name": "stdout",
          "text": [
            "\b\b\b\b\b\b\b\b\b\b\b\b\b\b\b\b\b\b\b\b\b\b\b\b\b\b\b\b\b\b\b\b\b\b\b\b\b\b\b\b\b\b\b\b\b\b\b\b\b\b\b\b\b\b\b\b\b\b\b\b\b\b\b\b\b\b\b\b\b\b\b\b\b\b\b\b\b\b\b\b\r3/3 [==============================] - 55s 22s/step - loss: 2.6308 - accuracy: 0.9375\n",
            "Epoch 16/30\n",
            "3/3 [==============================] - ETA: 0s - loss: 0.1990 - accuracy: 0.9792 "
          ]
        },
        {
          "output_type": "stream",
          "name": "stderr",
          "text": [
            "WARNING:tensorflow:Can save best model only with val_accuracy available, skipping.\n"
          ]
        },
        {
          "output_type": "stream",
          "name": "stdout",
          "text": [
            "\b\b\b\b\b\b\b\b\b\b\b\b\b\b\b\b\b\b\b\b\b\b\b\b\b\b\b\b\b\b\b\b\b\b\b\b\b\b\b\b\b\b\b\b\b\b\b\b\b\b\b\b\b\b\b\b\b\b\b\b\b\b\b\b\b\b\b\b\b\b\b\b\b\b\b\b\b\b\b\b\r3/3 [==============================] - 68s 23s/step - loss: 0.1990 - accuracy: 0.9792\n",
            "Epoch 17/30\n",
            "3/3 [==============================] - ETA: 0s - loss: 0.7175 - accuracy: 0.9625 "
          ]
        },
        {
          "output_type": "stream",
          "name": "stderr",
          "text": [
            "WARNING:tensorflow:Can save best model only with val_accuracy available, skipping.\n"
          ]
        },
        {
          "output_type": "stream",
          "name": "stdout",
          "text": [
            "\b\b\b\b\b\b\b\b\b\b\b\b\b\b\b\b\b\b\b\b\b\b\b\b\b\b\b\b\b\b\b\b\b\b\b\b\b\b\b\b\b\b\b\b\b\b\b\b\b\b\b\b\b\b\b\b\b\b\b\b\b\b\b\b\b\b\b\b\b\b\b\b\b\b\b\b\b\b\b\b\r3/3 [==============================] - 57s 17s/step - loss: 0.7175 - accuracy: 0.9625\n",
            "Epoch 18/30\n",
            "3/3 [==============================] - ETA: 0s - loss: 0.1078 - accuracy: 0.9792 "
          ]
        },
        {
          "output_type": "stream",
          "name": "stderr",
          "text": [
            "WARNING:tensorflow:Can save best model only with val_accuracy available, skipping.\n"
          ]
        },
        {
          "output_type": "stream",
          "name": "stdout",
          "text": [
            "\b\b\b\b\b\b\b\b\b\b\b\b\b\b\b\b\b\b\b\b\b\b\b\b\b\b\b\b\b\b\b\b\b\b\b\b\b\b\b\b\b\b\b\b\b\b\b\b\b\b\b\b\b\b\b\b\b\b\b\b\b\b\b\b\b\b\b\b\b\b\b\b\b\b\b\b\b\b\b\b\r3/3 [==============================] - 66s 22s/step - loss: 0.1078 - accuracy: 0.9792\n",
            "Epoch 19/30\n",
            "3/3 [==============================] - ETA: 0s - loss: 0.1827 - accuracy: 0.9625 "
          ]
        },
        {
          "output_type": "stream",
          "name": "stderr",
          "text": [
            "WARNING:tensorflow:Can save best model only with val_accuracy available, skipping.\n"
          ]
        },
        {
          "output_type": "stream",
          "name": "stdout",
          "text": [
            "\b\b\b\b\b\b\b\b\b\b\b\b\b\b\b\b\b\b\b\b\b\b\b\b\b\b\b\b\b\b\b\b\b\b\b\b\b\b\b\b\b\b\b\b\b\b\b\b\b\b\b\b\b\b\b\b\b\b\b\b\b\b\b\b\b\b\b\b\b\b\b\b\b\b\b\b\b\b\b\b\r3/3 [==============================] - 57s 22s/step - loss: 0.1827 - accuracy: 0.9625\n",
            "Epoch 20/30\n",
            "3/3 [==============================] - ETA: 0s - loss: 0.8028 - accuracy: 0.9688 "
          ]
        },
        {
          "output_type": "stream",
          "name": "stderr",
          "text": [
            "WARNING:tensorflow:Can save best model only with val_accuracy available, skipping.\n"
          ]
        },
        {
          "output_type": "stream",
          "name": "stdout",
          "text": [
            "\b\b\b\b\b\b\b\b\b\b\b\b\b\b\b\b\b\b\b\b\b\b\b\b\b\b\b\b\b\b\b\b\b\b\b\b\b\b\b\b\b\b\b\b\b\b\b\b\b\b\b\b\b\b\b\b\b\b\b\b\b\b\b\b\b\b\b\b\b\b\b\b\b\b\b\b\b\b\b\b\r3/3 [==============================] - 66s 21s/step - loss: 0.8028 - accuracy: 0.9688\n",
            "Epoch 21/30\n",
            "3/3 [==============================] - ETA: 0s - loss: 0.4158 - accuracy: 0.9500 "
          ]
        },
        {
          "output_type": "stream",
          "name": "stderr",
          "text": [
            "WARNING:tensorflow:Can save best model only with val_accuracy available, skipping.\n"
          ]
        },
        {
          "output_type": "stream",
          "name": "stdout",
          "text": [
            "\b\b\b\b\b\b\b\b\b\b\b\b\b\b\b\b\b\b\b\b\b\b\b\b\b\b\b\b\b\b\b\b\b\b\b\b\b\b\b\b\b\b\b\b\b\b\b\b\b\b\b\b\b\b\b\b\b\b\b\b\b\b\b\b\b\b\b\b\b\b\b\b\b\b\b\b\b\b\b\b\r3/3 [==============================] - 54s 22s/step - loss: 0.4158 - accuracy: 0.9500\n",
            "Epoch 22/30\n",
            "3/3 [==============================] - ETA: 0s - loss: 0.0530 - accuracy: 0.9875 "
          ]
        },
        {
          "output_type": "stream",
          "name": "stderr",
          "text": [
            "WARNING:tensorflow:Can save best model only with val_accuracy available, skipping.\n"
          ]
        },
        {
          "output_type": "stream",
          "name": "stdout",
          "text": [
            "\b\b\b\b\b\b\b\b\b\b\b\b\b\b\b\b\b\b\b\b\b\b\b\b\b\b\b\b\b\b\b\b\b\b\b\b\b\b\b\b\b\b\b\b\b\b\b\b\b\b\b\b\b\b\b\b\b\b\b\b\b\b\b\b\b\b\b\b\b\b\b\b\b\b\b\b\b\b\b\b\r3/3 [==============================] - 55s 17s/step - loss: 0.0530 - accuracy: 0.9875\n",
            "Epoch 23/30\n",
            "3/3 [==============================] - ETA: 0s - loss: 1.6550 - accuracy: 0.9625 "
          ]
        },
        {
          "output_type": "stream",
          "name": "stderr",
          "text": [
            "WARNING:tensorflow:Can save best model only with val_accuracy available, skipping.\n"
          ]
        },
        {
          "output_type": "stream",
          "name": "stdout",
          "text": [
            "\b\b\b\b\b\b\b\b\b\b\b\b\b\b\b\b\b\b\b\b\b\b\b\b\b\b\b\b\b\b\b\b\b\b\b\b\b\b\b\b\b\b\b\b\b\b\b\b\b\b\b\b\b\b\b\b\b\b\b\b\b\b\b\b\b\b\b\b\b\b\b\b\b\b\b\b\b\b\b\b\r3/3 [==============================] - 57s 22s/step - loss: 1.6550 - accuracy: 0.9625\n",
            "Epoch 24/30\n",
            "3/3 [==============================] - ETA: 0s - loss: 0.0696 - accuracy: 0.9625 "
          ]
        },
        {
          "output_type": "stream",
          "name": "stderr",
          "text": [
            "WARNING:tensorflow:Can save best model only with val_accuracy available, skipping.\n"
          ]
        },
        {
          "output_type": "stream",
          "name": "stdout",
          "text": [
            "\b\b\b\b\b\b\b\b\b\b\b\b\b\b\b\b\b\b\b\b\b\b\b\b\b\b\b\b\b\b\b\b\b\b\b\b\b\b\b\b\b\b\b\b\b\b\b\b\b\b\b\b\b\b\b\b\b\b\b\b\b\b\b\b\b\b\b\b\b\b\b\b\b\b\b\b\b\b\b\b\r3/3 [==============================] - 57s 22s/step - loss: 0.0696 - accuracy: 0.9625\n",
            "Epoch 25/30\n",
            "3/3 [==============================] - ETA: 0s - loss: 0.6261 - accuracy: 0.9750 "
          ]
        },
        {
          "output_type": "stream",
          "name": "stderr",
          "text": [
            "WARNING:tensorflow:Can save best model only with val_accuracy available, skipping.\n"
          ]
        },
        {
          "output_type": "stream",
          "name": "stdout",
          "text": [
            "\b\b\b\b\b\b\b\b\b\b\b\b\b\b\b\b\b\b\b\b\b\b\b\b\b\b\b\b\b\b\b\b\b\b\b\b\b\b\b\b\b\b\b\b\b\b\b\b\b\b\b\b\b\b\b\b\b\b\b\b\b\b\b\b\b\b\b\b\b\b\b\b\b\b\b\b\b\b\b\b\r3/3 [==============================] - 56s 17s/step - loss: 0.6261 - accuracy: 0.9750\n",
            "Epoch 26/30\n",
            "3/3 [==============================] - ETA: 0s - loss: 0.5757 - accuracy: 0.9500 "
          ]
        },
        {
          "output_type": "stream",
          "name": "stderr",
          "text": [
            "WARNING:tensorflow:Can save best model only with val_accuracy available, skipping.\n"
          ]
        },
        {
          "output_type": "stream",
          "name": "stdout",
          "text": [
            "\b\b\b\b\b\b\b\b\b\b\b\b\b\b\b\b\b\b\b\b\b\b\b\b\b\b\b\b\b\b\b\b\b\b\b\b\b\b\b\b\b\b\b\b\b\b\b\b\b\b\b\b\b\b\b\b\b\b\b\b\b\b\b\b\b\b\b\b\b\b\b\b\b\b\b\b\b\b\b\b\r3/3 [==============================] - 55s 17s/step - loss: 0.5757 - accuracy: 0.9500\n",
            "Epoch 27/30\n",
            "3/3 [==============================] - ETA: 0s - loss: 1.6654 - accuracy: 0.9375 "
          ]
        },
        {
          "output_type": "stream",
          "name": "stderr",
          "text": [
            "WARNING:tensorflow:Can save best model only with val_accuracy available, skipping.\n"
          ]
        },
        {
          "output_type": "stream",
          "name": "stdout",
          "text": [
            "\b\b\b\b\b\b\b\b\b\b\b\b\b\b\b\b\b\b\b\b\b\b\b\b\b\b\b\b\b\b\b\b\b\b\b\b\b\b\b\b\b\b\b\b\b\b\b\b\b\b\b\b\b\b\b\b\b\b\b\b\b\b\b\b\b\b\b\b\b\b\b\b\b\b\b\b\b\b\b\b\r3/3 [==============================] - 57s 17s/step - loss: 1.6654 - accuracy: 0.9375\n",
            "Epoch 28/30\n",
            "3/3 [==============================] - ETA: 0s - loss: 1.4775 - accuracy: 0.9625 "
          ]
        },
        {
          "output_type": "stream",
          "name": "stderr",
          "text": [
            "WARNING:tensorflow:Can save best model only with val_accuracy available, skipping.\n"
          ]
        },
        {
          "output_type": "stream",
          "name": "stdout",
          "text": [
            "\b\b\b\b\b\b\b\b\b\b\b\b\b\b\b\b\b\b\b\b\b\b\b\b\b\b\b\b\b\b\b\b\b\b\b\b\b\b\b\b\b\b\b\b\b\b\b\b\b\b\b\b\b\b\b\b\b\b\b\b\b\b\b\b\b\b\b\b\b\b\b\b\b\b\b\b\b\b\b\b\r3/3 [==============================] - 57s 22s/step - loss: 1.4775 - accuracy: 0.9625\n",
            "Epoch 29/30\n",
            "3/3 [==============================] - ETA: 0s - loss: 0.6481 - accuracy: 0.9688 "
          ]
        },
        {
          "output_type": "stream",
          "name": "stderr",
          "text": [
            "WARNING:tensorflow:Can save best model only with val_accuracy available, skipping.\n"
          ]
        },
        {
          "output_type": "stream",
          "name": "stdout",
          "text": [
            "\b\b\b\b\b\b\b\b\b\b\b\b\b\b\b\b\b\b\b\b\b\b\b\b\b\b\b\b\b\b\b\b\b\b\b\b\b\b\b\b\b\b\b\b\b\b\b\b\b\b\b\b\b\b\b\b\b\b\b\b\b\b\b\b\b\b\b\b\b\b\b\b\b\b\b\b\b\b\b\b\r3/3 [==============================] - 66s 22s/step - loss: 0.6481 - accuracy: 0.9688\n",
            "Epoch 30/30\n",
            "3/3 [==============================] - ETA: 0s - loss: 0.6261 - accuracy: 0.9625 "
          ]
        },
        {
          "output_type": "stream",
          "name": "stderr",
          "text": [
            "WARNING:tensorflow:Can save best model only with val_accuracy available, skipping.\n"
          ]
        },
        {
          "output_type": "stream",
          "name": "stdout",
          "text": [
            "3/3 [==============================] - 57s 22s/step - loss: 0.6261 - accuracy: 0.9625\n",
            "2/2 [==============================] - 38s 18s/step - loss: 9.2825 - accuracy: 0.5500\n",
            "Test Accuracy: 55.00\n",
            "2/2 [==============================] - 40s 18s/step\n"
          ]
        },
        {
          "output_type": "display_data",
          "data": {
            "text/plain": [
              "<Figure size 800x600 with 2 Axes>"
            ],
            "image/png": "[encoded data removed]"
          },
          "metadata": {}
        }
      ]
    }
  ]
}