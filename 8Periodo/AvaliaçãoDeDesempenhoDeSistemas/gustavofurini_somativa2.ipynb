{
  "cells": [
    {
      "cell_type": "markdown",
      "metadata": {
        "id": "k7kdf4hXgm2B"
      },
      "source": [
        "# SOMATIVA 02"
      ]
    },
    {
      "cell_type": "markdown",
      "metadata": {
        "id": "aIlCd1ECgm2C"
      },
      "source": [
        "## Estudante"
      ]
    },
    {
      "cell_type": "code",
      "execution_count": 82,
      "metadata": {
        "id": "Ie6A0KPzgm2C"
      },
      "outputs": [],
      "source": [
        "# Colocar seu nome aqui (desconto de 0,5 pontos se não colocar o nome)\n",
        "# GUSTAVO FURINI"
      ]
    },
    {
      "cell_type": "markdown",
      "metadata": {
        "id": "F46W6i1Wgm2D"
      },
      "source": [
        "## Conectar com Google drive"
      ]
    },
    {
      "cell_type": "markdown",
      "metadata": {
        "id": "Z3x6F5BFgm2D"
      },
      "source": [
        "## Avaliação dividida em quatro partes\n",
        "* Fila MMm (0,8 pontos)\n",
        "* Fila MG1 (0,7 pontos)\n",
        "* Redes de filas (0,5 pontos)\n",
        "* Cadeias de Markov (1,0)"
      ]
    },
    {
      "cell_type": "markdown",
      "metadata": {
        "id": "EXRhbv9wgm2D"
      },
      "source": [
        "### Importar bibliotecas"
      ]
    },
    {
      "cell_type": "code",
      "execution_count": 83,
      "metadata": {
        "id": "64H37ji0gm2D"
      },
      "outputs": [],
      "source": [
        "import numpy as np\n",
        "from IPython.display import Image, display"
      ]
    },
    {
      "cell_type": "markdown",
      "metadata": {
        "id": "JCYRWy5ogm2D"
      },
      "source": [
        "### Classes e funções"
      ]
    },
    {
      "cell_type": "markdown",
      "metadata": {
        "id": "SeRE0eY7gm2E"
      },
      "source": [
        "#### Fila MMm"
      ]
    },
    {
      "cell_type": "code",
      "execution_count": 84,
      "metadata": {
        "id": "Gq6USKhLgm2E"
      },
      "outputs": [],
      "source": [
        "import numpy as np\n",
        "from math import factorial\n",
        "from math import exp\n",
        "\n",
        "class FilaMMm:\n",
        "    def calculaP0(self):\n",
        "        soma = 0\n",
        "        for n in range(1, self.m):\n",
        "            soma = soma + (((self.m * self.ro) ** n) / factorial(n))\n",
        "        return 1 / (1 + ((self.m * self.ro) ** self.m) / (factorial(self.m) * (1 - self.ro)) + soma)\n",
        "\n",
        "    def __init__(self, lb, mu, m):\n",
        "        if (lb >= m*mu):\n",
        "            raise ValueError('Lambda deve ser menor do que m*mu')\n",
        "        self.lb = float(lb)\n",
        "        self.mu = float(mu)\n",
        "        self.m = m\n",
        "        self.ro = lb / (m*mu)\n",
        "        self.p0 = self.calculaP0()\n",
        "        self.epsilon = ((self.m*self.ro)**self.m)/((1-self.ro)*factorial(self.m))*self.p0\n",
        "        # valor esperado de Ns (quantidade media de tarefas servidas)\n",
        "        self.E_Ns = self.m * self.ro\n",
        "        # valor esperado de Nq (tamanho medio da fila)\n",
        "        self.E_Nq = (self.epsilon * self.ro) / (1 - self.ro)\n",
        "        # valor esperado de N 9quentidade media de tarefas no sistema)\n",
        "        self.E_N = self.E_Nq + self.E_Ns\n",
        "        # valor esperado de S (tempo de serviço médio)\n",
        "        self.E_S = 1 / self.mu\n",
        "        # valor esperado de W (tempo de espera medio na fila)\n",
        "        self.E_W = self.epsilon / (self.m * self.mu * (1 - self.ro))\n",
        "        # valor esperado de R (tempo de resposta medio)\n",
        "        self.E_R = self.E_S + self.E_W\n",
        "\n",
        "\n",
        "    def pmf_N(self, x):\n",
        "        if (x<0 or not(isinstance(False, int))):\n",
        "            raise ValueError('x deve ser inteiro positivo')\n",
        "        if (x < self.m):\n",
        "            return (((self.m * self.ro) ** x) / factorial(x)) * self.p0\n",
        "        else:\n",
        "            return (((self.ro ** x) * (self.m ** self.m)) / factorial(self.m)) * self.p0\n",
        "\n",
        "    def pmf_Ns(self, x):\n",
        "        if (x<0 or not(isinstance(False, int))):\n",
        "            raise ValueError('x deve ser inteiro positivo')\n",
        "        if (x < self.m):\n",
        "            return self.pmf_N(x)\n",
        "        if (x == self.m):\n",
        "            return self.epsilon\n",
        "        else:\n",
        "            return 0.0\n",
        "\n",
        "    def pmf_Nq(self, x):\n",
        "        if (x<0 or not(isinstance(False, int))):\n",
        "            raise ValueError('x deve ser inteiro positivo')\n",
        "        if (x == 0):\n",
        "            pNq = 0\n",
        "            for i in range(0, self.m +1):\n",
        "                pNq = pNq + self.pmf_N(i)\n",
        "            return pNq\n",
        "        else:\n",
        "            return self.pmf_N(x+self.m)\n",
        "\n",
        "    def cdf_W(self, x):\n",
        "        if (x<0):\n",
        "            raise ValueError('x deve ser positivo')\n",
        "        return 1 - (self.epsilon*exp(-self.m*self.mu*(1-self.ro)*x))\n",
        "\n",
        "    def cdf_R(self, x):\n",
        "        if (x<0):\n",
        "            raise ValueError('x deve ser positivo')\n",
        "        if (self.ro != (self.m-1)/self.m):\n",
        "            MULT = (self.epsilon / (1 - self.m + self.m * self.ro)) # calculado aqui para legibilidade\n",
        "            p = 1 - exp(-self.mu * x) - MULT * (exp(-self.m * self.mu * (1 - self.ro) * x) - exp(-self.mu * x))\n",
        "        else:\n",
        "            p = 1 - exp(-self.mu * x) - (\n",
        "                    self.epsilon * self.mu * x * exp(-self.mu * x))\n",
        "        return p"
      ]
    },
    {
      "cell_type": "markdown",
      "metadata": {
        "id": "xk1OF4DEgm2E"
      },
      "source": [
        "#### Fila MG1"
      ]
    },
    {
      "cell_type": "code",
      "execution_count": 85,
      "metadata": {
        "id": "rQu9zWwBgm2E"
      },
      "outputs": [],
      "source": [
        "from math import sqrt\n",
        "class FilaMG1:\n",
        "    def __init__(self, lb, E_S, DP_S):\n",
        "        if (lb >= 1/E_S):\n",
        "            raise ValueError('Lambda deve ser menor do que 1/E_S')\n",
        "        self.lb = float(lb)\n",
        "        self.E_S = float(E_S)\n",
        "        self.DP_S = DP_S\n",
        "        self.ro = lb * E_S\n",
        "        self.CV_S = DP_S / E_S\n",
        "\n",
        "        # valor esperado de Ns (tamanho medio da fila)\n",
        "        self.E_Ns = self.ro\n",
        "        # valor esperado de Nq (tamanho medio da fila)\n",
        "        self.E_Nq = (self.ro**2)*(1 +  self.CV_S**2) / (2*(1 - self.ro))\n",
        "        # valor esperado de N quantidade media de tarefas no sistema)\n",
        "        self.E_N = self.E_Nq + self.E_Ns\n",
        "        # valor esperado de W (tempo médio de espera na fila)\n",
        "        self.E_W = (self.ro*self.E_S) * (1 +  self.CV_S**2) / (2*(1 - self.ro))\n",
        "        # valor esperado de R (tempo de resposta medio)\n",
        "        self.E_R = self.E_S + self.E_W"
      ]
    },
    {
      "cell_type": "markdown",
      "metadata": {
        "id": "GeUbl408gm2E"
      },
      "source": [
        "#### cmtcP - cálculo das probabilidades do regime permanente"
      ]
    },
    {
      "cell_type": "code",
      "execution_count": 86,
      "metadata": {
        "id": "gPc88OOlgm2E"
      },
      "outputs": [],
      "source": [
        "def cmtcP(Q):\n",
        "    [r,c] = Q.shape\n",
        "    # A matriz que deve duas minensões iguais\n",
        "    # A soma das linhas deve ser igual a 0\n",
        "    # Na construção da matriz podem ser gerados valores cuja soma é muito próxima de zero\n",
        "    # Testar se o valor da soma é muito próximo de zero\n",
        "    if ((r != c) | (not np.all(np.isclose(np.sum(Q, 1),0)))):\n",
        "        raise Exception('Matriz P invalida!')\n",
        "\n",
        "    # Coloque seu código aqui\n",
        "    A = np.transpose(Q)\n",
        "    A = np.vstack((A, np.ones(r)))\n",
        "    B = np.zeros(r)\n",
        "    B = np.hstack((B,[1]))\n",
        "    A_pinv = np.linalg.pinv(A)\n",
        "    PI = np.dot(A_pinv, B)\n",
        "    return PI"
      ]
    },
    {
      "cell_type": "markdown",
      "metadata": {
        "id": "wuA6gpLbgm2E"
      },
      "source": [
        "## Fila MMm"
      ]
    },
    {
      "cell_type": "markdown",
      "metadata": {
        "id": "x7HZOYu_gm2E"
      },
      "source": [
        "### Questão 1 (valor 0,8)\n",
        "O modelo de atendimento de uma solução Web foi projetado com base em um modelo de fila M/M/1 (1 servidor com uma fila com tempos entre chegadas consecutivas e tempo de serviço com distribuição exponenciais). A taxa de chegada é de 0,45 mensagens por milissegundo e o tempo médio de processamento (tempo médio de serviço) é de 2,0 milissegundos. A equipe de desempenho quer avaliar o tempo na fila das transações.<br>\n",
        "a)  Criar a fila.<br>\n",
        "b)\tCalcular o tempo médio na fila.<br>\n",
        "c)\tCalcular a probabilidade de uma tarefa levar mais de 10 milissegundos na fila.<br>\n",
        "d)\tCalcular quantos servidores são necessários para que o tempo médio na fila seja menor do que 10 milissegundos.<br>\n",
        "e)\tCalcular a probabilidade de uma tarefa levar mais de 10 milissegundos para ser completada (tempo de resposta maior do que 10ms) para a quantidade de servidores calculada no item anterior."
      ]
    },
    {
      "cell_type": "markdown",
      "metadata": {
        "id": "Pu3TqUedgm2F"
      },
      "source": [
        "#### Criar a fila"
      ]
    },
    {
      "cell_type": "code",
      "execution_count": 87,
      "metadata": {
        "id": "Ty6eusFKgm2F"
      },
      "outputs": [],
      "source": [
        "# Criar fila\n",
        "m = 1\n",
        "lb = 0.45\n",
        "ES = 2\n",
        "mu = 1/ES\n",
        "fila = FilaMMm(lb, mu, m)"
      ]
    },
    {
      "cell_type": "markdown",
      "metadata": {
        "id": "uSVp3bzAgm2F"
      },
      "source": [
        "#### Calcular e imprimir o tempo médio na fila (valor 0,1)"
      ]
    },
    {
      "cell_type": "code",
      "execution_count": 88,
      "metadata": {
        "colab": {
          "base_uri": "https://localhost:8080/"
        },
        "id": "EazuZU5Kgm2F",
        "outputId": "b07d6da7-48df-48b6-9d0b-9c8703e55bce"
      },
      "outputs": [
        {
          "output_type": "stream",
          "name": "stdout",
          "text": [
            "18.000000000000004\n"
          ]
        }
      ],
      "source": [
        "# Calcular e imprimir o tempo médio na fila médio na fila\n",
        "print(fila.E_W)\n",
        "\n"
      ]
    },
    {
      "cell_type": "markdown",
      "metadata": {
        "id": "PXcuxCYugm2F"
      },
      "source": [
        "#### Calcular e imprimir a probabilidade de uma tarefa permanecer mais de 10 milissegundos na fila (valor 0,2)"
      ]
    },
    {
      "cell_type": "code",
      "execution_count": 89,
      "metadata": {
        "colab": {
          "base_uri": "https://localhost:8080/"
        },
        "id": "F0DTOY_Ggm2F",
        "outputId": "07e0c8de-30b0-4907-9279-6ec505deb276"
      },
      "outputs": [
        {
          "output_type": "stream",
          "name": "stdout",
          "text": [
            "0.5458775937413702\n"
          ]
        }
      ],
      "source": [
        "\n",
        "prob_maior_10ms_fila = 1 - fila.cdf_W(10)\n",
        "print(prob_maior_10ms_fila)\n"
      ]
    },
    {
      "cell_type": "markdown",
      "metadata": {
        "id": "J8c6DMETgm2F"
      },
      "source": [
        "#### Calcular e imprimir quantos servidores são necessários para que o tempo médio na fila seja menor do que 10 milissegundos (valor 0,3)"
      ]
    },
    {
      "cell_type": "code",
      "source": [
        "m = 1\n",
        "while True:\n",
        "    try:\n",
        "        fila = FilaMMm(lb, mu, m)\n",
        "        if fila.E_W < 10:\n",
        "            break\n",
        "        m += 1\n",
        "    except ValueError:\n",
        "        m +=1\n",
        "print(m)"
      ],
      "metadata": {
        "colab": {
          "base_uri": "https://localhost:8080/"
        },
        "id": "MHW6HN2YhBEu",
        "outputId": "71a4980a-668b-4c83-8e1e-b60b78d27212"
      },
      "execution_count": 90,
      "outputs": [
        {
          "output_type": "stream",
          "name": "stdout",
          "text": [
            "2\n"
          ]
        }
      ]
    },
    {
      "cell_type": "markdown",
      "metadata": {
        "id": "qyf1Lxkxgm2F"
      },
      "source": [
        "#### Calcular e imprimir a probabilidade de uma tarefa levar mais de 10 milissegundos para ser completada para a quantidade de servidores calculada no item anterior (valor 0,2)"
      ]
    },
    {
      "cell_type": "code",
      "execution_count": 91,
      "metadata": {
        "colab": {
          "base_uri": "https://localhost:8080/"
        },
        "id": "-gTsF1APgm2F",
        "outputId": "645d8a67-bd9f-4f81-a187-918f64c2dbf9"
      },
      "outputs": [
        {
          "output_type": "stream",
          "name": "stdout",
          "text": [
            "0.014142954599441815\n"
          ]
        }
      ],
      "source": [
        "fila = FilaMMm(lb, mu, m)\n",
        "prob_maior_10ms_resposta = 1 - fila.cdf_R(10)\n",
        "print(prob_maior_10ms_resposta)"
      ]
    },
    {
      "cell_type": "markdown",
      "metadata": {
        "id": "a84b1_Vxgm2F"
      },
      "source": [
        "## Fila MG1"
      ]
    },
    {
      "cell_type": "markdown",
      "metadata": {
        "id": "ZF-nwvmvgm2F"
      },
      "source": [
        "### Questão 2 (valor 0,7)\n",
        "Um servidor de autenticação recebe 15 solicitações por milissegundo. Verificou-se que distribuição do tempo entre duas chegadas consecutivas é exponencial. Verificou-se também que distribuição do tempo de serviço não é, mas a média do tempo de serviço é 0,042 milissegundos, e o desvio padrão é 0,031 milissegundos.<br>\n",
        "* a) Criar a fila.\n",
        "* b) Calcular o tempo de resposta médio.\n",
        "* c) Espera-se que o volume de tráfego (taxa de chegada) para o servidor dobre nos próximos 6 meses. Deseja-se que o tempo de reposta médio permaneça abaixo de 0,5 milissegundos. Verificar se será necessário aumentar a capacidade do servidor."
      ]
    },
    {
      "cell_type": "markdown",
      "metadata": {
        "id": "6ezN6uGsgm2F"
      },
      "source": [
        "#### Criar a fila"
      ]
    },
    {
      "cell_type": "code",
      "execution_count": 92,
      "metadata": {
        "id": "67PS8qsLgm2F"
      },
      "outputs": [],
      "source": [
        "# Criar a fila\n",
        "lb = 15\n",
        "E_S = 0.042\n",
        "DP_S = 0.031\n",
        "fila = FilaMG1(lb, E_S, DP_S)"
      ]
    },
    {
      "cell_type": "markdown",
      "metadata": {
        "id": "qvxTrmWvgm2F"
      },
      "source": [
        "#### Calcular tempo de resposta médio (valor 0,1)"
      ]
    },
    {
      "cell_type": "code",
      "execution_count": 93,
      "metadata": {
        "colab": {
          "base_uri": "https://localhost:8080/"
        },
        "id": "5Asuy9-kgm2F",
        "outputId": "410287bf-0779-47de-ae96-37fa830f873b"
      },
      "outputs": [
        {
          "output_type": "stream",
          "name": "stdout",
          "text": [
            "0.0972364864864865\n"
          ]
        }
      ],
      "source": [
        "# Calcular e imprimir o tempo de resposta médio\n",
        "print(fila.E_R)\n"
      ]
    },
    {
      "cell_type": "markdown",
      "metadata": {
        "id": "bZFAVSZQgm2F"
      },
      "source": [
        "#### Verificar se será necessário aumentar a capacidade do servidor (valor 0,2)"
      ]
    },
    {
      "cell_type": "code",
      "execution_count": 94,
      "metadata": {
        "colab": {
          "base_uri": "https://localhost:8080/"
        },
        "id": "Vn5T71iKgm2F",
        "outputId": "7a48c423-5dcb-4c22-b057-384b082973e7"
      },
      "outputs": [
        {
          "output_type": "stream",
          "name": "stdout",
          "text": [
            "NÃO é capaz de atender\n"
          ]
        }
      ],
      "source": [
        "# Testar se o sistemas é capaz de atender o novo volume de tráfego\n",
        "# Dicas\n",
        "# Lembrar de colocar o novo volume de táfego (lambda)\n",
        "# Tentar criar a fila com novo volume de tráfego e imprimir o tempo de resposta caso a fila tenha sido criada\n",
        "# Caso não seja possível criar a fila informar que o sistema não é capaz de atender o novo volume de tráfego\n",
        "# Colocar seu código aqui\n",
        "\n",
        "novo_lb = lb * 2\n",
        "try:\n",
        "  nova_fila = FilaMG1(novo_lb, E_S, DP_S)\n",
        "  if nova_fila.E_R < 0.5:\n",
        "    print(\"é capaz de atender\")\n",
        "  else:\n",
        "    print(\"NÃO é capaz de atender\")\n",
        "except ValueError:\n",
        "  print(\"NÃO é capaz de atender\")\n"
      ]
    },
    {
      "cell_type": "markdown",
      "metadata": {
        "id": "UeHWimqFgm2F"
      },
      "source": [
        "#### Calcular a maior carga (lambda) a que pode ser submetida ao sistema sem que o tempo de resposta seja maior do que 0,5 (valor 0,4)"
      ]
    },
    {
      "cell_type": "code",
      "execution_count": 95,
      "metadata": {
        "colab": {
          "base_uri": "https://localhost:8080/"
        },
        "id": "8mzUQY7Fgm2F",
        "outputId": "2920a056-8bc1-45b5-bcfe-6884f09a69d2"
      },
      "outputs": [
        {
          "output_type": "stream",
          "name": "stdout",
          "text": [
            "A maior carga: 22.200000000000085\n",
            "O tempo de resposta para a maior carga: 0.4894482248520963 \n"
          ]
        }
      ],
      "source": [
        "# Calcular a maior carga (lambda) a que pode ser submetida ao sistema sem que o tempo de resposta seja maior do que 0,5\n",
        "# Dica:\n",
        "# Criar novas filas com valores maiores de taxa de chegada\n",
        "# Iniciar a carga em 15 e aumentar gradativamente (passos de 0.1) até o tempo de resposta ser maior do que 0.5\n",
        "# Para cada nova carga calcular o tempo de resposta\n",
        "# Coloque seu código aqui\n",
        "# Imprimir a maior carga e o tempo de resposta\n",
        "\n",
        "lambda_max = 15\n",
        "while True:\n",
        "  try:\n",
        "    fila = FilaMG1(lambda_max, E_S, DP_S)\n",
        "    if fila.E_R > 0.5:\n",
        "      lambda_max -= 0.1\n",
        "      break\n",
        "    lambda_max += 0.1\n",
        "  except ValueError:\n",
        "    break\n",
        "print(f\"A maior carga: {lambda_max}\")\n",
        "fila = FilaMG1(lambda_max, E_S, DP_S)\n",
        "print(f\"O tempo de resposta para a maior carga: {fila.E_R} \")"
      ]
    },
    {
      "cell_type": "markdown",
      "metadata": {
        "id": "6kvI4JY2gm2G"
      },
      "source": [
        "## Rede de filas"
      ]
    },
    {
      "cell_type": "markdown",
      "metadata": {
        "id": "cB18c2gXgm2G"
      },
      "source": [
        "## Medidas Operacionais\n",
        "* $T$: Tempo total de observação\n",
        "* $M$: Número de dispositivos no sistema\n",
        "* $C$: Quantidade de chegadas ao sistema no tempo T\n",
        "* $C_{i}$: Quantidade de chegadas ao subsistema i no tempo T\n",
        "* $P$: Quantidade de partidas do sistema (solicitações tratadas) no tempo de observação\n",
        "* $P_{i}$: Quantidade de partidas do subsistema i (solicitações tratadas) no tempo de observação\n",
        "* $\\lambda$: Taxa de chegada no sistema\n",
        "* $\\lambda_{i}$: Taxa de chegada no subsistema i                \n",
        "* $\\mu$: Vazão do sistema\n",
        "* $V$: Vazão do subsistema i\n",
        "* $D$: Demanda - tempo no sistema para atender uma tarefa (incluindo todas as visitas)\n",
        "* $D_{i}$: Demanda - tempo no subsistema i para atender uma tarefa (incluindo todas as visitas)\n",
        "* $V_{i}$: Número de visitas ao subsistema i necessárias para atender uma tarefa\n",
        "* $N$: Número médio de tarefas no sistema\n",
        "* $N_{i}$: Número médio de tarefas no subsistema i\n",
        "* $R$: Tempo médio de resposta do sistema\n",
        "* $R_{i}$: Tempo médio de resposta do subsistema i\n",
        "* $S$: Tempo médio de serviço no sistema\n",
        "* $S_{i}$: Tempo médio de serviço no subsistema i\n",
        "* $B$: Tempo que o sistema permanece ocupado\n",
        "* $B_{i}$: Tempo que o subsistema i permanece ocupado\n",
        "* $U$: Taxa de utilização do sistema\n",
        "* $U_{i}$: Taxa de utilização do subsistema i"
      ]
    },
    {
      "cell_type": "markdown",
      "metadata": {
        "id": "ZG8nhiHxgm2J"
      },
      "source": [
        "## Relações Operacionais\n",
        "* $\\lambda_{i}=C_{i}/T$\n",
        "* $\\mu_{i}=P_{i}/T$\n",
        "* $U_{i}=B_{i}/T$\n",
        "* $S_{i}=B_{i}/P_{i}$\n",
        "* $V_{i}=P_{i}/P$\n",
        "* $\\mu_{i}=\\mu/V_{i}$\n",
        "\n",
        "\n",
        "* $D=\\sum_{}^{}D_{i}$\n",
        "* $D_{i}=S_{i}\\cdot V_{i}$\n",
        "* $U_{i}=\\mu_{i}\\cdot S_{i}=\\mu\\cdot S_{i}\\cdot V_{i}=\\mu \\cdot D_{i}$\n",
        "* $N_{i}= U_{i} / (1 - U_{i})$\n",
        "* $N_{i}= \\mu_{i} \\cdot R_{i}$\n",
        "* $N=\\sum_{}^{}N_{i}$\n",
        "* $R_{i}= S_{i} / (1 - U_{i})$\n",
        "* $R=\\sum_{}^{} R_{i}\\cdot V_{i}$"
      ]
    },
    {
      "cell_type": "markdown",
      "metadata": {
        "id": "VXHfgWqMgm2J"
      },
      "source": [
        "### Questão 2 (valor 1,0)\n",
        "O desempenho de um servidor web está sendo avaliado. A taxa de utilização observada foi de 40%. O tempo de resposta médio das transações foi de 0,18 milissegundos.<br>\n",
        "* a) Calcular o número medio de transações executadas nesse período de observação. (valor 0,25)\n",
        "* b) Calcular a vazão. (valor 0,25)\n",
        "* c) Calcular o tempo de serviço médio. (valor 0,25)\n",
        "* d) Calcular o tempo de resposta se a taxa de utilização subir para 70%. (valor 0,25)\n",
        "\n",
        "\n",
        "Dados\n",
        "* $U = 0.4$\n",
        "* $R = 0.18$<br>"
      ]
    },
    {
      "cell_type": "code",
      "source": [
        "U = 0.4\n",
        "R = 0.18\n",
        "\n",
        "# Calcular e imprimir o número médio de tarefas no sistema (valor 0,25)\n",
        "N = U / (1 - U)\n",
        "print(N)\n",
        "# Calcular e imprimir a vazão (valor 0,25)\n",
        "mu = N / R\n",
        "print(mu)\n",
        "# Calcular e imprimir o tempo de serviço médio (S) (valor 0,25)\n",
        "S = U / mu\n",
        "print(S)\n",
        "# Recalcular e imprimir o tempo de resposta para utilização de 70% (valor 0,25)\n",
        "U_novo = 0.7\n",
        "R_novo = S / (1 - U_novo)\n",
        "print(R_novo)"
      ],
      "metadata": {
        "colab": {
          "base_uri": "https://localhost:8080/"
        },
        "id": "jMKGrm6uijN7",
        "outputId": "827692d6-1c41-4d24-907f-d96baee0f1e9"
      },
      "execution_count": 96,
      "outputs": [
        {
          "output_type": "stream",
          "name": "stdout",
          "text": [
            "0.6666666666666667\n",
            "3.703703703703704\n",
            "0.108\n",
            "0.35999999999999993\n"
          ]
        }
      ]
    },
    {
      "cell_type": "markdown",
      "metadata": {
        "id": "MMrnUDDggm2J"
      },
      "source": [
        "## Cadeias de Markov"
      ]
    },
    {
      "cell_type": "markdown",
      "metadata": {
        "id": "NK2BGSI9gm2J"
      },
      "source": [
        "### Questão 3 (valor 2,0)\n",
        "Um cluster é formado por 2 servidores que podem falhar e recuperar-se independentemente. O cluster falha apenas se os dois servidores falharem simultaneamente. Apenas uma falha ou recuperação pode ocorrer de cada vez. O cluster pode estar em 4 estados: Estado 0 - nenhum servidor falhado; Estado 1 - apenas servidor 1 falhado; Estado 2 - apenas servidor 2 falhado; Estado 3 - ambos servidores falhados. Apenas 1 falha ou 1 recuperação ocorre de cada vez. Quando o cluster encontra-se no estado sem falhas, as taxas de falha e de recuperação do servidor 1 são 10 falhas por ano e 100 recuperações por ano, enquanto que as taxas de falha e recuperação do servidor 2 são 20 falhas por ano e 100 recuperações por ano. Quando ambos servidores são falhados, as taxas de recuperação do servidor 1 e do servidor 2 são iguais a 100 recuperações por ano. Os tempos para falhar e para restaurar têm distribuição exponencial.<br>\n",
        "* a) Calcular a matriz Q (valor 1,0).\n",
        "* b) Calcular as probabilidades do regime permanente (valor 0,5).\n",
        "* c) Se o cluster falha apenas quando os dois servidores falharem, calcular a disponipilidade do cluster (dica: a disponibilidade é a soma das probabilidades de permanência nos estados onde o cluster não falha) (valor 0,5).\n",
        "\n",
        "\n",
        "O problema pode é modelado pela seguinte cadeia de  Markov de tempo contínuo."
      ]
    },
    {
      "cell_type": "code",
      "execution_count": 97,
      "metadata": {
        "colab": {
          "base_uri": "https://localhost:8080/",
          "height": 267
        },
        "id": "R-WyIKv8gm2J",
        "outputId": "7cdfa778-f14c-4267-fb5b-70ba5fa77bd0"
      },
      "outputs": [
        {
          "output_type": "display_data",
          "data": {
            "image/jpeg": "[encoded data removed]",
            "text/plain": [
              "<IPython.core.display.Image object>"
            ]
          },
          "metadata": {}
        }
      ],
      "source": [
        "#display(Image('S02Q04_Imagem.jpg'))\n",
        "display(Image('/content/S02Q04_Imagem.jpg'))"
      ]
    },
    {
      "cell_type": "code",
      "source": [
        "# Calcular e apresentar a matriz Q\n",
        "Q = np.array([[0, 0, 0, 0],\n",
        "              [0, 0, 0, 0],\n",
        "              [0, 0, 0, 0],\n",
        "              [0, 0, 0, 0]], dtype=np.float64)\n",
        "\n",
        "# Taxas de falha e recuperação\n",
        "lambda_1 = 10\n",
        "mu_1 = 100\n",
        "lambda_2 = 20\n",
        "mu_2 = 100\n",
        "\n",
        "# Preencher a matriz Q\n",
        "Q[0, 1] = lambda_1\n",
        "Q[0, 2] = lambda_2\n",
        "Q[1, 0] = mu_1\n",
        "Q[1, 3] = lambda_2\n",
        "Q[2, 0] = mu_2\n",
        "Q[2, 3] = lambda_1\n",
        "Q[3, 1] = mu_1\n",
        "Q[3, 2] = mu_2\n",
        "\n",
        "# Diagonal principal\n",
        "Q[0, 0] = -(Q[0, 1] + Q[0, 2])\n",
        "Q[1, 1] = -(Q[1, 0] + Q[1, 3])\n",
        "Q[2, 2] = -(Q[2, 0] + Q[2, 3])\n",
        "Q[3, 3] = -(Q[3, 1] + Q[3, 2])\n",
        "\n",
        "print(Q)"
      ],
      "metadata": {
        "colab": {
          "base_uri": "https://localhost:8080/"
        },
        "id": "ANEC5DRUjHrk",
        "outputId": "4d12162f-8d5f-44c5-b465-d7ee57f3ee66"
      },
      "execution_count": 98,
      "outputs": [
        {
          "output_type": "stream",
          "name": "stdout",
          "text": [
            "[[ -30.   10.   20.    0.]\n",
            " [ 100. -120.    0.   20.]\n",
            " [ 100.    0. -110.   10.]\n",
            " [   0.  100.  100. -200.]]\n"
          ]
        }
      ]
    },
    {
      "cell_type": "code",
      "source": [
        "# Calcular e imprimir a disponibilidade do cluster (valor 0,5)\n",
        "# Colocar seu código aqui\n",
        "PI = cmtcP(Q)\n",
        "print(PI)\n",
        "disponibilidade = PI[0] + PI[1] + PI[2]\n",
        "disponibilidade"
      ],
      "metadata": {
        "colab": {
          "base_uri": "https://localhost:8080/"
        },
        "id": "-dQpnmNYnAxa",
        "outputId": "42b1cd8a-da6d-4952-8419-f3269760f121"
      },
      "execution_count": 99,
      "outputs": [
        {
          "output_type": "stream",
          "name": "stdout",
          "text": [
            "[0.75757576 0.07575758 0.15151515 0.01515152]\n"
          ]
        },
        {
          "output_type": "execute_result",
          "data": {
            "text/plain": [
              "0.9848484848484843"
            ]
          },
          "metadata": {},
          "execution_count": 99
        }
      ]
    },
    {
      "cell_type": "code",
      "source": [
        "\n",
        "# Calcular e imprimir disponibilidade do cluster (valor 0,5)\n",
        "disponibilidade = PI[0] + PI[1] + PI[2]\n",
        "disponibilidade"
      ],
      "metadata": {
        "colab": {
          "base_uri": "https://localhost:8080/"
        },
        "id": "68oKFJGTnEXP",
        "outputId": "bfa99fe3-fb7d-493f-f801-adefa3ab752a"
      },
      "execution_count": 100,
      "outputs": [
        {
          "output_type": "execute_result",
          "data": {
            "text/plain": [
              "0.9848484848484843"
            ]
          },
          "metadata": {},
          "execution_count": 100
        }
      ]
    }
  ],
  "metadata": {
    "kernelspec": {
      "display_name": "Python 3 (ipykernel)",
      "language": "python",
      "name": "python3"
    },
    "language_info": {
      "codemirror_mode": {
        "name": "ipython",
        "version": 3
      },
      "file_extension": ".py",
      "mimetype": "text/x-python",
      "name": "python",
      "nbconvert_exporter": "python",
      "pygments_lexer": "ipython3",
      "version": "3.12.3"
    },
    "colab": {
      "provenance": []
    }
  },
  "nbformat": 4,
  "nbformat_minor": 0
}